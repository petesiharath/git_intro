{
 "cells": [
  {
   "cell_type": "markdown",
   "metadata": {
    "slideshow": {
     "slide_type": "slide"
    }
   },
   "source": [
    "\n",
    "# Programming and Data Analysis for Scientists![image.png]\n",
    "## Workshop 5: Validating models & using uncertainties and sample weights\n",
    "## Wednesday 23rd October 2023\n",
    "## Data Science Techniques \n",
    "\n",
    "### Recap of workshop 4\n",
    "- Data exploration and visualisation\n",
    "- Correlations\n",
    "- Data trends and regression models\n"
   ]
  },
  {
   "cell_type": "markdown",
   "metadata": {
    "slideshow": {
     "slide_type": "slide"
    }
   },
   "source": [
    "# Reminders\n",
    "\n",
    "## Supporting lectures and seminars\n",
    "We are currently in week 5. \n",
    "\n",
    "Lecture, week 6, Ella Gale. \n",
    "\n",
    "Seminar, week 9"
   ]
  },
  {
   "cell_type": "markdown",
   "metadata": {
    "slideshow": {
     "slide_type": "slide"
    }
   },
   "source": [
    "## Assessment\n",
    "### \"Tests\": 5% of final year mark for each (5 in total)\n",
    "Test 2 (online test) was released this morning at 9am. \n",
    "This will be due on Wednesday 1st November, 12pm (week 6).\n",
    "\n",
    "### \"Assessments\": 15% of final year mark for each (3 in total)\n",
    "Assessment 1 will be released Monday 31st October, 9am (week 6)\n",
    "This will be due on Wednesday 16th November, 12pm (week 8)\n",
    "\n",
    "### \"Final Assessment and Report\": 30% of final year mark (1)\n",
    "This will be in Term 2"
   ]
  },
  {
   "cell_type": "markdown",
   "metadata": {
    "slideshow": {
     "slide_type": "slide"
    }
   },
   "source": [
    "# Before the workshop\n",
    "## Reminder about the activity from end of workshop 4\n",
    "\n",
    "Asynchronous activities to be completed before Monday 23rd October 2023.\n",
    "\n",
    "Look into the definitions of supervised learning and unsupervised learning. You may find this IBM post a good place to start:\n",
    "\n",
    "https://www.ibm.com/cloud/blog/supervised-vs-unsupervised-learning\n",
    "\n",
    "Can you think of any real-world applications of these methods?\n",
    "\n",
    "Post your answers and your understanding of these terms on Padlet to discuss in the next workshop.\n",
    "\n",
    "Padlet: https://uob.padlet.org/mairegorman/mz886aubg20ngnp\n",
    "Password: workshop4"
   ]
  },
  {
   "cell_type": "markdown",
   "metadata": {},
   "source": [
    "# Reflection: Debugging strategies\n",
    "\n",
    "### What debugging strategies did you use in the previous workshop? \n",
    "\n",
    "Join menti.com, code 8753 9607. "
   ]
  },
  {
   "cell_type": "markdown",
   "metadata": {
    "slideshow": {
     "slide_type": "slide"
    }
   },
   "source": [
    "\n",
    "### Today's session\n",
    "\n",
    "**Aim:** Validating models, and using uncertainties and sample weights\n",
    "\n",
    "- What is the difference between supervised learning and unsupervised learning?\n",
    "  \n",
    "- How we can test the models we build to ensure adequate generalisation\n",
    "    - Workshop5_01_model_validation.ipynb\n",
    "     \n",
    "- Using sample weights and uncertainties\n",
    "    - Workshop5_02_weights.ipynb"
   ]
  },
  {
   "cell_type": "markdown",
   "metadata": {
    "slideshow": {
     "slide_type": "slide"
    }
   },
   "source": [
    "## Supervised vs unsupervised learning\n",
    "\n",
    "In the past couple of workshops we've started to explore some machine learning techniques. \n",
    "\n",
    "Last week you were asked to read a little bit about supervised and unsupervised learning. \n",
    "\n",
    "![Alt](img/Overview-ML.PNG \"Overview of ML types, taken from MATLAB online course\")\n",
    "\n",
    "\n"
   ]
  },
  {
   "cell_type": "markdown",
   "metadata": {},
   "source": [
    "# Supervised Learning: Classificaiton versus Regression \n",
    "Classificaiton problems typically involve classifying images into groups. \n",
    "\n",
    "Regression problems involve using input data to make predictions e.g. linear regression. \n",
    "\n",
    "![Alt](img/Classification_regression.png \"Overview of ML algorithms, taken from MATLAB online course\")\n",
    "\n",
    "This week we are going to look at in detail how we can validate regression models. For references, classification problems are often validated by the use of a \"confusion matrix\". \n",
    "\n",
    "\n",
    "As an example, let's suppose you were using machine learning to classify the following images into categories: \n",
    "![Alt](img/classification.PNG \"Selection of images\")\n",
    "\n",
    "In order to test the validity of any model which does this classification, you could create a \"confusion matrix\". \n",
    "![Alt](img/confusion-matrix.PNG \"Sample confusion matrix taken from MATLAB online course\")"
   ]
  },
  {
   "cell_type": "markdown",
   "metadata": {
    "slideshow": {
     "slide_type": "slide"
    }
   },
   "source": [
    "# Machine Learning Algorithms\n",
    "Overall there are many different types of machine-learning algorithms available. \n",
    "\n",
    "It is important to be aware of limitations and caveats for any model fitted to data. \n",
    "\n",
    "Hence, if you are ML consultant working in a consultancy role, it is vital to engage with your client to understand biases in data which will be propagated through into your model. \n",
    "\n",
    "![Alt](img/ML-Algorithms.PNG \"Overview of ML algorithms, taken from MATLAB online course\")\n",
    "\n",
    "\n"
   ]
  },
  {
   "cell_type": "markdown",
   "metadata": {
    "slideshow": {
     "slide_type": "slide"
    }
   },
   "source": [
    "# Biases in research\n",
    "\n",
    "Research is not done in a vacuum: it interacts with social-political context. At every step of a research process there are decisions to be made which results in bias creeping in. \n",
    "\n",
    "- Which research topics get prioritized by research councils? \n",
    "- Link to existing literature. \n",
    "- Within individual universities who is granted the time to apply for funding? Link back to application process. \n",
    "- Who is awarded the funding? \n",
    "- Which datasets are used? \n",
    "- Which algorithms are available? \n",
    "- What are the research questions been asked? Link to confirmation bias. "
   ]
  },
  {
   "cell_type": "markdown",
   "metadata": {},
   "source": [
    "# Biases in research\n",
    "![Alt](img/penguins.jpg \"Jane Rix, 2012, https://pixels.com/featured/1-penguins-isolated-jane-rix.html\")\n",
    "![Alt](img/penguin-dataset.png)\n",
    "\n",
    "Go to www.menti.com and enter code: 8753 9607. \n",
    "\n",
    "Question: Thinking back the penguins dataset from last week, what biases could there be in research using this data?"
   ]
  },
  {
   "cell_type": "markdown",
   "metadata": {
    "slideshow": {
     "slide_type": "slide"
    }
   },
   "source": [
    "## Testing our (predictive) models\n",
    "\n",
    "Last week we used scikit-learn to implement a _linear regression_ model.\n",
    "\n",
    "You may remember the following steps we talked about for implementing a predictive model:\n",
    "\n",
    "1. **Input** and **prepare** your data.\n",
    "2. **Import** the model from scikit-learn that we want to use. \n",
    "3. **Create an instance** of that model that you can use for your routine.\n",
    "4. **Fit** the model to the data from which you want your model to learn. \n",
    "5. Use the model to **predict** new information."
   ]
  },
  {
   "cell_type": "code",
   "execution_count": null,
   "metadata": {
    "slideshow": {
     "slide_type": "skip"
    }
   },
   "outputs": [],
   "source": [
    "import pandas as pd\n",
    "data = pd.DataFrame({\"x\":[1,2,3,4,5,6,7,8,9,10],\"y\":[2,4,8,4,9,13,15,16,23,20]})\n",
    "\n",
    "# Create a single column DataFrame for training data x\n",
    "X = data[['x']]\n",
    "\n",
    "# Extract y data series\n",
    "Y = data[\"y\"]\n",
    "\n",
    "# import the relevant model from sklearn\n",
    "from sklearn import linear_model\n",
    "\n",
    "# create an instance of the model\n",
    "model = linear_model.LinearRegression(fit_intercept=True)\n",
    "\n",
    "# Pass the data to the `fit` method\n",
    "model.fit(X,Y)\n",
    "\n",
    "# Use the model to predict y-values\n",
    "data[\"pred_y\"] = model.predict(X)"
   ]
  },
  {
   "cell_type": "code",
   "execution_count": 10,
   "metadata": {
    "slideshow": {
     "slide_type": "skip"
    }
   },
   "outputs": [
    {
     "data": {
      "text/plain": [
       "[<matplotlib.lines.Line2D at 0x7f03721ab520>]"
      ]
     },
     "execution_count": 10,
     "metadata": {},
     "output_type": "execute_result"
    },
    {
     "data": {
      "image/png": "[encoded data removed]",
      "text/plain": [
       "<Figure size 1080x360 with 2 Axes>"
      ]
     },
     "metadata": {
      "needs_background": "light"
     },
     "output_type": "display_data"
    }
   ],
   "source": [
    "from scipy.interpolate import make_interp_spline, BSpline\n",
    "import numpy as np\n",
    "\n",
    "y=data[\"y\"]\n",
    "x=np.linspace(1, 10, 10)\n",
    "x_new = np.linspace(1, 10, 300)\n",
    "a_BSpline = make_interp_spline(x, y)\n",
    "\n",
    "y_new = a_BSpline(x_new)\n",
    "\n",
    "import matplotlib.pyplot as plt\n",
    "\n",
    "fig, ax = plt.subplots(1,2,figsize=(15,5))\n",
    "data.plot(\"x\",\"y\",\"scatter\",ax=ax[0])\n",
    "ax[0].plot(data[\"x\"],2.1*data[\"x\"])\n",
    "\n",
    "data.plot(\"x\",\"y\",\"scatter\",ax=ax[1])\n",
    "ax[1].plot(x_new,y_new)"
   ]
  },
  {
   "cell_type": "code",
   "execution_count": 9,
   "metadata": {},
   "outputs": [],
   "source": []
  },
  {
   "cell_type": "markdown",
   "metadata": {},
   "source": [
    "# Residuals \n",
    "When fitting a predictive model, it is always good practice to create plots of the residuals. \n",
    "\n",
    "A residual is defined as follows: difference between the observed data point and the calculated data point.\n",
    "\n",
    "![Alt](img/residuals.PNG)\n",
    "    \n",
    "    \n",
    "\n",
    "\n"
   ]
  },
  {
   "cell_type": "markdown",
   "metadata": {
    "slideshow": {
     "slide_type": "-"
    }
   },
   "source": [
    "# Under and Overfitting\n",
    "![Alt](img/under-over-fitting.PNG)\n",
    "\n",
    "Given a training dataset, it is always in principle possible to fit an arbitary function. However, this function may not have a physical basis and/or it may \"overfit\". \n",
    "\n",
    "As a basic rule of thumb, the degree of your polynomial n should be less than the number of data points in your set. \n",
    "\n",
    "\n",
    "\n",
    "\n",
    "\n",
    "\n",
    "\n",
    "\n",
    "\n",
    "\n",
    "\n",
    "\n"
   ]
  },
  {
   "cell_type": "markdown",
   "metadata": {
    "slideshow": {
     "slide_type": "slide"
    }
   },
   "source": [
    "### Training vs testing datasets\n",
    "\n",
    "To avoid overfitting it is good practice to split your data so that you don't use the whole lot for model training.\n",
    "\n",
    "- The **training** portion of the dataset will be used to train the model, as before.\n",
    "- The **testing** portion of the dataset will be used to test the model.\n",
    "\n",
    "There is a helper function in scikit-learn to take care of separating data into training and testing sets:\n",
    "\n",
    "**train_test_split()**: https://scikit-learn.org/stable/modules/generated/sklearn.model_selection.train_test_split.html\n",
    "\n",
    "\n",
    "We say a model is overfitted when it fits too closely to the training dataset. The model captures noise in the data and not just the underlying trends. The consequence of this is that the model may perform well on a training dataset but not as well on a testing dataset.\n",
    "\n"
   ]
  },
  {
   "cell_type": "markdown",
   "metadata": {
    "slideshow": {
     "slide_type": "slide"
    }
   },
   "source": [
    "### Model validation\n",
    "\n",
    "In our first activity we'll practice separating our dataset into train and test sets before building our model. We'll also try printing out some simple metrics to help us evaluate our model's performance.\n",
    "\n",
    "Please read through the below notebook and work through Exercises 1-3:\n",
    "\n",
    "[Workshop5_01_model_validation](Workshop5_01_model_validation.ipynb)"
   ]
  },
  {
   "cell_type": "markdown",
   "metadata": {
    "slideshow": {
     "slide_type": "slide"
    }
   },
   "source": [
    "\n",
    "### Sample weights\n",
    "\n",
    "For our second activity we're going to work through some examples of instances where we need to consider the relative contributions of various subsets of or populations in our data.\n",
    "\n",
    "Please open the below notebook. We will start with a group activity and then work through Exercises 1-3:\n",
    "\n",
    "[Workshop5_02_weights](Workshop5_02_weights.ipynb)\n",
    "\n",
    "![Alt](img/Sample-weights.PNG)\n",
    "\n",
    "\n"
   ]
  },
  {
   "cell_type": "markdown",
   "metadata": {
    "slideshow": {
     "slide_type": "slide"
    }
   },
   "source": [
    "# Post Workshop 5 activities\n",
    "\n",
    "What debugging strategies did you use in workshops 4 and 5? \n",
    "\n",
    "What progressions in learning material are you noticing moving from year 1 to year 2?\n",
    "\n",
    "https://uob.padlet.org/mairegorman/post-workshop-5-padlet-panrop3xmqaxoelr\n",
    "\n",
    "Password: scif20002-workshop-5"
   ]
  }
 ],
 "metadata": {
  "celltoolbar": "Slideshow",
  "kernelspec": {
   "display_name": "Python 3 (ipykernel)",
   "language": "python",
   "name": "python3"
  },
  "language_info": {
   "codemirror_mode": {
    "name": "ipython",
    "version": 3
   },
   "file_extension": ".py",
   "mimetype": "text/x-python",
   "name": "python",
   "nbconvert_exporter": "python",
   "pygments_lexer": "ipython3",
   "version": "3.11.4"
  }
 },
 "nbformat": 4,
 "nbformat_minor": 4
}

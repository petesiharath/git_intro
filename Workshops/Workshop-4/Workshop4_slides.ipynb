{
 "cells": [
  {
   "cell_type": "markdown",
   "metadata": {
    "slideshow": {
     "slide_type": "slide"
    }
   },
   "source": [
    "\n",
    "# Programming and Data Analysis for Scientists![image.png]\n",
    "## Workshop 4: Visualising and exploring data\n",
    "## Monday 16th October 2023\n",
    "## Data Science Techniques \n",
    "\n",
    "\n",
    "\n",
    "\n"
   ]
  },
  {
   "cell_type": "markdown",
   "metadata": {
    "slideshow": {
     "slide_type": "slide"
    }
   },
   "source": [
    "# Reminders\n",
    "\n",
    "## Supporting lectures and seminars\n",
    "We are currently in week 4. \n",
    "\n",
    "Lecture, week 5, Dr Ella Gale. \n",
    "\n",
    "Seminar, week 9\n",
    "\n",
    "## Assessment\n",
    "### \"Tests\": 5% of final year mark for each (5 in total)\n",
    "Test 1 due Wednesday 18th October, 12pm (week 4) \n",
    "Test 2 (online test) will be released on Monday 23rd October, 9am (week 5)\n",
    "This will be due on Wednesday 1st November, 12pm (week 6)\n",
    "\n",
    "\n",
    "### TB1 Assessment: 35% of your final unit mark \n",
    "This will be released during week 10 and will be due in week 13. \n",
    "\n",
    "### Final Assessment and Report\": 40% of your final unit mark\n",
    "This will occur in Term 2"
   ]
  },
  {
   "cell_type": "markdown",
   "metadata": {
    "slideshow": {
     "slide_type": "slide"
    }
   },
   "source": [
    "### Previous workshops (Data Science 1, Databases and Manipulation)\n",
    "\n",
    "- Database manipulation and access\n",
    "- Database operations\n",
    "- Use split-apply-combine to manipulate and plot data\n",
    "- Plotting image data"
   ]
  },
  {
   "cell_type": "markdown",
   "metadata": {
    "slideshow": {
     "slide_type": "slide"
    }
   },
   "source": [
    "# Upcoming Workshops (Data Science 2, Techniques)\n",
    "- Data exploration and visualisation\n",
    "- Correlations\n",
    "- Data trends and regression models\n",
    "\n",
    "\n",
    "- Machine Learning: Supervised and Unsupervised Learning\n",
    "- Partitioning data: training and test sets\n",
    "- Model evaluation  \n",
    "- Sample weights\n",
    "\n",
    "\n",
    "- Transforming data to undertake linear regression \n",
    "- Using Categorical variables in regression models"
   ]
  },
  {
   "attachments": {
    "image.png": {
     "image/png": "[encoded data removed]"
    }
   },
   "cell_type": "markdown",
   "metadata": {},
   "source": [
    "# Reflective practice\n",
    "In any working profession, a key determinant of success is the ability to constructively reflect upon experiences and incrementally improve your performance.![image.png](attachment:image.png)\n",
    "![Alt](img/kolb-cycle.png \"Kolb cycle used in teaching practice.\")\n",
    "\n",
    "In many professions, workers are required to create reflective portfolios for the purposes of accreditation. \n",
    "![Alt](img/nichola.png \"High jumper reflecting on individual jumps through the use of a reflective journal.\")"
   ]
  },
  {
   "attachments": {},
   "cell_type": "markdown",
   "metadata": {},
   "source": [
    "# Reflective practice: Blackboard portfolio \n",
    "Within Blackboard there is a portfolio area (under “Tools”) in which you can create your own private portfolio and record your own reflections of how you are progressing and how you could improve your attainment and performance over time. \n",
    "![Alt](img/Bb-menu.png \"Blackboard menus\")\n",
    "![Alt](img/Bb-2.png \"Blackboard portfolio tools\")\n"
   ]
  },
  {
   "attachments": {},
   "cell_type": "markdown",
   "metadata": {},
   "source": [
    "# Debugging strategies\n",
    "- As you progress in scientific computing, your code will naturally include more steps and increase in complexity. \n",
    "\n",
    "- The ability to debug your code is a key skill. \n",
    "\n",
    "- Hence, you should strongly consider creating a personal portfolio of lessons you are learning in debugging. This will save you a lot of time and stress in the future. \n",
    "\n",
    "- Refer back to the debugging session which is run as part of the “Introduction to Scientific Computing Course”. This is posted as a zip file on Blackboard. \n",
    "\n",
    "ACTION: Start recording steps taken in debugging code through the term.\n",
    "\n",
    "\n",
    "Menti activity: What debugging strategies can you think of? \n",
    "Menti code: 1937 3423"
   ]
  },
  {
   "cell_type": "markdown",
   "metadata": {
    "slideshow": {
     "slide_type": "slide"
    }
   },
   "source": [
    "\n",
    "### Today's session\n",
    "\n",
    "**Aim:** Use data visualisation to explore relationships in data\n",
    "\n",
    "    \n",
    "- How we can use data visualisation to explore multivariate relationships\n",
    "    - Workshop4_01_visualisation_correlations.ipynb\n",
    "    \n",
    "    \n",
    "- How to identify trends in data and use regression models\n",
    "    - Workshop4_02_regression.ipynb"
   ]
  },
  {
   "cell_type": "markdown",
   "metadata": {
    "slideshow": {
     "slide_type": "slide"
    }
   },
   "source": [
    "## Exploring and visualising data\n",
    "\n",
    "When first coming across a new dataset it is useful to get an idea of the features of its contents. \n",
    "\n",
    "What sort of features would you want to be aware of when exploring a new dataset? \n",
    "\n",
    "Go to www.menti.com and enter code: 1937 3423\n"
   ]
  },
  {
   "cell_type": "markdown",
   "metadata": {
    "slideshow": {
     "slide_type": "slide"
    }
   },
   "source": [
    "\n",
    "### Summarising and visualising datasets\n",
    "\n",
    "For the first activity we will be looking at how we can use some simple methods to examine our data, and how we can use visualisation tools to help us quickly and easily view data distributions.\n",
    "\n",
    "We're going to read through the first section of the below notebook, and then work through Exercises 1-3:\n",
    "\n",
    "[Workshop4_01_visualisation_correlations](Workshop4_01_visualisation_correlations.ipynb)"
   ]
  },
  {
   "cell_type": "markdown",
   "metadata": {
    "slideshow": {
     "slide_type": "slide"
    }
   },
   "source": [
    "## Correlations\n",
    "\n",
    "Variables within a dataset can be _related_ to one another in different ways. \n",
    "\n",
    "When two or more numerical variables appear to have a relationship, we say that they are _correlated_. \n",
    "\n",
    "A commonly and easily explored relationship between variables is their linear relationship; the degree of their _linear correlation_.  \n",
    "\n",
    "When assess the linear correlation, we are asking how correlated the variables are under the assumption that they share a linear relationship.\n"
   ]
  },
  {
   "attachments": {
    "Correlation_coefficient.png": {
     "image/png": "[encoded data removed]"
    }
   },
   "cell_type": "markdown",
   "metadata": {
    "slideshow": {
     "slide_type": "slide"
    }
   },
   "source": [
    "## Pearson correlation coefficient\n",
    "\n",
    "![Correlation_coefficient.png](attachment:Correlation_coefficient.png)\n",
    "Image taken from Wikimedia Commons, distributed under Creative Commons License. \n",
    "\n",
    "The key points to note are: \n",
    "- The coefficient does not say anything about the actual steepness of the gradient or intercept \n",
    "- The coefficient simply gives a measure of the strength of correlation "
   ]
  },
  {
   "cell_type": "markdown",
   "metadata": {
    "slideshow": {
     "slide_type": "slide"
    }
   },
   "source": [
    "## Mentimeter questions \n",
    "Question will be presented on slides during the workshop: alternatively go to www.menti.com and enter code 1937 3423.\n",
    "\n",
    "Question: Can you think of two or more numerical variables which may be correlated? \n",
    "\n",
    "Question: Can you think of scenarios where you may have multiple variables influencing a dependent variable? "
   ]
  },
  {
   "cell_type": "code",
   "execution_count": 2,
   "metadata": {
    "slideshow": {
     "slide_type": "skip"
    }
   },
   "outputs": [],
   "source": [
    "import numpy as np\n",
    "import pandas as pd\n",
    "import matplotlib.pyplot as plt\n",
    "\n",
    "def make_data():\n",
    "    \n",
    "    angle = np.arange(0, np.pi*2, 0.02)\n",
    "    r = 50 + np.random.normal(0, 3, len(angle))\n",
    "    x = r * np.cos(angle)\n",
    "    y = r * np.sin(angle)\n",
    "    circle = pd.DataFrame({\"x\":x,\"y\":y})\n",
    "    x1 = x + np.random.normal(0, 3, len(angle))\n",
    "    line=pd.DataFrame({\"x\":x,\"y\":x1})\n",
    "    return(circle,line)\n",
    "\n",
    "    \n",
    "# create two data frames, one to show a circular distribution and one a straight line\n",
    "circle, line = make_data()\n",
    "\n"
   ]
  },
  {
   "cell_type": "code",
   "execution_count": 8,
   "metadata": {
    "slideshow": {
     "slide_type": "skip"
    }
   },
   "outputs": [
    {
     "data": {
      "text/plain": [
       "Text(-55, 50, '0.002')"
      ]
     },
     "execution_count": 8,
     "metadata": {},
     "output_type": "execute_result"
    },
    {
     "data": {
      "image/png": "[encoded data removed]",
      "text/plain": [
       "<Figure size 648x288 with 2 Axes>"
      ]
     },
     "metadata": {
      "needs_background": "light"
     },
     "output_type": "display_data"
    }
   ],
   "source": [
    "# prepare plot area\n",
    "fig, (ax0, ax1) = plt.subplots(1,2,figsize=(9,4))\n",
    "\n",
    "# plot straight line\n",
    "ax0.plot(line[\"x\"],line[\"y\"],'.')\n",
    "ax0.set_xlabel(\"x\")\n",
    "ax0.set_ylabel(\"y\")\n",
    "# quote the correlation between x and y on the plot area\n",
    "ax0.text(-55,55,round(line.corr()[\"x\"][\"y\"],3))\n",
    "\n",
    "# plot circle\n",
    "ax1.plot(circle[\"x\"],circle[\"y\"],'.')\n",
    "ax1.set_xlabel(\"x\")\n",
    "# quote the correlation between x and y on the plot area\n",
    "ax1.text(-55,50,round(circle.corr()[\"x\"][\"y\"],3))\n"
   ]
  },
  {
   "cell_type": "code",
   "execution_count": 9,
   "metadata": {
    "slideshow": {
     "slide_type": "subslide"
    }
   },
   "outputs": [],
   "source": [
    "plt.show()"
   ]
  },
  {
   "cell_type": "markdown",
   "metadata": {
    "slideshow": {
     "slide_type": "slide"
    }
   },
   "source": [
    "### Visualising relationships in data\n",
    "\n",
    "For the second activity we will be looking at how we can use some simple methods to identify correlations and relationships within our data in a quick but informative way.\n",
    "\n",
    "Please read the second section of the workbook below and have a go at Exercises 4-6:\n",
    "\n",
    "[Workshop4_01_visualisation_correlations](Workshop4_01_visualisation_correlations.ipynb)"
   ]
  },
  {
   "cell_type": "markdown",
   "metadata": {
    "slideshow": {
     "slide_type": "slide"
    }
   },
   "source": [
    "### Extracting trends and linear regression\n",
    "\n",
    "For the next activity we will look at how we can identify and confirm trends in our data. We will use [scikit-learn](https://scikit-learn.org/stable/), a machine learning library for python, to implement a linear regression model and learn how we can begin to test and validate the models that we build from our data.\n",
    "\n",
    "We'll go through the introduction together, and then please work through Exercises 1-3. There are then two group activities at the end, where you should work together with your neighbours to try some more advanced problems.\n",
    "\n",
    "[Workshop4_02_regression](Workshop4_02_regression.ipynb)"
   ]
  },
  {
   "cell_type": "markdown",
   "metadata": {
    "slideshow": {
     "slide_type": "slide"
    }
   },
   "source": [
    "\n",
    "## Before the next workshop \n",
    "\n",
    "Asynchronous activities to be completed before Monday 23rd October 2023. \n",
    "\n",
    "Look into the definitions of _supervised learning_ and _unsupervised learning_.\n",
    "You may find this IBM post a good place to start: \n",
    "\n",
    "https://www.ibm.com/cloud/blog/supervised-vs-unsupervised-learning\n",
    "\n",
    "Can you think of any real-world applications of these methods?\n",
    "\n",
    "Post your answers and your understanding of these terms on Padlet to discuss in the next workshop.\n",
    "\n",
    "- **Padlet:** https://uob.padlet.org/mairegorman/mz886aubg20ngnp\n",
    "- **Password:** workshop4\n",
    "\n"
   ]
  }
 ],
 "metadata": {
  "celltoolbar": "Slideshow",
  "kernelspec": {
   "display_name": "Python 3 (ipykernel)",
   "language": "python",
   "name": "python3"
  },
  "language_info": {
   "codemirror_mode": {
    "name": "ipython",
    "version": 3
   },
   "file_extension": ".py",
   "mimetype": "text/x-python",
   "name": "python",
   "nbconvert_exporter": "python",
   "pygments_lexer": "ipython3",
   "version": "3.9.13"
  }
 },
 "nbformat": 4,
 "nbformat_minor": 4
}

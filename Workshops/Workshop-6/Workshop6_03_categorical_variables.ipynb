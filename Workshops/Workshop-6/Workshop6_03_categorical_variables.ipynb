{
 "cells": [
  {
   "cell_type": "markdown",
   "metadata": {},
   "source": [
    "## Using categorical data in regression models\n",
    "\n",
    "In the last workshop we revisted the penguins dataset and used a linear regression model to try and predict penguin body mass based on flipper length. We achieved an $R^{2}$ score of approximately 75% with this model, with an RMSE of just under 400g. \n",
    "\n",
    "The penguins dataset contains further information that we might be able to use to increase the performance of our model. "
   ]
  },
  {
   "cell_type": "markdown",
   "metadata": {},
   "source": [
    "#### Exercise 1\n",
    "\n",
    "Use the other numeric data contained in the penguins dataset to build a model that uses **multiple inputs** to predict penguin body mass. \n",
    "\n",
    "You will need to:\n",
    "- load the penguins dataset from `seaborn`\n",
    "- for simplicity, drop any rows containing NA values\n",
    "- use the `info` method to determine which columns have a numerical data type (these will be used as your _features_ to predict body mass)\n",
    "- instantiate a linear model from `scikit-learn`\n",
    "- define training and target variables\n",
    "- split your inputs into test and train sets (remember to set `random_state` so that the sets are reproducible)\n",
    "- train your model\n",
    "- make predictions with your model\n",
    "- print the $R^2$ score and RMSE\n"
   ]
  },
  {
   "cell_type": "code",
   "execution_count": 2,
   "metadata": {},
   "outputs": [],
   "source": [
    "import seaborn as sns\n"
   ]
  },
  {
   "cell_type": "code",
   "execution_count": 4,
   "metadata": {},
   "outputs": [],
   "source": [
    "#### ADD CODE HERE\n",
    "\n",
    "\n",
    "\n",
    "\n",
    "\n",
    "\n",
    "\n",
    "\n",
    "\n",
    "\n",
    "\n",
    "\n",
    "\n",
    "\n",
    "\n",
    "\n",
    "\n",
    "\n",
    "\n",
    "\n",
    "\n"
   ]
  },
  {
   "cell_type": "markdown",
   "metadata": {},
   "source": [
    "Unfortunately, according to our $R^{2}$ score, this additional data doesn't appear to add very much to our model performance (compared to our 75% using only one input feature). We do have other information in the penguins dataset, but it is _categorical_ data. In the following exercises we will look at how we can exploit this type of data in our regression models."
   ]
  },
  {
   "cell_type": "markdown",
   "metadata": {},
   "source": [
    "#### Exercise 2\n",
    "\n",
    "Make a plot to show the relationship between bill length and body mass that colour-codes the data points based on penguin species."
   ]
  },
  {
   "cell_type": "code",
   "execution_count": 6,
   "metadata": {},
   "outputs": [],
   "source": [
    "#### ADD CODE HERE\n",
    "\n",
    "\n"
   ]
  },
  {
   "cell_type": "markdown",
   "metadata": {},
   "source": [
    "_Do you think that knowledge of the species of penguin would be helpful when trying to predict body mass?_\n",
    "\n",
    "Looking above, using the species categories to inform our model would surely add some new and valuable information. To make this possible, we need to transform our categorical data to make it appropriate for use in our regression model.\n",
    "\n",
    "To allow the use of the species category in our linear regression model we need to convert the categorical variables into numerical values. We are going to try to do that using something called **one hot encoding**. To apply one hot encoding to the species data in our penguins dataset, follow the instructions for _Exercise 3_ below. "
   ]
  },
  {
   "cell_type": "markdown",
   "metadata": {},
   "source": [
    "#### Exercise 3\n",
    "\n",
    "**(a)** Add three new columns to the penguins dataset:\n",
    "- The `Gentoo` column should be 1 when the species is Gentoo, and zero in all other cases.\n",
    "- The `Adelie` column should be 1 when the species is Adelie, and zero in all other cases.\n",
    "- The `Chinstrap` column should be 1 when the species is Chinstrap, and zero in all other cases.\n",
    "\n",
    "Having done this, you will have created three new columns in your DataFrame, with each column containing a value of 1 for cases where the species variable matches the species specified in the column title, and a value of 0 for all other cases. Essentially we have created a true / false flag in these columns, following:\n",
    "- 1 if `species` = `column_name`\n",
    "- 0 if not\n",
    "\n"
   ]
  },
  {
   "cell_type": "code",
   "execution_count": 7,
   "metadata": {},
   "outputs": [],
   "source": [
    "#### ADD CODE HERE\n",
    "\n",
    "\n",
    "\n",
    "\n",
    "\n",
    "\n",
    "\n",
    "\n",
    "\n"
   ]
  },
  {
   "cell_type": "markdown",
   "metadata": {},
   "source": [
    "**(b)** By transforming our variables in this way we can extract information from our categorical data in a way that can be interpreted by our regression model. \n",
    "\n",
    "To convince yourself of the value of using the species information in this format:\n",
    "- plot the relationship between the newly created `Gentoo` column and `body_mass_g` \n",
    "- print the linear correlation coefficient between `Gentoo` and `body_mass_g`."
   ]
  },
  {
   "cell_type": "code",
   "execution_count": 8,
   "metadata": {},
   "outputs": [],
   "source": [
    "#### ADD CODE HERE\n",
    "\n"
   ]
  },
  {
   "cell_type": "code",
   "execution_count": 9,
   "metadata": {},
   "outputs": [],
   "source": [
    "#### ADD CODE HERE\n",
    "\n"
   ]
  },
  {
   "cell_type": "markdown",
   "metadata": {},
   "source": [
    "**(c)** Do the same for the newly created `Adelie` and `Chinstrap` columns. Then ask yourself the following questions:\n",
    "\n",
    "- Of the three species, which has the potential to give the most additional sensitivity to our model? \n",
    "- Why?\n",
    "- Does this follow from what you might expect upon further study of the relationship plot from _Exercise 2_?"
   ]
  },
  {
   "cell_type": "code",
   "execution_count": 10,
   "metadata": {},
   "outputs": [],
   "source": [
    "#### ADD CODE HERE\n",
    "\n"
   ]
  },
  {
   "cell_type": "code",
   "execution_count": 11,
   "metadata": {},
   "outputs": [],
   "source": [
    "#### ADD CODE HERE\n",
    "\n"
   ]
  },
  {
   "cell_type": "markdown",
   "metadata": {},
   "source": [
    "The Gentoo species seems to have the most significant linear correlation with penguin body mass, which indicates that it may provide the most additional information to help us predict body mass of the three species. \n",
    "\n",
    "Looking at the two dimensional relationship plot from _Exercise 2_, we can see that Gentoo penguins almost exclusively occupy higher body mass values. This means that knowing whether or not a penguin belongs to the Gentoo species provides valuable information about body mass, in that we would expect higher body mass values for Gentoo penguins compared with the other two species. "
   ]
  },
  {
   "cell_type": "markdown",
   "metadata": {},
   "source": [
    "#### Exercise 4\n",
    "\n",
    "Build the regression model again as before, but this time add these new columns as features to your training data. Complete all the steps that you followed during _Exercise 1_. **Remember to use the same `random_state` and `test_size`** to ensure a fair comparison with your output from _Exercise 1_.\n",
    "- Do you see any improvement in the model performance?\n",
    "- Does one of your new categories in particular make the most difference, or is it a joint effort?"
   ]
  },
  {
   "cell_type": "code",
   "execution_count": 12,
   "metadata": {},
   "outputs": [],
   "source": [
    "#### ADD CODE HERE\n",
    "\n",
    "\n",
    "\n",
    "\n",
    "\n",
    "\n",
    "\n",
    "\n",
    "\n",
    "\n",
    "\n",
    "\n",
    "\n",
    "\n",
    "\n",
    "\n",
    "\n",
    "\n",
    "\n",
    "\n",
    "\n"
   ]
  },
  {
   "cell_type": "markdown",
   "metadata": {},
   "source": [
    "If you try to incrementally add the penguin species to your linear regression model and rerun the prediction you will find that the Gentoo variable does indeed gove the biggest boost in model performance, as expected based on _Exercise 3_."
   ]
  },
  {
   "cell_type": "markdown",
   "metadata": {},
   "source": [
    "Transforming categorical data in this way is a useful trick to remember for data analysis tasks. It is often helpful to be able to incorporate categorical information into numerical models. "
   ]
  }
 ],
 "metadata": {
  "kernelspec": {
   "display_name": "Python 3 (ipykernel)",
   "language": "python",
   "name": "python3"
  },
  "language_info": {
   "codemirror_mode": {
    "name": "ipython",
    "version": 3
   },
   "file_extension": ".py",
   "mimetype": "text/x-python",
   "name": "python",
   "nbconvert_exporter": "python",
   "pygments_lexer": "ipython3",
   "version": "3.11.4"
  }
 },
 "nbformat": 4,
 "nbformat_minor": 4
}

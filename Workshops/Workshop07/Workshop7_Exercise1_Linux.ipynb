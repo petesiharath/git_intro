{
 "cells": [
  {
   "cell_type": "markdown",
   "id": "392d3598",
   "metadata": {},
   "source": [
    "# Introduction to bash"
   ]
  },
  {
   "cell_type": "markdown",
   "id": "aa25c7f8",
   "metadata": {},
   "source": [
    "Here, we're going to learn some basic bash commands that will allow you to navigate your filesystem and carry out some simple operations on a Linux system.\n",
    "\n",
    "Open a bash terminal:\n",
    "- Noteable: New > Terminal\n",
    "- MacOS: Finder > Applications > Utilities > Terminal\n",
    "- Windows: Install the git client from https://git-scm.com, which is based on bash"
   ]
  },
  {
   "cell_type": "markdown",
   "id": "fe3a1033",
   "metadata": {},
   "source": [
    "### Orientating yourself\n",
    "\n",
    "Try the following commands to see where you are on the filesystem:\n",
    "\n",
    "```pwd```: print working directory\n",
    "\n",
    "```ls```: list contents of current directory\n",
    "\n",
    "Hopefully, the first command returned you a directory path, and the second showed you the files and folders in that directory.\n",
    "\n",
    "In Linux, the \"default\" starting location that you land on in the file system is called your \"home\" directory. This might look something like:\n",
    "\n",
    "```/home/<username>```\n",
    "\n",
    "Unlike Windows, directories are separated by a forward slash in Linux \"/\", so this is saying that I'm currently located in a folder with my username which has a parent folder called \"home\".\n",
    "\n",
    "On a Mac, you'll probably see that your home directory is in a slightly different place, something like:\n",
    "\n",
    "```/Users/<username>```\n",
    "\n",
    "(*Note that on a cloud platform such as Noteable, the username for your home directory may be somewhat arbitrary*)"
   ]
  },
  {
   "cell_type": "markdown",
   "id": "2a58b892",
   "metadata": {},
   "source": [
    "### Optional arguments\n",
    "\n",
    "Linux commands can take optional arguments, beginning with a hyphen. Let's take a look at two for the ```ls``` command. \n",
    "\n",
    "Try:\n",
    "\n",
    "```ls -l```\n",
    "\n",
    "This provides a longer-form output of the ```ls``` command, and contains lots of useful information, such as the owner of any file, its size, etc.\n",
    "\n",
    "You can find out what the available arguments are by using the ```man``` function:\n",
    "\n",
    "```man ls```  (***man doesn't seem to be installed on Noteable***)\n",
    "\n",
    "Now try:\n",
    "\n",
    "```ls -a```\n",
    "\n",
    "This argument tells the ```ls``` command to also list hidden files. In Linux, files that begin with a period (.) aren't visible using ```ls``` by default.\n",
    "\n",
    "**Note:** the two first two outputs of the ```ls -a``` command are simply:\n",
    "\n",
    "```\n",
    ".\n",
    "..\n",
    "```"
   ]
  },
  {
   "cell_type": "markdown",
   "id": "23aa2d34",
   "metadata": {},
   "source": [
    "### Moving around directories\n",
    "\n",
    "We'll now think about navigating around the file system. \n",
    "\n",
    "Let's start by making a new directory called \"test\" (*I'm assuming you don't already have a directory called \"test\" here... if you do, either rename it, or use a different directory name in the following*):\n",
    "\n",
    "```mkdir test```\n",
    "\n",
    "Where the ```mkdir``` command makes a new directory, in this case called \"test\".\n",
    "\n",
    "We can navigate into that directory using:\n",
    "\n",
    "```cd test```\n",
    "\n",
    "The ```cd``` command stands for \"change directory\".\n",
    "\n",
    "Recall the two hidden \"files\" called \".\" and \"..\". These can be used with ```cd``` and other commands to get around the file system. Let's see how.\n",
    "\n",
    "First, check you're in the \"test\" directory by using the ```pwd``` command, and then type:\n",
    "\n",
    "```cd .```\n",
    "\n",
    "Type ```pwd``` again to see where you are. You'll see that you're still in the same directory! The period simply means \"this directory\", so we've used ```cd``` to change into the current directory. This may seem pretty pointless at the moment, but it'll quickly become clear why it's useful!\n",
    "\n",
    "Now try navigating to the double period:\n",
    "\n",
    "```cd ..```\n",
    "\n",
    "If you type ```pwd``` now, you should see that you've gone back up to the parent directory. So the \"..\" means \"go up one level\". With this command, we can now go up and down our directory tree!\n",
    "\n",
    "#### Aside: getting back home\n",
    "\n",
    "The tilde symbol \"~\" is a useful shortcut for your home directory. E.g., rather than having to go up each directory level one-by-one to get home, try this:\n",
    "\n",
    "```cd ~```\n",
    "\n",
    "You can also use this in file and folder names (e.g., ~/path/to/my/file/relative/to/home)"
   ]
  },
  {
   "cell_type": "markdown",
   "id": "c8a5bf07",
   "metadata": {},
   "source": [
    "### Working with files\n",
    "\n",
    "Go back into your \"test\" directory. Let's create a simple text file using the \"nano\" text editor, which is typically installed on Linux systems (let me or a demonstrator know if nano isn't there!):\n",
    "\n",
    "```nano test.txt```\n",
    "\n",
    "Write some text, and then close the file using ^x, then \"Y\" and then Enter (see instructions at the bottom of the nano screen).\n",
    "\n",
    "Check that this file has been created by using ```ls```. (*If you don't seem to have nano installed on your OS, for now, just create an empty file using ```touch test.txt```*)\n",
    "\n",
    "There are lots of ways to view the contents of these files (e.g., check out ```less``` and ```more```). For now, let's just dump the contents to the screen using:\n",
    "\n",
    "```cat test.txt```\n",
    "\n",
    "Using the ```cp``` command, let's make a copy of this file, and call it \"test1.txt\":\n",
    "\n",
    "```cp test.txt test1.txt```\n",
    "\n",
    "List the contents of the directory and check that you can see both files.\n",
    "\n",
    "To move a file, we can use the ```mv``` command. Let's make a new folder and move one of our files into it:\n",
    "\n",
    "```mkdir subfolder```\n",
    "\n",
    "```mv test.txt subfolder/```\n",
    "\n",
    "Use ```ls``` to check that the file has been moved.\n",
    "\n",
    "Note that there isn't an explicit function to rename a file in Linux. Instead, you can use the ```mv``` command to \"move\" the file to a new name:\n",
    "\n",
    "```mv test1.txt test2.txt```\n",
    "\n",
    "Finally, to delete a file, we can use the ```rm``` command. Let's delete the \"subfolder/test.txt\" file using:\n",
    "\n",
    "```rm subfolder/test.txt```\n",
    "\n",
    "and now that the subfolder directory is empty, let's remove the directory too:\n",
    "\n",
    "```rmdir subfolder```\n",
    "\n",
    "Be careful with these commands, there's no \"Recycle bin\"!"
   ]
  },
  {
   "cell_type": "markdown",
   "id": "b198f51d",
   "metadata": {},
   "source": [
    "### *Exercises*\n",
    "\n",
    "1. Delete any remaining files in the \"test\" directory\n",
    "2. Using ```nano``` or ```touch```, create a new file, called \"ex1.txt\"\n",
    "3. Copy this file, and call the copy \"ex2.txt\"\n",
    "4. The \"h\" optional argument to ```ls```, *when used with the \"l\" argument*, formats the file size string to be more human-readable. Run the list command with this option and see how large the files in the test directory are.\n",
    "5. You can use \"wildcard\" symbols to narrow down the list of files that a command interacts with. The asterisk (*) wildcard means \"match any number of characters\". So you could do ```ls *.py``` to list only the files with the Python .py extension in a folder, or ```rm *.py``` to delete all the Python files. Use the asterisk wildcard to list only the file in the test directory with the character \"1\" in it.\n",
    "6. Create a directory called \"ex1\". Navigate into it, then use the copy command with the period symbol to copy the file ```ex1.txt``` into the directory.\n",
    "7. Delete everything in the test folder, and then delete the test folder itself."
   ]
  },
  {
   "cell_type": "code",
   "execution_count": null,
   "id": "690660b4",
   "metadata": {},
   "outputs": [],
   "source": []
  }
 ],
 "metadata": {
  "kernelspec": {
   "display_name": "Python 3 (ipykernel)",
   "language": "python",
   "name": "python3"
  },
  "language_info": {
   "codemirror_mode": {
    "name": "ipython",
    "version": 3
   },
   "file_extension": ".py",
   "mimetype": "text/x-python",
   "name": "python",
   "nbconvert_exporter": "python",
   "pygments_lexer": "ipython3",
   "version": "3.11.4"
  },
  "vscode": {
   "interpreter": {
    "hash": "31f2aee4e71d21fbe5cf8b01ff0e069b9275f58929596ceb00d14d90e3e16cd6"
   }
  }
 },
 "nbformat": 4,
 "nbformat_minor": 5
}

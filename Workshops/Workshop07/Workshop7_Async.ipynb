{
 "cells": [
  {
   "cell_type": "markdown",
   "id": "f6012ce6",
   "metadata": {
    "slideshow": {
     "slide_type": "slide"
    }
   },
   "source": [
    "# Before next week's workshop:\n",
    "\n",
    "- If you want to use your own machine, check if you have git installed on your system (e.g., from the terminal type: ```git --version```)\n",
    "    - If not, install git/bash from [git-scm.com](https://git-scm.com) if you can\n",
    "    - *If you won't be able to install it yourself, you can use git from the terminal on Noteable*\n",
    "- Get a [github account](https://github.com)\n",
    "    - **Important: Once you've created your account, you'll need to set up a [personal access token](https://docs.github.com/en/github/authenticating-to-github/keeping-your-account-and-data-secure/creating-a-personal-access-token)**. Set the token to allow you access to repositories by checking the \"repo\" option. Read the instructions carefully. You'll need to store this token somewhere safe until the workshop.\n",
    "- Watch these two git introductory videos:\n",
    "    - [What is Version Control?](https://git-scm.com/video/what-is-version-control)\n",
    "    - [What is Git?](https://git-scm.com/video/what-is-git)"
   ]
  },
  {
   "cell_type": "markdown",
   "id": "1d26607c",
   "metadata": {},
   "source": []
  }
 ],
 "metadata": {
  "kernelspec": {
   "display_name": "Python 3.9.6 64-bit",
   "language": "python",
   "name": "python3"
  },
  "language_info": {
   "codemirror_mode": {
    "name": "ipython",
    "version": 3
   },
   "file_extension": ".py",
   "mimetype": "text/x-python",
   "name": "python",
   "nbconvert_exporter": "python",
   "pygments_lexer": "ipython3",
   "version": "3.9.6"
  },
  "vscode": {
   "interpreter": {
    "hash": "31f2aee4e71d21fbe5cf8b01ff0e069b9275f58929596ceb00d14d90e3e16cd6"
   }
  }
 },
 "nbformat": 4,
 "nbformat_minor": 5
}

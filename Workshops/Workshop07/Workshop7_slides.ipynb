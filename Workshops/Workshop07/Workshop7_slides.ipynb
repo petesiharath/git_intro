{
 "cells": [
  {
   "cell_type": "markdown",
   "id": "c9c15ece",
   "metadata": {
    "slideshow": {
     "slide_type": "slide"
    },
    "tags": []
   },
   "source": [
    "# Intermediate Scientific Computing\n",
    "\n",
    "## Introductory Software Engineering"
   ]
  },
  {
   "cell_type": "markdown",
   "id": "cf528b9e",
   "metadata": {
    "slideshow": {
     "slide_type": "slide"
    },
    "tags": []
   },
   "source": [
    "## Plan for next two workshops\n",
    "\n",
    "### Software engineering 1\n",
    "\n",
    "- Getting familiar with the terminal on Linux systems\n",
    "- Modules, packages and paths\n",
    "\n",
    "### Async activity\n",
    "- Get ready for version control\n",
    "\n",
    "### Software engineering 2\n",
    "- Version control\n",
    "\n",
    "### Online test\n",
    "- Bash, modules, packages and version control"
   ]
  },
  {
   "cell_type": "markdown",
   "id": "1b815b87",
   "metadata": {
    "slideshow": {
     "slide_type": "slide"
    },
    "tags": []
   },
   "source": [
    "## Part 1: Bash and Linux\n",
    "\n",
    "### What is Linux?\n",
    "- A family of operating systems built on the Linux Kernel\n",
    "- Related to UNIX and MacOS\n",
    "- You may have heard of Linux distributions like Ubuntu, Fedora, Red Hat, etc.\n",
    "\n",
    "<img src=\"figures/linux_logo.svg\" alt=\"Python prompt\" style=\"display:block;margin-left:auto;margin-right:auto;width:20%\"/>"
   ]
  },
  {
   "cell_type": "markdown",
   "id": "c68dda98",
   "metadata": {
    "slideshow": {
     "slide_type": "slide"
    },
    "tags": []
   },
   "source": [
    "### Why should I care about using a Linux terminal?\n",
    "\n",
    "- Linux is used on most high-performance computing systems and servers\n",
    "- Some workflows (like version control) are well suited to command-line interface (although some helpful GUIs exist)\n",
    "- Allows you to automate filesystem operations that may be cumbersome from a GUI\n",
    "- Essential knowledge for anyone doing serious computing!\n",
    "\n",
    "<img src=\"figures/bash_terminal.png\" alt=\"Bash terminal\" style=\"display:block;margin-left:auto;margin-right:auto;width:60%\"/>"
   ]
  },
  {
   "cell_type": "markdown",
   "id": "aa6c7ddb",
   "metadata": {
    "slideshow": {
     "slide_type": "slide"
    },
    "tags": []
   },
   "source": [
    "## Bash\n",
    "\n",
    "- ```bash``` is a commonly used command line interpreter (\"shell\") on Linux systems\n",
    "- More recent MacOS versions use an interpreter called ```zsh``` rather than ```bash```, but the basic commands are the same\n",
    "\n",
    "<img src=\"figures/bash_logo.svg\" alt=\"Bash logo\" style=\"display:block;margin-left:auto;margin-right:auto;width:40%\"/>"
   ]
  },
  {
   "cell_type": "markdown",
   "id": "c3d61a5c",
   "metadata": {
    "slideshow": {
     "slide_type": "slide"
    },
    "tags": []
   },
   "source": [
    "# Text-based OS operations\n",
    "\n",
    "- Imagine that your operating system didn't have a graphical interface (e.g., windows, menus, etc.), only a terminal\n",
    "- What operations would you need to be able to do?"
   ]
  },
  {
   "cell_type": "markdown",
   "id": "76e0e9ce",
   "metadata": {
    "slideshow": {
     "slide_type": "slide"
    },
    "tags": []
   },
   "source": [
    "# Exercise 1: Basic Bash commands\n",
    "\n",
    "Go to [Workshop7_Exercise1_Linux](Workshop7_Exercise1_Linux.ipynb)"
   ]
  },
  {
   "cell_type": "markdown",
   "id": "b3923719",
   "metadata": {
    "slideshow": {
     "slide_type": "slide"
    }
   },
   "source": [
    "# Python packages, modules and paths\n",
    "\n",
    "- As you build up more complex code, it quickly becomes cumbersome to store all your functions/commands in a single file\n",
    "- You will inevitably want to store your code across multiple files and folders\n",
    "- For example, here's an example structure for some code that handles sound files [from the python docs](https://docs.python.org/3/tutorial/modules.html#packages)\n",
    "\n",
    "<img src=\"figures/python_package_structure.png\" alt=\"Package structure\" style=\"display:block;margin-left:auto;margin-right:auto;width:40%\"/>\n",
    "\n",
    "- Using files and folders makes your code easier to navigate, test and share"
   ]
  },
  {
   "cell_type": "markdown",
   "id": "13f9ca5d",
   "metadata": {
    "slideshow": {
     "slide_type": "slide"
    }
   },
   "source": [
    "# Modules and packages\n",
    "\n",
    "- A *file* containing python functions and commands is called a *module*\n",
    "    - Python module files have the extension ```.py```\n",
    "- A *folder* containing python modules (files) is called a *package*\n",
    "    - To let Python know that a folder is a package, we use a special file called ```__init__.py```\n",
    "- Packages and modules can be imported in other Python code:\n",
    "    - E.g. ```from package import module```\n",
    "    - or ```from package.module import function```\n",
    "\n",
    "<img src=\"figures/python_package_structure.png\" alt=\"Package structure\" style=\"display:block;margin-left:auto;margin-right:auto;width:40%\"/>\n"
   ]
  },
  {
   "cell_type": "markdown",
   "id": "54ececd5",
   "metadata": {
    "slideshow": {
     "slide_type": "slide"
    }
   },
   "source": [
    "# Paths in python\n",
    "\n",
    "- When you import a module or package in python (e.g. ```from package import module```), Python needs to know where to look for your package\n",
    "- The directories that Python searches is called the *path*\n",
    "- You can see the path by using:\n",
    "\n",
    "```\n",
    "import sys\n",
    "sys.path\n",
    "```\n",
    "\n",
    "- Which will return a list, like:\n",
    "\n",
    "```\n",
    "['/opt/conda/bin',\n",
    " '/opt/conda/lib/python37.zip',\n",
    " '/opt/conda/lib/python3.7',\n",
    " '/opt/conda/lib/python3.7/lib-dynload',\n",
    " '',\n",
    " '/opt/conda/lib/python3.7/site-packages',\n",
    " '/srv/notebook_extensions/tree-page-graphics',\n",
    " '/opt/conda/lib/python3.7/site-packages/IPython/extensions',\n",
    " '/home/jovyan/.ipython']\n",
    "```\n",
    "\n",
    "- This list can be modified so that you can tell Python where to find your package/module"
   ]
  },
  {
   "cell_type": "markdown",
   "id": "42a3f119",
   "metadata": {
    "slideshow": {
     "slide_type": "slide"
    }
   },
   "source": [
    "# Exercise 2: Modules, packages and paths\n",
    "\n",
    "Go to [Workshop7_Exercise2_Modules](Workshop7_Exercise2_Modules.ipynb)"
   ]
  },
  {
   "cell_type": "markdown",
   "id": "f6012ce6",
   "metadata": {
    "slideshow": {
     "slide_type": "slide"
    }
   },
   "source": [
    "# Async activity:\n",
    "\n",
    "### Before the next workshop:\n",
    "\n",
    "- If you want to use your own machine, check if you have git installed on your system (e.g., from the terminal type: ```git --version```)\n",
    "    - If not, install git/bash from [git-scm.com](https://git-scm.com) if you can\n",
    "    - *If you won't be able to install it yourself, you can use git from the terminal on Noteable*\n",
    "- Get a [github account](https://github.com)\n",
    "    - **Important: Once you've created your account, you'll need to set up a [personal access token](https://docs.github.com/en/github/authenticating-to-github/keeping-your-account-and-data-secure/creating-a-personal-access-token)**. Set the token to allow you access to repositories by checking the \"repo\" option. Read the instructions carefully. You'll need to store this token somewhere safe until the workshop.\n",
    "- Watch these two git introductory videos:\n",
    "    - [What is Version Control?](https://git-scm.com/video/what-is-version-control)\n",
    "    - [What is Git?](https://git-scm.com/video/what-is-git)"
   ]
  },
  {
   "cell_type": "markdown",
   "id": "d63ae887",
   "metadata": {},
   "source": []
  }
 ],
 "metadata": {
  "celltoolbar": "Slideshow",
  "kernelspec": {
   "display_name": "Python 3.9.6 64-bit",
   "language": "python",
   "name": "python3"
  },
  "language_info": {
   "codemirror_mode": {
    "name": "ipython",
    "version": 3
   },
   "file_extension": ".py",
   "mimetype": "text/x-python",
   "name": "python",
   "nbconvert_exporter": "python",
   "pygments_lexer": "ipython3",
   "version": "3.9.6"
  },
  "vscode": {
   "interpreter": {
    "hash": "31f2aee4e71d21fbe5cf8b01ff0e069b9275f58929596ceb00d14d90e3e16cd6"
   }
  }
 },
 "nbformat": 4,
 "nbformat_minor": 5
}

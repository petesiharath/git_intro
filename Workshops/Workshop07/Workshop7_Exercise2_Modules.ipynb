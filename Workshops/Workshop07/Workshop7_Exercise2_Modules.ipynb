{
 "cells": [
  {
   "cell_type": "markdown",
   "id": "a09974e6",
   "metadata": {},
   "source": [
    "# Python modules, packages and paths\n",
    "\n",
    "Last year, you mostly developed and executed your code in Jupyter Notebooks. While Notebooks are incredibly useful for examining the outputs of a Python project, they are less useful for developing lower level functions that you might want to import into numerous projects.\n",
    "\n",
    "A \"module\" in python is a single file with the extension .py containing functions and variables that you might want to ```import``` into another script (a text file contining python commands), interactive Python session, or Notebook.\n",
    "\n",
    "To demonstrate, we'll follow the example [given in the Python documentation](https://docs.python.org/3/tutorial/modules.html) on the Fibonacci sequence (follow the link for much more information on how modules work in Python).\n",
    "\n",
    "**To practice your new-found bash skills, carry out all the exercises in this worksheet using a bash terminal (e.g. on Noteable)**"
   ]
  },
  {
   "cell_type": "markdown",
   "id": "1b9d05d9",
   "metadata": {},
   "source": [
    "## Modules: refresher\n",
    "\n",
    "Create a folder to work in called something like ```fibo_project``` and then within it, create a file called ```fibo.py``` with the following contents:"
   ]
  },
  {
   "cell_type": "code",
   "execution_count": 1,
   "id": "3cc5ed76",
   "metadata": {},
   "outputs": [],
   "source": [
    "# Fibonacci numbers module\n",
    "\n",
    "def fib(n):    # write Fibonacci series up to n\n",
    "    a, b = 0, 1\n",
    "    while a < n:\n",
    "        print(a, end=' ')\n",
    "        a, b = b, a+b\n",
    "    print()\n",
    "\n",
    "def fib2(n):   # return Fibonacci series up to n\n",
    "    result = []\n",
    "    a, b = 0, 1\n",
    "    while a < n:\n",
    "        result.append(a)\n",
    "        a, b = b, a+b\n",
    "    return result"
   ]
  },
  {
   "cell_type": "markdown",
   "id": "f0d89d2e",
   "metadata": {},
   "source": [
    "These two functions calculate the Fibonacci series up to some value, and then either print the values or return a list. E.g.:"
   ]
  },
  {
   "cell_type": "code",
   "execution_count": 2,
   "id": "89ee1bde",
   "metadata": {},
   "outputs": [
    {
     "name": "stdout",
     "output_type": "stream",
     "text": [
      "0 1 1 2 3 5 8 \n"
     ]
    }
   ],
   "source": [
    "fib(10)"
   ]
  },
  {
   "cell_type": "code",
   "execution_count": 3,
   "id": "6a6f3adc",
   "metadata": {},
   "outputs": [
    {
     "data": {
      "text/plain": [
       "[0, 1, 1, 2, 3, 5, 8]"
      ]
     },
     "execution_count": 3,
     "metadata": {},
     "output_type": "execute_result"
    }
   ],
   "source": [
    "fib2(10)"
   ]
  },
  {
   "cell_type": "markdown",
   "id": "7ea3742d",
   "metadata": {},
   "source": [
    "We could practice importing our fibo.py module from a Jupyter Notebook in the same directory, but this time, we'll use an interactive Python shell. From a terminal, **navigate to the folder where you stored the ```fibo.py``` file** and start an interactive python session by typing:\n",
    "\n",
    "```python```"
   ]
  },
  {
   "cell_type": "markdown",
   "id": "63d8d944",
   "metadata": {},
   "source": [
    "You should see a prompt like this:\n",
    "\n",
    "<img src=\"figures/python_prompt.png\" alt=\"Python prompt\" style=\"display:block;margin-left:auto;margin-right:auto;width:60%\"/>"
   ]
  },
  {
   "cell_type": "markdown",
   "id": "4a8ccc3e",
   "metadata": {},
   "source": [
    "You should now be able to import the ```fibo.py``` module using the module name, excluding the ```.py``` extension:\n",
    "\n",
    "```import fibo```\n",
    "\n",
    "From there, try running either of the functions using, e.g.:\n",
    "\n",
    "```fibo.fib(10)```\n",
    "\n",
    "To exit the Python session, type ```exit()```."
   ]
  },
  {
   "cell_type": "markdown",
   "id": "1191a27d",
   "metadata": {},
   "source": [
    "### Packages\n",
    "\n",
    "Packages are multiple Python modules (i.e., python files) grouped together in a directory. Let's extend our above example to see how Python packages work. Within your ```fibo_project/``` directory, create a new directory called ```fibo_pack``` containing the following module files:\n",
    "\n",
    "```\n",
    "fibo_pack/\n",
    "    - __init__.py\n",
    "    - fibo_mod1.py\n",
    "    - fibo_mod2.py\n",
    "```\n",
    "\n",
    "Into ```fibo_mod1.py``` paste the function ```fib```, and into ```fibo_mod2.py``` paste the function ```fib2```.\n",
    "\n",
    "The ```__init__.py``` file is a special file that tells Python that this ```fibo_pack``` directory should be considered a Python package. You can leave this file blank for now. A blank ```__init__.py``` file means that every ```.py``` file in the directory should be considered a module.\n",
    "\n",
    "Because Python now thinks this directory is a package, we can now import the modules found in it. From the ```fibo_project/``` directory, launch Python again and try the following:\n",
    "\n",
    "```\n",
    "from fibo_pack import fibo_mod1\n",
    "fibo_mod1.fib(10)\n",
    "```\n",
    "\n",
    "or:\n",
    "\n",
    "```\n",
    "from fibo_pack import fibo_mod2\n",
    "fibo_mod2.fib2(10)\n",
    "```\n",
    "\n",
    "You should see the same outputs as before. \n",
    "\n",
    "So now, you can organise your code into directories, and, using ```__init__.py```, make your code importable as a Python package."
   ]
  },
  {
   "cell_type": "markdown",
   "id": "261a49c7",
   "metadata": {},
   "source": [
    "### The Python path\n",
    "\n",
    "In the terminal, navigate up one level from the ```fibo_project/``` folder you've created, and launch a new interactive Python session (```python```). Try to import the ```fibo.py``` module again (```import fibo```). What happened?\n",
    "\n",
    "You should have found that Python returned an error message saying something like:\n",
    "\n",
    "```ModuleNotFoundError: No module named 'fibo'```\n",
    "\n",
    "Python couldn't find the module file ```fibo.py```.\n",
    "\n",
    "Python uses a list of folder names to search for available modules to run. This is called the *path*. To see the path for your current session, open Python and run the following:\n",
    "\n",
    "```\n",
    "import sys\n",
    "sys.path\n",
    "```\n",
    "\n",
    "```sys.path``` is just a list like any other Python list. This particular list contains directory names. It should look something like this:\n",
    "\n",
    "```\n",
    "['/opt/conda/bin',\n",
    " '/opt/conda/lib/python37.zip',\n",
    " '/opt/conda/lib/python3.7',\n",
    " '/opt/conda/lib/python3.7/lib-dynload',\n",
    " '',\n",
    " '/opt/conda/lib/python3.7/site-packages',\n",
    " '/srv/notebook_extensions/tree-page-graphics',\n",
    " '/opt/conda/lib/python3.7/site-packages/IPython/extensions',\n",
    " '/home/jovyan/.ipython']\n",
    "```\n",
    "\n",
    "Most of these path entries point to the Python installation on your machine. The entry ```''``` means \"current directory\". It's because this entry is in your ```sys.path``` that Python knows to look in the current directory to find modules. When you navigated away from your ```fibo_project``` directory and launched Python from the parent directory, Python couldn't find the module file any more, because the ```fibo_project``` directory wasn't in your path.\n",
    "\n",
    "Because ```sys.path``` is just a list, we can fix this issue by adding another list element, specifying the location of our module file. Try:\n",
    "\n",
    "```sys.path.append('/path/to/your/fibo_project')```\n",
    "\n",
    "Where of course you should replace ```/path/to/your``` with the appropriate location on your system.\n",
    "\n",
    "Try importing the ```fibo.py``` module now. If you've set your path correctly, it should import as normal.\n",
    "\n",
    "Modifying your path is a useful way to re-use modules across multiple Python projects. To get Python to import a module from another directory, just add that directory to the path that is used when you execute your current project.\n",
    "\n",
    "See below for some more formal ways of using paths."
   ]
  },
  {
   "cell_type": "markdown",
   "id": "fc2e25f3",
   "metadata": {},
   "source": [
    "### *Extra 1: Running Python scripts*\n",
    "\n",
    "We have just demonstrated one way to run Python: use a text editor to develop some functions, and then import and run them from a ```python``` session. IDEs like Spyder and VS Code have both of these elements (text editor and terminal) incorporated within them.\n",
    "\n",
    "Let's quickly look at an alternative way of running these commands, using a *script*. A script is just a list of Python commands that are executed in order. \n",
    "\n",
    "Create another file in the ```fibo``` directory called ```fibo_script.py```, and paste in the following text:\n",
    "\n",
    "```import fibo```\n",
    "\n",
    "```fibo.fib2(10)```\n",
    "\n",
    "Now, you can run this script non-interactively from the command line using:\n",
    "\n",
    "```python fibo_script.py```\n",
    "\n",
    "And you should see the output printed to the screen.\n",
    "\n",
    "A script is a good way to start developing Python functions, before you turn them into modules, or to keep track of a set of commands that you might otherwise run in an interactive session."
   ]
  },
  {
   "cell_type": "markdown",
   "id": "331cb048",
   "metadata": {},
   "source": [
    "### *Extra 2: Modifying \\__init__\\.py*\n",
    "\n",
    "Let's go back to your ```fibo_pack``` package and have a closer look at ```__init__.py```.\n",
    "\n",
    "```__init__.py``` is a python script that is executed when a package is initialised (i.e., when it is imported). You can see this behaviour by adding a print statement to ```__init__.py```:\n",
    "\n",
    "```\n",
    "print(\"Initialising fibo_pack...\")\n",
    "```\n",
    "\n",
    "Try running the import statements again (e.g. ```from fibo_pack import fibo_mod1```), and you should see your message.\n",
    "\n",
    "We can also use ```__init__.py``` to modify the way that our modules are imported. Let's just try importing our whole package at the top level (rather than grabbing one of the modules within the package):\n",
    "\n",
    "```import fibo_pack```\n",
    "\n",
    "Now try running one of the functions from one of the modules using:\n",
    "\n",
    "```\n",
    "fibo_pack.fibo_mod1.fib(10)\n",
    "```\n",
    "\n",
    "You'll see an error message like this:\n",
    "\n",
    "```AttributeError: module 'fibo_pack' has no attribute 'fibo_mod1'```\n",
    "\n",
    "This happens because the empty ```__init__.py``` file doesn't automatically load our modules into the namespace of ```fibo_pack```. If we want to be able to import and use our package in this way, we need to explicitly load the modules in ```__init__.py```. For example, add the following line to your ```__init__.py```:\n",
    "\n",
    "```\n",
    "from . import fibo_mod1\n",
    "```\n",
    "\n",
    "This line says \"from the current directory, import the fibo_mod1 module\". \n",
    "\n",
    "Let's try importing our package again (**you'll probably need to exit and restart your Python session**). The following should now work:\n",
    "\n",
    "```\n",
    "import fibo_pack\n",
    "fibo_pack.fibo_mod1.fib(10)\n",
    "```\n"
   ]
  },
  {
   "cell_type": "markdown",
   "id": "8c9289fb",
   "metadata": {},
   "source": [
    "### *Extra 3: Paths and environments*\n",
    "\n",
    "This section demonstrates advanced conda/pip usage, and is only for the more adventurous!\n",
    "\n",
    "A common way to manage your path in Python is to use the same method you might use to install other packages. Two common package managers are [pip](https://pypi.org/project/pip/) and [conda](https://docs.conda.io/en/latest/). Conda is the package manager for the Anaconda distribution, so those of you who have downloaded Anaconda will already have conda installed. \n",
    "\n",
    "It is considered best practice to set up a Python [virtual environment](https://realpython.com/python-virtual-environments-a-primer/) for each type of project you are working on. A Python virtual environment is essentially a set of Python packages. When you have that environment activated, you have access to those packages, but no others. You might have different environments depending on the type project you are building. For example, a data science environment might have Pandas, Scikit-learn and similar packages installed in it, whereas a numerical modelling environment might have libraries that compile parts of the Python code, such as Numba. Ring-fencing these sets of packages in different environments guards against potential problems, such as conflicting package dependencies (e.g., if two packages themselves depend on different versions of the same package).\n",
    "\n",
    "Instructions here are for Conda, but similar instructions for Pip are [here](https://packaging.python.org/en/latest/guides/installing-using-pip-and-virtual-environments/), and then check out the \"editable\" option as described [here](https://pip-python3.readthedocs.io/en/latest/reference/pip_install.html#options).\n",
    "\n",
    "You can create a Conda environment by typing the following (as outlined in Conda's documentation on [managing environments](https://docs.conda.io/projects/conda/en/latest/user-guide/tasks/manage-environments.html#)):\n",
    "\n",
    "```\n",
    "conda create --name myenv package1 package2 ...\n",
    "```\n",
    "\n",
    "where ```myenv``` is the name of your environment, and ```package1``` and ```package2``` are the names of packages you'd like to include in the new environment (e.g., ```numpy```, ```pandas```, etc.).\n",
    "\n",
    "Activate your new environment using:\n",
    "\n",
    "```\n",
    "conda activate myenv\n",
    "```\n",
    "\n",
    "You can *add your own package* to the environment as follows. Firstly, you need to install the ```conda-build``` package (run ```conda install conda-build``` with your environment activated), navigate to your project directory, and then type:\n",
    "\n",
    "```\n",
    "conda develop .\n",
    "```\n",
    "\n",
    "As usual, the period here says \"this directory\".\n",
    "\n",
    "This will add your directory to your environment, but in a state where you can edit the contents. So in this way, you've added your package to your path by modifying the virtual environment that you're working in."
   ]
  },
  {
   "cell_type": "markdown",
   "id": "90703739",
   "metadata": {},
   "source": [
    "### *Extra resources:*\n",
    "    \n",
    "Python docs: https://docs.python.org/3/tutorial/modules.html#modules\n",
    "\n",
    "Good blog explaining modules, packages, paths: https://www.devdungeon.com/content/python-import-syspath-and-pythonpath-tutorial\n",
    "\n",
    "More details on structuring your project: https://www.devdungeon.com/content/python-import-syspath-and-pythonpath-tutorial"
   ]
  },
  {
   "cell_type": "code",
   "execution_count": null,
   "id": "96b21f81",
   "metadata": {},
   "outputs": [],
   "source": []
  }
 ],
 "metadata": {
  "kernelspec": {
   "display_name": "Python 3 (ipykernel)",
   "language": "python",
   "name": "python3"
  },
  "language_info": {
   "codemirror_mode": {
    "name": "ipython",
    "version": 3
   },
   "file_extension": ".py",
   "mimetype": "text/x-python",
   "name": "python",
   "nbconvert_exporter": "python",
   "pygments_lexer": "ipython3",
   "version": "3.11.4"
  },
  "vscode": {
   "interpreter": {
    "hash": "31f2aee4e71d21fbe5cf8b01ff0e069b9275f58929596ceb00d14d90e3e16cd6"
   }
  }
 },
 "nbformat": 4,
 "nbformat_minor": 5
}

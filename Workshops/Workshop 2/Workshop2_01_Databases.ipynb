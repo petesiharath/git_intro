{
 "cells": [
  {
   "cell_type": "markdown",
   "metadata": {},
   "source": [
    "# Databases"
   ]
  },
  {
   "cell_type": "markdown",
   "metadata": {},
   "source": [
    "In this activity, we will consider how to access and query data from a database using Structured Query Language (SQL). To access this data we will be using a tool called SQLite in the background.\n",
    "\n",
    "We can do this using the pandas [`read_sql` function](https://pandas.pydata.org/docs/reference/api/pandas.read_sql.html) but we need to go through a few extra steps compared with accessing data from csv and Excel files."
   ]
  },
  {
   "cell_type": "markdown",
   "metadata": {},
   "source": [
    "The format of this function will be:\n",
    "\n",
    "```\n",
    "read_sql(sql, con, ...)\n",
    "\n",
    "where\n",
    "\n",
    "sql : SQL query or table name (can be a str)\n",
    "con : connectable (can be a str), way to connect to the database\n",
    "```\n",
    "\n",
    "and we will talk below about how to construct these inputs for the function."
   ]
  },
  {
   "cell_type": "markdown",
   "metadata": {},
   "source": [
    "#### Solar panel database\n",
    "\n",
    "The database we will be looking at is the [UKPVGeo database](https://github.com/openclimatefix/solar-power-mapping-data) which contains data on solar panels and solar farms in the UK. This combines data from multiple datasets (OpenStreetMap geo data and Renewable Energy Planning Database) alongside additional research to produce data on location and capacity for these sites.\n",
    "\n",
    "The full article on this dataset is available here: https://www.nature.com/articles/s41597-020-00739-0"
   ]
  },
  {
   "cell_type": "markdown",
   "metadata": {},
   "source": [
    "### Defining our database\n",
    "\n",
    "We will start by defining the `con` input and what that means.\n",
    "\n",
    "First, we need to define *what* we want to use to interpret our database, known as a *database service*. A specific database service will have been used to create the database initially and so also needs to be used to read and interpret the database.\n",
    "\n",
    "The *database service* we are using for this database is called *SQLite* but there are other similiar services such as *MySQL* or *PostgreSQL* which you may come across. All these options use a form of SQL to access data."
   ]
  },
  {
   "cell_type": "code",
   "execution_count": 17,
   "metadata": {
    "tags": []
   },
   "outputs": [],
   "source": [
    "database_service = \"sqlite\""
   ]
  },
  {
   "cell_type": "markdown",
   "metadata": {},
   "source": [
    "Second, we need to define *where* our database is stored.\n",
    "\n",
    "We have a local copy of our SQLite database in the \"data\" folder called `ukpvgeo.db`, but if we were accessing a database from an online server we could use a URL address here (complete with login information if needed)."
   ]
  },
  {
   "cell_type": "code",
   "execution_count": 18,
   "metadata": {
    "tags": []
   },
   "outputs": [],
   "source": [
    "database = \"data/ukpvgeo.db\""
   ]
  },
  {
   "cell_type": "markdown",
   "metadata": {},
   "source": [
    "The underlying Python library which understands how to access SQL databases is called `SQLAlchemy` but we don't need to access that directly because pandas can handle that for us. However, we do need to construct a string (which `SQLAlchemy` calls a connectable) that this library understands to be able to load and access our database. We can do so using the inputs we defined above:"
   ]
  },
  {
   "cell_type": "code",
   "execution_count": 19,
   "metadata": {
    "tags": []
   },
   "outputs": [
    {
     "name": "stdout",
     "output_type": "stream",
     "text": [
      "Our connectable for our database is sqlite:///data/ukpvgeo.db\n"
     ]
    }
   ],
   "source": [
    "connectable = f\"{database_service}:///{database}\"\n",
    "print(f\"Our connectable for our database is {connectable}\")"
   ]
  },
  {
   "cell_type": "markdown",
   "metadata": {},
   "source": [
    "Don't worry too much about the details of this for now but you can find more information on the format of these inputs in the `SQLAlchemy` documentation on [Database URLs](https://docs.sqlalchemy.org/en/13/core/engines.html#database-urls) ([SQLite](https://docs.sqlalchemy.org/en/13/core/engines.html#sqlite) specifically)."
   ]
  },
  {
   "cell_type": "markdown",
   "metadata": {},
   "source": [
    "### Defining our query\n",
    "\n",
    "One of the benefits of using SQL-type databases is that we can use SQL queries to only grab the data we need. Often these types of databases contain lots of data (100s MB - TB) which would be impractical to load fully into memory, like we did when reading and querying csv files using pandas.\n",
    "\n",
    "SQL is a language for selecting and filtering data which can be used to construct a database query.\n",
    "\n",
    "For our \"ukpvgeo.db\" data we need additional information about the tables contained within this SQLite database and the columns within those tables. These details can be found within the accompanying data dictionary file: [\"README_ukpvgeo.txt\"](data/README_ukpvgeo.txt) (stored in the \"data\" directory).\n",
    "\n",
    "From this file, we can see that the \"ukpvgeo.db\" database contains one table:\n",
    "- \"pv\"\n",
    "\n",
    "This table contains lots of columns, but some we may want to pick out are:\n",
    "- \"latitude\"\n",
    "- \"longitude\"\n",
    "- \"capacity_repd_MWp\"\n",
    "\n",
    "The final column listed above is defined as \"Renewable Energy Planning Database Megawatt estimated peak capacity of PV panel\" and so contains information on the peak energy capacity for each solar panel site."
   ]
  },
  {
   "cell_type": "markdown",
   "metadata": {},
   "source": [
    "When we construct an SQL query we use a set of keywords. Here are a few keywords we often need:\n",
    "- SELECT - which columns to select from the table\n",
    "- FROM - which table we want the data from (in this case \"pv\")\n",
    "- WHERE - any other conditions we want to apply e.g. values above a certain latitude\n",
    "\n",
    "We can put these all together into a single string, in the right order, to create our SQL query. Here is an example of one query we could create (as a string):"
   ]
  },
  {
   "cell_type": "code",
   "execution_count": 20,
   "metadata": {
    "tags": []
   },
   "outputs": [],
   "source": [
    "query = \"SELECT latitude, longitude, capacity_repd_MWp FROM pv WHERE latitude > 50\""
   ]
  },
  {
   "cell_type": "markdown",
   "metadata": {},
   "source": [
    "This would *select* the columns \"latitude\", \"longitude\" and \"capacity_repd_MWp\" *from* the \"pv\" table *where* the latitude values are greater than 50.\n",
    "\n",
    "You can also include multiple conditions using boolean operators including AND and OR:"
   ]
  },
  {
   "cell_type": "code",
   "execution_count": 22,
   "metadata": {
    "tags": []
   },
   "outputs": [],
   "source": [
    "# The \\ here is just to let us split the string across multiple lines for visual clarity\n",
    "query = \"SELECT latitude, longitude, capacity_repd_MWp FROM pv \\\n",
    "         WHERE latitude > 50 AND latitude < 51 AND longitude > -1\""
   ]
  },
  {
   "cell_type": "markdown",
   "metadata": {},
   "source": [
    "SQL querying is very powerful and contains scope for performing complex operations and selections from databases. We have considered some of the essentials above but see this [SQL Cheatsheet](https://www.sqltutorial.org/sql-cheat-sheet/) and this specific [SQLite tutorial](https://www.sqlitetutorial.net/sqlite-select/) for more examples."
   ]
  },
  {
   "cell_type": "markdown",
   "metadata": {
    "tags": []
   },
   "source": [
    "### Accessing the data\n",
    "\n",
    "We can now use this query string along with the database (connectable) string we defined previously to access the data from the database and view this as a pandas DataFrame:"
   ]
  },
  {
   "cell_type": "code",
   "execution_count": 23,
   "metadata": {
    "tags": []
   },
   "outputs": [
    {
     "data": {
      "text/html": [
       "<div>\n",
       "<style scoped>\n",
       "    .dataframe tbody tr th:only-of-type {\n",
       "        vertical-align: middle;\n",
       "    }\n",
       "\n",
       "    .dataframe tbody tr th {\n",
       "        vertical-align: top;\n",
       "    }\n",
       "\n",
       "    .dataframe thead th {\n",
       "        text-align: right;\n",
       "    }\n",
       "</style>\n",
       "<table border=\"1\" class=\"dataframe\">\n",
       "  <thead>\n",
       "    <tr style=\"text-align: right;\">\n",
       "      <th></th>\n",
       "      <th>latitude</th>\n",
       "      <th>longitude</th>\n",
       "      <th>capacity_repd_MWp</th>\n",
       "    </tr>\n",
       "  </thead>\n",
       "  <tbody>\n",
       "    <tr>\n",
       "      <th>0</th>\n",
       "      <td>50.876279</td>\n",
       "      <td>0.457144</td>\n",
       "      <td>NaN</td>\n",
       "    </tr>\n",
       "    <tr>\n",
       "      <th>1</th>\n",
       "      <td>50.873649</td>\n",
       "      <td>0.451525</td>\n",
       "      <td>NaN</td>\n",
       "    </tr>\n",
       "    <tr>\n",
       "      <th>2</th>\n",
       "      <td>50.874459</td>\n",
       "      <td>0.453338</td>\n",
       "      <td>NaN</td>\n",
       "    </tr>\n",
       "    <tr>\n",
       "      <th>3</th>\n",
       "      <td>50.874683</td>\n",
       "      <td>0.452878</td>\n",
       "      <td>4.0</td>\n",
       "    </tr>\n",
       "    <tr>\n",
       "      <th>4</th>\n",
       "      <td>50.945229</td>\n",
       "      <td>-0.333093</td>\n",
       "      <td>10.0</td>\n",
       "    </tr>\n",
       "    <tr>\n",
       "      <th>...</th>\n",
       "      <td>...</td>\n",
       "      <td>...</td>\n",
       "      <td>...</td>\n",
       "    </tr>\n",
       "    <tr>\n",
       "      <th>2573</th>\n",
       "      <td>50.828018</td>\n",
       "      <td>-0.555577</td>\n",
       "      <td>3.0</td>\n",
       "    </tr>\n",
       "    <tr>\n",
       "      <th>2574</th>\n",
       "      <td>50.834428</td>\n",
       "      <td>-0.606416</td>\n",
       "      <td>5.0</td>\n",
       "    </tr>\n",
       "    <tr>\n",
       "      <th>2575</th>\n",
       "      <td>50.846932</td>\n",
       "      <td>-0.743131</td>\n",
       "      <td>7.5</td>\n",
       "    </tr>\n",
       "    <tr>\n",
       "      <th>2576</th>\n",
       "      <td>50.938196</td>\n",
       "      <td>0.071365</td>\n",
       "      <td>NaN</td>\n",
       "    </tr>\n",
       "    <tr>\n",
       "      <th>2577</th>\n",
       "      <td>50.938882</td>\n",
       "      <td>-0.433815</td>\n",
       "      <td>NaN</td>\n",
       "    </tr>\n",
       "  </tbody>\n",
       "</table>\n",
       "<p>2578 rows × 3 columns</p>\n",
       "</div>"
      ],
      "text/plain": [
       "       latitude  longitude  capacity_repd_MWp\n",
       "0     50.876279   0.457144                NaN\n",
       "1     50.873649   0.451525                NaN\n",
       "2     50.874459   0.453338                NaN\n",
       "3     50.874683   0.452878                4.0\n",
       "4     50.945229  -0.333093               10.0\n",
       "...         ...        ...                ...\n",
       "2573  50.828018  -0.555577                3.0\n",
       "2574  50.834428  -0.606416                5.0\n",
       "2575  50.846932  -0.743131                7.5\n",
       "2576  50.938196   0.071365                NaN\n",
       "2577  50.938882  -0.433815                NaN\n",
       "\n",
       "[2578 rows x 3 columns]"
      ]
     },
     "execution_count": 23,
     "metadata": {},
     "output_type": "execute_result"
    }
   ],
   "source": [
    "import pandas as pd\n",
    "\n",
    "ukpvgeo_selected = pd.read_sql(query, connectable)\n",
    "ukpvgeo_selected"
   ]
  },
  {
   "cell_type": "markdown",
   "metadata": {},
   "source": [
    "## Saving to a database\n",
    "\n",
    "When we have manipulated and subsetted data we may want to save this to a new database for use later on. From the pandas DataFrame format we could choose to save this data to whatever format seems appropriate.\n",
    "\n",
    "If we wanted to save to an SQLite (or other SQL-based) database, this is very similiar to the process of reading the data. We need to provide a name for our output table and specify where to save the file (as a connectable - same format as above)."
   ]
  },
  {
   "cell_type": "code",
   "execution_count": 24,
   "metadata": {
    "tags": []
   },
   "outputs": [
    {
     "data": {
      "text/plain": [
       "2578"
      ]
     },
     "execution_count": 24,
     "metadata": {},
     "output_type": "execute_result"
    }
   ],
   "source": [
    "table_new = \"pv\"\n",
    "connectable_new = \"sqlite:///data/ukpvgeo_subset.db\"\n",
    "\n",
    "ukpvgeo_selected.to_sql(table_new, connectable_new, if_exists=\"replace\")"
   ]
  },
  {
   "cell_type": "markdown",
   "metadata": {},
   "source": [
    "*Note: The `if_replace=\"replace\"` keyword is included to allow this notebook (and this cell) be run multiple times without producing a ValueError. This is not needed in general when creating a database and table.*"
   ]
  },
  {
   "cell_type": "markdown",
   "metadata": {},
   "source": [
    "---"
   ]
  },
  {
   "cell_type": "markdown",
   "metadata": {
    "tags": []
   },
   "source": [
    "### Exercise A"
   ]
  },
  {
   "cell_type": "markdown",
   "metadata": {},
   "source": [
    "From the UKPVGeo database, we want to find a rough value for the number of solar panels/farms in the Bristol area which are listed as operational.\n",
    "\n",
    "*You can complete this task following the steps below, or approach this in a different way if you prefer. However, you should aim to use SQL queries as part of your solution.*\n",
    "\n",
    "Data dictionary: [data/README_ukpvgeo.txt](data/README_ukpvgeo.txt)\n",
    "\n",
    "1) Consider which columns for this database would provide information about the status of the PV panel and whether this is operational. Based on the SQL query defined above (`query`), create and run a new SQL query which also extracts additional column(s) from the database."
   ]
  },
  {
   "cell_type": "code",
   "execution_count": 46,
   "metadata": {
    "tags": []
   },
   "outputs": [],
   "source": [
    "new_query = \"SELECT latitude, longitude, repd_status, capacity_repd_MWp FROM pv\""
   ]
  },
  {
   "cell_type": "markdown",
   "metadata": {},
   "source": [
    "2) When querying the database, what would be a useful filter to include to only select a rough area around Bristol (e.g. ~20km)? Based on the SQL query defined in the previous question, create and run an SQL query which only grabs the data for an area around Bristol.\n",
    "\n",
    "*Hint: central Bristol is at roughly 51.455795, -2.583467 degrees (0.1 degrees is ~11km)*"
   ]
  },
  {
   "cell_type": "code",
   "execution_count": 47,
   "metadata": {
    "tags": []
   },
   "outputs": [
    {
     "data": {
      "text/html": [
       "<div>\n",
       "<style scoped>\n",
       "    .dataframe tbody tr th:only-of-type {\n",
       "        vertical-align: middle;\n",
       "    }\n",
       "\n",
       "    .dataframe tbody tr th {\n",
       "        vertical-align: top;\n",
       "    }\n",
       "\n",
       "    .dataframe thead th {\n",
       "        text-align: right;\n",
       "    }\n",
       "</style>\n",
       "<table border=\"1\" class=\"dataframe\">\n",
       "  <thead>\n",
       "    <tr style=\"text-align: right;\">\n",
       "      <th></th>\n",
       "      <th>latitude</th>\n",
       "      <th>longitude</th>\n",
       "      <th>repd_status</th>\n",
       "      <th>capacity_repd_MWp</th>\n",
       "    </tr>\n",
       "  </thead>\n",
       "  <tbody>\n",
       "    <tr>\n",
       "      <th>0</th>\n",
       "      <td>51.545819</td>\n",
       "      <td>-2.579605</td>\n",
       "      <td>Operational</td>\n",
       "      <td>8.0</td>\n",
       "    </tr>\n",
       "    <tr>\n",
       "      <th>1</th>\n",
       "      <td>51.527398</td>\n",
       "      <td>-2.444215</td>\n",
       "      <td>Operational</td>\n",
       "      <td>19.8</td>\n",
       "    </tr>\n",
       "    <tr>\n",
       "      <th>2</th>\n",
       "      <td>51.527292</td>\n",
       "      <td>-2.446618</td>\n",
       "      <td>Operational</td>\n",
       "      <td>NaN</td>\n",
       "    </tr>\n",
       "    <tr>\n",
       "      <th>3</th>\n",
       "      <td>51.542598</td>\n",
       "      <td>-2.529121</td>\n",
       "      <td>Operational</td>\n",
       "      <td>21.0</td>\n",
       "    </tr>\n",
       "    <tr>\n",
       "      <th>4</th>\n",
       "      <td>51.537894</td>\n",
       "      <td>-2.534388</td>\n",
       "      <td>Operational</td>\n",
       "      <td>15.0</td>\n",
       "    </tr>\n",
       "    <tr>\n",
       "      <th>...</th>\n",
       "      <td>...</td>\n",
       "      <td>...</td>\n",
       "      <td>...</td>\n",
       "      <td>...</td>\n",
       "    </tr>\n",
       "    <tr>\n",
       "      <th>1694</th>\n",
       "      <td>51.504026</td>\n",
       "      <td>-2.506577</td>\n",
       "      <td>None</td>\n",
       "      <td>NaN</td>\n",
       "    </tr>\n",
       "    <tr>\n",
       "      <th>1695</th>\n",
       "      <td>51.503972</td>\n",
       "      <td>-2.506754</td>\n",
       "      <td>None</td>\n",
       "      <td>NaN</td>\n",
       "    </tr>\n",
       "    <tr>\n",
       "      <th>1696</th>\n",
       "      <td>51.324821</td>\n",
       "      <td>-2.696806</td>\n",
       "      <td>Awaiting Construction</td>\n",
       "      <td>1.0</td>\n",
       "    </tr>\n",
       "    <tr>\n",
       "      <th>1697</th>\n",
       "      <td>51.533551</td>\n",
       "      <td>-2.675828</td>\n",
       "      <td>Operational</td>\n",
       "      <td>1.8</td>\n",
       "    </tr>\n",
       "    <tr>\n",
       "      <th>1698</th>\n",
       "      <td>51.423577</td>\n",
       "      <td>-2.753631</td>\n",
       "      <td>None</td>\n",
       "      <td>NaN</td>\n",
       "    </tr>\n",
       "  </tbody>\n",
       "</table>\n",
       "<p>1699 rows × 4 columns</p>\n",
       "</div>"
      ],
      "text/plain": [
       "       latitude  longitude            repd_status  capacity_repd_MWp\n",
       "0     51.545819  -2.579605            Operational                8.0\n",
       "1     51.527398  -2.444215            Operational               19.8\n",
       "2     51.527292  -2.446618            Operational                NaN\n",
       "3     51.542598  -2.529121            Operational               21.0\n",
       "4     51.537894  -2.534388            Operational               15.0\n",
       "...         ...        ...                    ...                ...\n",
       "1694  51.504026  -2.506577                   None                NaN\n",
       "1695  51.503972  -2.506754                   None                NaN\n",
       "1696  51.324821  -2.696806  Awaiting Construction                1.0\n",
       "1697  51.533551  -2.675828            Operational                1.8\n",
       "1698  51.423577  -2.753631                   None                NaN\n",
       "\n",
       "[1699 rows x 4 columns]"
      ]
     },
     "execution_count": 47,
     "metadata": {},
     "output_type": "execute_result"
    }
   ],
   "source": [
    "new_query = \"SELECT latitude, longitude, repd_status, capacity_repd_MWp FROM pv WHERE latitude > 51.2739768 AND latitude < 51.637613 AND longitude > -2.765285 AND longitude < -2.401649\"\n",
    "ukpvgeo_bristol = pd.read_sql(new_query, connectable)\n",
    "ukpvgeo_bristol"
   ]
  },
  {
   "cell_type": "markdown",
   "metadata": {},
   "source": [
    "3) For the DataFrame you have created, use pandas to filter this to only include entries where the site is listed as operational"
   ]
  },
  {
   "cell_type": "code",
   "execution_count": 48,
   "metadata": {
    "tags": []
   },
   "outputs": [
    {
     "data": {
      "text/html": [
       "<div>\n",
       "<style scoped>\n",
       "    .dataframe tbody tr th:only-of-type {\n",
       "        vertical-align: middle;\n",
       "    }\n",
       "\n",
       "    .dataframe tbody tr th {\n",
       "        vertical-align: top;\n",
       "    }\n",
       "\n",
       "    .dataframe thead th {\n",
       "        text-align: right;\n",
       "    }\n",
       "</style>\n",
       "<table border=\"1\" class=\"dataframe\">\n",
       "  <thead>\n",
       "    <tr style=\"text-align: right;\">\n",
       "      <th></th>\n",
       "      <th>latitude</th>\n",
       "      <th>longitude</th>\n",
       "      <th>repd_status</th>\n",
       "      <th>capacity_repd_MWp</th>\n",
       "    </tr>\n",
       "  </thead>\n",
       "  <tbody>\n",
       "    <tr>\n",
       "      <th>0</th>\n",
       "      <td>51.545819</td>\n",
       "      <td>-2.579605</td>\n",
       "      <td>Operational</td>\n",
       "      <td>8.0</td>\n",
       "    </tr>\n",
       "    <tr>\n",
       "      <th>1</th>\n",
       "      <td>51.527398</td>\n",
       "      <td>-2.444215</td>\n",
       "      <td>Operational</td>\n",
       "      <td>19.8</td>\n",
       "    </tr>\n",
       "    <tr>\n",
       "      <th>2</th>\n",
       "      <td>51.527292</td>\n",
       "      <td>-2.446618</td>\n",
       "      <td>Operational</td>\n",
       "      <td>NaN</td>\n",
       "    </tr>\n",
       "    <tr>\n",
       "      <th>3</th>\n",
       "      <td>51.542598</td>\n",
       "      <td>-2.529121</td>\n",
       "      <td>Operational</td>\n",
       "      <td>21.0</td>\n",
       "    </tr>\n",
       "    <tr>\n",
       "      <th>4</th>\n",
       "      <td>51.537894</td>\n",
       "      <td>-2.534388</td>\n",
       "      <td>Operational</td>\n",
       "      <td>15.0</td>\n",
       "    </tr>\n",
       "    <tr>\n",
       "      <th>...</th>\n",
       "      <td>...</td>\n",
       "      <td>...</td>\n",
       "      <td>...</td>\n",
       "      <td>...</td>\n",
       "    </tr>\n",
       "    <tr>\n",
       "      <th>1667</th>\n",
       "      <td>51.533577</td>\n",
       "      <td>-2.675853</td>\n",
       "      <td>Operational</td>\n",
       "      <td>NaN</td>\n",
       "    </tr>\n",
       "    <tr>\n",
       "      <th>1668</th>\n",
       "      <td>51.558873</td>\n",
       "      <td>-2.655957</td>\n",
       "      <td>Operational</td>\n",
       "      <td>NaN</td>\n",
       "    </tr>\n",
       "    <tr>\n",
       "      <th>1669</th>\n",
       "      <td>51.559925</td>\n",
       "      <td>-2.655834</td>\n",
       "      <td>Operational</td>\n",
       "      <td>NaN</td>\n",
       "    </tr>\n",
       "    <tr>\n",
       "      <th>1670</th>\n",
       "      <td>51.545219</td>\n",
       "      <td>-2.579614</td>\n",
       "      <td>Operational</td>\n",
       "      <td>NaN</td>\n",
       "    </tr>\n",
       "    <tr>\n",
       "      <th>1697</th>\n",
       "      <td>51.533551</td>\n",
       "      <td>-2.675828</td>\n",
       "      <td>Operational</td>\n",
       "      <td>1.8</td>\n",
       "    </tr>\n",
       "  </tbody>\n",
       "</table>\n",
       "<p>100 rows × 4 columns</p>\n",
       "</div>"
      ],
      "text/plain": [
       "       latitude  longitude  repd_status  capacity_repd_MWp\n",
       "0     51.545819  -2.579605  Operational                8.0\n",
       "1     51.527398  -2.444215  Operational               19.8\n",
       "2     51.527292  -2.446618  Operational                NaN\n",
       "3     51.542598  -2.529121  Operational               21.0\n",
       "4     51.537894  -2.534388  Operational               15.0\n",
       "...         ...        ...          ...                ...\n",
       "1667  51.533577  -2.675853  Operational                NaN\n",
       "1668  51.558873  -2.655957  Operational                NaN\n",
       "1669  51.559925  -2.655834  Operational                NaN\n",
       "1670  51.545219  -2.579614  Operational                NaN\n",
       "1697  51.533551  -2.675828  Operational                1.8\n",
       "\n",
       "[100 rows x 4 columns]"
      ]
     },
     "execution_count": 48,
     "metadata": {},
     "output_type": "execute_result"
    }
   ],
   "source": [
    "ukpv_oper = ukpvgeo_bristol[ukpvgeo_bristol[\"repd_status\"] == \"Operational\"]\n",
    "ukpv_oper"
   ]
  },
  {
   "cell_type": "markdown",
   "metadata": {},
   "source": [
    "4) For this filtered DataFrame, find the number of solar panels/farm in total."
   ]
  },
  {
   "cell_type": "code",
   "execution_count": 49,
   "metadata": {
    "tags": []
   },
   "outputs": [
    {
     "data": {
      "text/plain": [
       "100"
      ]
     },
     "execution_count": 49,
     "metadata": {},
     "output_type": "execute_result"
    }
   ],
   "source": [
    "ukpv_oper.shape[0]"
   ]
  },
  {
   "cell_type": "markdown",
   "metadata": {},
   "source": [
    "Extra: What is the approximate average capacity of these solar panels/farms?"
   ]
  },
  {
   "cell_type": "code",
   "execution_count": 59,
   "metadata": {
    "tags": []
   },
   "outputs": [
    {
     "data": {
      "text/plain": [
       "6.405263157894737"
      ]
     },
     "execution_count": 59,
     "metadata": {},
     "output_type": "execute_result"
    }
   ],
   "source": [
    "capacity = ukpv_oper.dropna()[\"capacity_repd_MWp\"]\n",
    "capacity.mean()"
   ]
  },
  {
   "cell_type": "markdown",
   "metadata": {},
   "source": [
    "---"
   ]
  }
 ],
 "metadata": {
  "kernelspec": {
   "display_name": "Python 3 (ipykernel)",
   "language": "python",
   "name": "python3"
  },
  "language_info": {
   "codemirror_mode": {
    "name": "ipython",
    "version": 3
   },
   "file_extension": ".py",
   "mimetype": "text/x-python",
   "name": "python",
   "nbconvert_exporter": "python",
   "pygments_lexer": "ipython3",
   "version": "3.11.4"
  }
 },
 "nbformat": 4,
 "nbformat_minor": 4
}

{
 "cells": [
  {
   "cell_type": "markdown",
   "metadata": {
    "slideshow": {
     "slide_type": "slide"
    },
    "tags": []
   },
   "source": [
    "# Intermediate Scientific Computing\n",
    "\n",
    "## Workshop 2: Data Science (1)"
   ]
  },
  {
   "cell_type": "markdown",
   "metadata": {
    "slideshow": {
     "slide_type": "slide"
    },
    "tags": []
   },
   "source": [
    "### Last year\n",
    "\n",
    "In the introductory course, we started to look into using Python for data analysis. This was primarily done through the `pandas` (and `matplotlib`) libraries which allowed us to search, manipulate, interpret and plot data using the tools available.\n",
    "\n",
    "In Data Science 1 (Weeks 2 and 3), we are going to build on what you learnt and start to consider new ways to interact with and analyse data."
   ]
  },
  {
   "cell_type": "markdown",
   "metadata": {
    "slideshow": {
     "slide_type": "slide"
    },
    "tags": []
   },
   "source": [
    "### Summary\n",
    "\n",
    "If you need a refresher of some of the data analysis concepts and syntax we covered in the introductory course, the summary notebook from the Introductory Scientific Computing course (Week 18) for data analysis has been included in your course notes for this week.\n",
    "\n",
    "[Workshop2_IntroRecap_DataAnalysis](Workshop2_IntroRecap_DataAnalysis.ipynb)"
   ]
  },
  {
   "cell_type": "markdown",
   "metadata": {
    "slideshow": {
     "slide_type": "slide"
    },
    "tags": []
   },
   "source": [
    "## Today's session\n",
    "\n",
    "**Aim**: Learn how to access and manipulate data from a database\n",
    "\n",
    "- Read and save to an SQL database\n",
    "   - [*Workshop2_01_Databases*](Workshop2_01_Databases.ipynb)\n",
    "- Demonstrate and use database operations\n",
    "   - [*Workshop2_02_Operations*](Workshop2_02_Operations.ipynb)\n",
    "\n",
    " \n",
    " \n",
    "\n"
   ]
  },
  {
   "cell_type": "markdown",
   "metadata": {
    "slideshow": {
     "slide_type": "slide"
    },
    "tags": []
   },
   "source": [
    "### Anaconda: triage\n",
    "\n",
    "Whilst working through the exercises we'll also come round and help with any Anaconda issues or questions.\n",
    "\n",
    "Feel free to use Noteable to complete the exercises if needed."
   ]
  },
  {
   "cell_type": "markdown",
   "metadata": {
    "slideshow": {
     "slide_type": "slide"
    },
    "tags": []
   },
   "source": [
    "## Databases\n",
    "\n",
    "So far, we have been accessing data using relatively human-friendly data files such as csv, text and Excel databases. Storing data in this way means it can be easily visualised and updated if needed."
   ]
  },
  {
   "cell_type": "markdown",
   "metadata": {
    "slideshow": {
     "slide_type": "fragment"
    },
    "tags": []
   },
   "source": [
    "Often larger datasets are stored in more complex databases, sometimes where multiple tables of data are related. The most popular type are *SQL databases*. The property in common between these is that you can interface with them using SQL (Structured Query Language).\n",
    "\n",
    "We will be considering how to interact with one database type called *SQLite* and how this can be integrated into Python using a `pandas` front end."
   ]
  },
  {
   "cell_type": "markdown",
   "metadata": {
    "slideshow": {
     "slide_type": "slide"
    },
    "tags": []
   },
   "source": [
    "## Reading and writing a database\n",
    "\n",
    "For the the first activity we will be exploring the use of SQL databases and how we can use pandas to access and query them, as well as how to create them.\n",
    "\n",
    "[*Workshop2_01_Databases*](Workshop2_01_Databases.ipynb)"
   ]
  },
  {
   "cell_type": "markdown",
   "metadata": {
    "slideshow": {
     "slide_type": "slide"
    },
    "tags": []
   },
   "source": [
    "## Database operations\n",
    "\n",
    "In this activity we will look at how we can use database operations to join data from multiple data sets and how this can be used.\n",
    "\n",
    "[*Workshop2_02_Operations*](Workshop2_02_Operations.ipynb)"
   ]
  },
  {
   "cell_type": "markdown",
   "metadata": {
    "slideshow": {
     "slide_type": "slide"
    },
    "tags": []
   },
   "source": [
    "## Before the next workshop\n",
    "### Asynchronous activities to be completed before the next workshop\n",
    "\n",
    "Go to the Blackboard course page Week 2 workshop.\n",
    "\n",
    "#### Pandas apply method ([notebook](Workshop2-3_asynchronous.ipynb))\n",
    "\n",
    "Look into the pandas apply method, working through the exercise to answer the questions.\n",
    "\n",
    "Post your answers on Padlet to discuss in the next workshop.\n",
    "\n",
    "- Padlet: https://uob.padlet.org/racheltunnicliffe1/hdatbmk7jph26x32"
   ]
  }
 ],
 "metadata": {
  "kernelspec": {
   "display_name": "Python 3 (ipykernel)",
   "language": "python",
   "name": "python3"
  },
  "language_info": {
   "codemirror_mode": {
    "name": "ipython",
    "version": 3
   },
   "file_extension": ".py",
   "mimetype": "text/x-python",
   "name": "python",
   "nbconvert_exporter": "python",
   "pygments_lexer": "ipython3",
   "version": "3.9.13"
  }
 },
 "nbformat": 4,
 "nbformat_minor": 4
}

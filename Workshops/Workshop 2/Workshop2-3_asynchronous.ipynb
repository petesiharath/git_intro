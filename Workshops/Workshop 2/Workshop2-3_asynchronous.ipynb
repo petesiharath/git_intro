{
 "cells": [
  {
   "cell_type": "markdown",
   "metadata": {},
   "source": [
    "# Asychronous activity\n",
    "\n",
    "## Applying functions"
   ]
  },
  {
   "cell_type": "markdown",
   "metadata": {},
   "source": [
    "For this activity, we are asking you to have a look at a particular function (method) you can use through pandas called `apply` and consider how this could be used."
   ]
  },
  {
   "cell_type": "markdown",
   "metadata": {},
   "source": [
    "#### Documentation\n",
    "\n",
    "To start with, have a look at the pandas documentation page:\n",
    "\n",
    "https://pandas.pydata.org/docs/reference/api/pandas.DataFrame.apply.html\n",
    "\n",
    "This method is called as `df.apply()` and acts on the pandas DataFrame provided.\n",
    "\n",
    "After reading through this page, if there is anything you're unsure about complete some of your own research to try and fill in the gaps. For instance, the examples show something called a `lamdba` function, which is a shorthand way to write a function, but if you'd like more information there are lots of resources online. *Note: there was a short explanation of lamdba (anonymous) functions within the Extended materials for Week21/Week21_01A_Python.ipynb of the Introductory Scientific Computing course.*"
   ]
  },
  {
   "cell_type": "markdown",
   "metadata": {},
   "source": [
    "### Activity\n",
    "\n",
    "After looking through these details, consider the answers to these questions:\n",
    "\n",
    "1) What does the apply function do?\n",
    "\n",
    "2) What type of input would you pass to the apply function for the first argument?\n",
    "\n",
    "3) Can you give an example of what could be passed to this function? Try to find/think of a different example than given on the documentation page itself."
   ]
  },
  {
   "cell_type": "markdown",
   "metadata": {},
   "source": [
    "#### Padlet\n",
    "\n",
    "Post your answers to these questions on Padlet.\n",
    "\n",
    "Access Padlet: https://uob.padlet.org/racheltunnicliffe1/hdatbmk7jph26x32"
   ]
  },
  {
   "cell_type": "markdown",
   "metadata": {},
   "source": [
    "---"
   ]
  }
 ],
 "metadata": {
  "kernelspec": {
   "display_name": "Python 3 (ipykernel)",
   "language": "python",
   "name": "python3"
  },
  "language_info": {
   "codemirror_mode": {
    "name": "ipython",
    "version": 3
   },
   "file_extension": ".py",
   "mimetype": "text/x-python",
   "name": "python",
   "nbconvert_exporter": "python",
   "pygments_lexer": "ipython3",
   "version": "3.9.13"
  }
 },
 "nbformat": 4,
 "nbformat_minor": 4
}

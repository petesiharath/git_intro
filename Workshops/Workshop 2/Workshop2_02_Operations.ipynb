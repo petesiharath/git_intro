{
 "cells": [
  {
   "cell_type": "markdown",
   "id": "a5a23573-db8b-4158-ac3b-34c4fe23eca3",
   "metadata": {},
   "source": [
    "# Database operations"
   ]
  },
  {
   "cell_type": "markdown",
   "id": "8e0f973e-7ec3-4dac-b018-6c1489b6977c",
   "metadata": {},
   "source": [
    "As well as accessing and manipulating data and databases, an important part of data science is how we can combine different datasets together.\n",
    "\n",
    "We can use the `pandas` module to demonstrate different aspects of [combining DataFrames](https://pandas.pydata.org/pandas-docs/stable/user_guide/merging.html) but these principles are actually more widely applicable to many databases in general (for example compare [pandas operations with SQL](https://pandas.pydata.org/pandas-docs/stable/getting_started/comparison/comparison_with_sql.html#compare-with-sql-join))."
   ]
  },
  {
   "cell_type": "markdown",
   "id": "cb47c951-1e24-475a-ac6b-06ebf606750b",
   "metadata": {
    "tags": []
   },
   "source": [
    "## Merging databases\n",
    "\n",
    "The main function for combining DataFrames in pandas is the [`merge()` function](https://pandas.pydata.org/pandas-docs/stable/reference/api/pandas.merge.html). This contains the logic for lots of standard database join operations.\n",
    "\n",
    "When using this function to combine databases, there are a few things we need to consider about the intended output of the join and the relationship between the databases."
   ]
  },
  {
   "cell_type": "markdown",
   "id": "bc6d53be-1fd0-4057-910d-85339f777ff2",
   "metadata": {},
   "source": [
    "### Set logic\n",
    "\n",
    "Overall, when deciding how we want to combine databases we need to consider *set logic*. This is the idea around \"unions\", \"intersections\" and \"differences\" of data sets. This can be nicely illustrated using Venn diagrams as shown below:"
   ]
  },
  {
   "cell_type": "markdown",
   "id": "5922a74c-cd7b-4789-8398-b29d1780c8ba",
   "metadata": {},
   "source": [
    "![Venn diagram of union, intersection and difference](images/Set_logic.png)\n",
    "\n",
    "A \"union\" encompasses both data sets, an \"intersection\" is the overlap between the data sets and a \"difference\" (as it sounds) is what is different between them."
   ]
  },
  {
   "cell_type": "markdown",
   "id": "de47501f-654e-49f3-b4ee-51be596abf5d",
   "metadata": {},
   "source": [
    "When using the `merge()` function and otherwise, `pandas` uses the idea of an \"inner\" join to represent an *intersection* and an \"outer\" join to represent *union*. You can also use options like the [`df.compare()` method](https://pandas.pydata.org/pandas-docs/stable/reference/api/pandas.DataFrame.compare.html) to look at a *difference* but this will not be covered here.\n",
    "\n",
    "If we define two DataFrames with some overlapping data, we can see what merging databases would start to look like:"
   ]
  },
  {
   "cell_type": "code",
   "execution_count": 25,
   "id": "393f486e-28ef-4157-a0f5-bc242ca73dc5",
   "metadata": {
    "tags": []
   },
   "outputs": [
    {
     "data": {
      "text/html": [
       "<div>\n",
       "<style scoped>\n",
       "    .dataframe tbody tr th:only-of-type {\n",
       "        vertical-align: middle;\n",
       "    }\n",
       "\n",
       "    .dataframe tbody tr th {\n",
       "        vertical-align: top;\n",
       "    }\n",
       "\n",
       "    .dataframe thead th {\n",
       "        text-align: right;\n",
       "    }\n",
       "</style>\n",
       "<table border=\"1\" class=\"dataframe\">\n",
       "  <thead>\n",
       "    <tr style=\"text-align: right;\">\n",
       "      <th></th>\n",
       "      <th>name</th>\n",
       "      <th>degree</th>\n",
       "    </tr>\n",
       "  </thead>\n",
       "  <tbody>\n",
       "    <tr>\n",
       "      <th>0</th>\n",
       "      <td>Frankie</td>\n",
       "      <td>Biology</td>\n",
       "    </tr>\n",
       "    <tr>\n",
       "      <th>1</th>\n",
       "      <td>Bill</td>\n",
       "      <td>Mathematics</td>\n",
       "    </tr>\n",
       "    <tr>\n",
       "      <th>2</th>\n",
       "      <td>Steven</td>\n",
       "      <td>Archaeology</td>\n",
       "    </tr>\n",
       "    <tr>\n",
       "      <th>3</th>\n",
       "      <td>Juan</td>\n",
       "      <td>Archaeology</td>\n",
       "    </tr>\n",
       "  </tbody>\n",
       "</table>\n",
       "</div>"
      ],
      "text/plain": [
       "      name       degree\n",
       "0  Frankie      Biology\n",
       "1     Bill  Mathematics\n",
       "2   Steven  Archaeology\n",
       "3     Juan  Archaeology"
      ]
     },
     "execution_count": 25,
     "metadata": {},
     "output_type": "execute_result"
    }
   ],
   "source": [
    "import pandas as pd\n",
    "\n",
    "# Data set of students and the degree they are studying\n",
    "students = pd.DataFrame({\"name\": [\"Frankie\", \"Bill\", \"Steven\", \"Juan\"],\n",
    "                         \"degree\":[\"Biology\", \"Mathematics\", \"Archaeology\", \"Archaeology\"]})\n",
    "students"
   ]
  },
  {
   "cell_type": "code",
   "execution_count": 26,
   "id": "d3bca1cd-82a7-468b-b69b-993604b8857e",
   "metadata": {
    "tags": []
   },
   "outputs": [
    {
     "data": {
      "text/html": [
       "<div>\n",
       "<style scoped>\n",
       "    .dataframe tbody tr th:only-of-type {\n",
       "        vertical-align: middle;\n",
       "    }\n",
       "\n",
       "    .dataframe tbody tr th {\n",
       "        vertical-align: top;\n",
       "    }\n",
       "\n",
       "    .dataframe thead th {\n",
       "        text-align: right;\n",
       "    }\n",
       "</style>\n",
       "<table border=\"1\" class=\"dataframe\">\n",
       "  <thead>\n",
       "    <tr style=\"text-align: right;\">\n",
       "      <th></th>\n",
       "      <th>degree</th>\n",
       "      <th>final_year_percentage</th>\n",
       "    </tr>\n",
       "  </thead>\n",
       "  <tbody>\n",
       "    <tr>\n",
       "      <th>0</th>\n",
       "      <td>Astronomy</td>\n",
       "      <td>40</td>\n",
       "    </tr>\n",
       "    <tr>\n",
       "      <th>1</th>\n",
       "      <td>Archaeology</td>\n",
       "      <td>50</td>\n",
       "    </tr>\n",
       "    <tr>\n",
       "      <th>2</th>\n",
       "      <td>Biology</td>\n",
       "      <td>30</td>\n",
       "    </tr>\n",
       "  </tbody>\n",
       "</table>\n",
       "</div>"
      ],
      "text/plain": [
       "        degree final_year_percentage\n",
       "0    Astronomy                    40\n",
       "1  Archaeology                    50\n",
       "2      Biology                    30"
      ]
     },
     "execution_count": 26,
     "metadata": {},
     "output_type": "execute_result"
    }
   ],
   "source": [
    "# Data set of each degree and some associated details\n",
    "degree_details = pd.DataFrame({\"degree\":[\"Astronomy\", \"Archaeology\", \"Biology\"],\n",
    "                    \"final_year_percentage\": [\"40\", \"50\", \"30\"]})\n",
    "degree_details"
   ]
  },
  {
   "cell_type": "markdown",
   "id": "270b58b8-ab40-4452-931c-6c6c6b114a5a",
   "metadata": {},
   "source": [
    "Here we have two DataFrames: one containing student names and the degree they're studying and the other containing information about a set of degrees. We can use the `merge()` function to combine those two DataFrames. In this case the simplest way to do this is to use an overlapping column name, in this case \"degree\":"
   ]
  },
  {
   "cell_type": "code",
   "execution_count": 27,
   "id": "c8dba442-3fce-4c87-b5ae-b25f75a20a84",
   "metadata": {
    "tags": []
   },
   "outputs": [
    {
     "data": {
      "text/html": [
       "<div>\n",
       "<style scoped>\n",
       "    .dataframe tbody tr th:only-of-type {\n",
       "        vertical-align: middle;\n",
       "    }\n",
       "\n",
       "    .dataframe tbody tr th {\n",
       "        vertical-align: top;\n",
       "    }\n",
       "\n",
       "    .dataframe thead th {\n",
       "        text-align: right;\n",
       "    }\n",
       "</style>\n",
       "<table border=\"1\" class=\"dataframe\">\n",
       "  <thead>\n",
       "    <tr style=\"text-align: right;\">\n",
       "      <th></th>\n",
       "      <th>name</th>\n",
       "      <th>degree</th>\n",
       "      <th>final_year_percentage</th>\n",
       "    </tr>\n",
       "  </thead>\n",
       "  <tbody>\n",
       "    <tr>\n",
       "      <th>0</th>\n",
       "      <td>Frankie</td>\n",
       "      <td>Biology</td>\n",
       "      <td>30</td>\n",
       "    </tr>\n",
       "    <tr>\n",
       "      <th>1</th>\n",
       "      <td>Steven</td>\n",
       "      <td>Archaeology</td>\n",
       "      <td>50</td>\n",
       "    </tr>\n",
       "    <tr>\n",
       "      <th>2</th>\n",
       "      <td>Juan</td>\n",
       "      <td>Archaeology</td>\n",
       "      <td>50</td>\n",
       "    </tr>\n",
       "  </tbody>\n",
       "</table>\n",
       "</div>"
      ],
      "text/plain": [
       "      name       degree final_year_percentage\n",
       "0  Frankie      Biology                    30\n",
       "1   Steven  Archaeology                    50\n",
       "2     Juan  Archaeology                    50"
      ]
     },
     "execution_count": 27,
     "metadata": {},
     "output_type": "execute_result"
    }
   ],
   "source": [
    "pd.merge(students, degree_details, on=\"degree\", how=\"inner\") # default - intersection"
   ]
  },
  {
   "cell_type": "code",
   "execution_count": 28,
   "id": "27e99a17-a6aa-4aa8-bc10-1920f3fcc46b",
   "metadata": {
    "tags": []
   },
   "outputs": [
    {
     "data": {
      "text/html": [
       "<div>\n",
       "<style scoped>\n",
       "    .dataframe tbody tr th:only-of-type {\n",
       "        vertical-align: middle;\n",
       "    }\n",
       "\n",
       "    .dataframe tbody tr th {\n",
       "        vertical-align: top;\n",
       "    }\n",
       "\n",
       "    .dataframe thead th {\n",
       "        text-align: right;\n",
       "    }\n",
       "</style>\n",
       "<table border=\"1\" class=\"dataframe\">\n",
       "  <thead>\n",
       "    <tr style=\"text-align: right;\">\n",
       "      <th></th>\n",
       "      <th>name</th>\n",
       "      <th>degree</th>\n",
       "      <th>final_year_percentage</th>\n",
       "    </tr>\n",
       "  </thead>\n",
       "  <tbody>\n",
       "    <tr>\n",
       "      <th>0</th>\n",
       "      <td>Frankie</td>\n",
       "      <td>Biology</td>\n",
       "      <td>30</td>\n",
       "    </tr>\n",
       "    <tr>\n",
       "      <th>1</th>\n",
       "      <td>Bill</td>\n",
       "      <td>Mathematics</td>\n",
       "      <td>NaN</td>\n",
       "    </tr>\n",
       "    <tr>\n",
       "      <th>2</th>\n",
       "      <td>Steven</td>\n",
       "      <td>Archaeology</td>\n",
       "      <td>50</td>\n",
       "    </tr>\n",
       "    <tr>\n",
       "      <th>3</th>\n",
       "      <td>Juan</td>\n",
       "      <td>Archaeology</td>\n",
       "      <td>50</td>\n",
       "    </tr>\n",
       "    <tr>\n",
       "      <th>4</th>\n",
       "      <td>NaN</td>\n",
       "      <td>Astronomy</td>\n",
       "      <td>40</td>\n",
       "    </tr>\n",
       "  </tbody>\n",
       "</table>\n",
       "</div>"
      ],
      "text/plain": [
       "      name       degree final_year_percentage\n",
       "0  Frankie      Biology                    30\n",
       "1     Bill  Mathematics                   NaN\n",
       "2   Steven  Archaeology                    50\n",
       "3     Juan  Archaeology                    50\n",
       "4      NaN    Astronomy                    40"
      ]
     },
     "execution_count": 28,
     "metadata": {},
     "output_type": "execute_result"
    }
   ],
   "source": [
    "pd.merge(students, degree_details, on=\"degree\", how=\"outer\") # union"
   ]
  },
  {
   "cell_type": "markdown",
   "id": "0a0fa6e7-b3f5-49b6-9cfa-6fa200de91e2",
   "metadata": {},
   "source": [
    "You can see that the `how` keyword can be used to decide how to merge these DataFrames and the difference this makes when using an \"inner\" (intersection) and \"outer\" (union) join. What happens when there is a missing entry?\n",
    "\n",
    "Another option for `how` is to retain all entries for the \"left\" or \"right\" DataFrame:"
   ]
  },
  {
   "cell_type": "code",
   "execution_count": 29,
   "id": "71b3b2af-9bd6-4019-a267-ce2d5a3f4941",
   "metadata": {
    "tags": []
   },
   "outputs": [
    {
     "data": {
      "text/html": [
       "<div>\n",
       "<style scoped>\n",
       "    .dataframe tbody tr th:only-of-type {\n",
       "        vertical-align: middle;\n",
       "    }\n",
       "\n",
       "    .dataframe tbody tr th {\n",
       "        vertical-align: top;\n",
       "    }\n",
       "\n",
       "    .dataframe thead th {\n",
       "        text-align: right;\n",
       "    }\n",
       "</style>\n",
       "<table border=\"1\" class=\"dataframe\">\n",
       "  <thead>\n",
       "    <tr style=\"text-align: right;\">\n",
       "      <th></th>\n",
       "      <th>name</th>\n",
       "      <th>degree</th>\n",
       "      <th>final_year_percentage</th>\n",
       "    </tr>\n",
       "  </thead>\n",
       "  <tbody>\n",
       "    <tr>\n",
       "      <th>0</th>\n",
       "      <td>Frankie</td>\n",
       "      <td>Biology</td>\n",
       "      <td>30</td>\n",
       "    </tr>\n",
       "    <tr>\n",
       "      <th>1</th>\n",
       "      <td>Bill</td>\n",
       "      <td>Mathematics</td>\n",
       "      <td>NaN</td>\n",
       "    </tr>\n",
       "    <tr>\n",
       "      <th>2</th>\n",
       "      <td>Steven</td>\n",
       "      <td>Archaeology</td>\n",
       "      <td>50</td>\n",
       "    </tr>\n",
       "    <tr>\n",
       "      <th>3</th>\n",
       "      <td>Juan</td>\n",
       "      <td>Archaeology</td>\n",
       "      <td>50</td>\n",
       "    </tr>\n",
       "  </tbody>\n",
       "</table>\n",
       "</div>"
      ],
      "text/plain": [
       "      name       degree final_year_percentage\n",
       "0  Frankie      Biology                    30\n",
       "1     Bill  Mathematics                   NaN\n",
       "2   Steven  Archaeology                    50\n",
       "3     Juan  Archaeology                    50"
      ]
     },
     "execution_count": 29,
     "metadata": {},
     "output_type": "execute_result"
    }
   ],
   "source": [
    "pd.merge(students, degree_details, on=\"degree\", how=\"left\")"
   ]
  },
  {
   "cell_type": "markdown",
   "id": "4ef00a58-b8a5-4be2-be35-da1c21a2b48b",
   "metadata": {},
   "source": [
    "**Quick question**: What do you think the merged DataFrame will look like if you merge based on the \"right\" DataFrame (`degree_details`) rather than \"left\" (`students`)? How many rows would this have? Try this below and see if this is what you expected."
   ]
  },
  {
   "cell_type": "code",
   "execution_count": 30,
   "id": "b3bf31e3-f1e1-4d96-a76f-124e8fddbc0c",
   "metadata": {
    "tags": []
   },
   "outputs": [
    {
     "data": {
      "text/html": [
       "<div>\n",
       "<style scoped>\n",
       "    .dataframe tbody tr th:only-of-type {\n",
       "        vertical-align: middle;\n",
       "    }\n",
       "\n",
       "    .dataframe tbody tr th {\n",
       "        vertical-align: top;\n",
       "    }\n",
       "\n",
       "    .dataframe thead th {\n",
       "        text-align: right;\n",
       "    }\n",
       "</style>\n",
       "<table border=\"1\" class=\"dataframe\">\n",
       "  <thead>\n",
       "    <tr style=\"text-align: right;\">\n",
       "      <th></th>\n",
       "      <th>name</th>\n",
       "      <th>degree</th>\n",
       "      <th>final_year_percentage</th>\n",
       "    </tr>\n",
       "  </thead>\n",
       "  <tbody>\n",
       "    <tr>\n",
       "      <th>0</th>\n",
       "      <td>NaN</td>\n",
       "      <td>Astronomy</td>\n",
       "      <td>40</td>\n",
       "    </tr>\n",
       "    <tr>\n",
       "      <th>1</th>\n",
       "      <td>Steven</td>\n",
       "      <td>Archaeology</td>\n",
       "      <td>50</td>\n",
       "    </tr>\n",
       "    <tr>\n",
       "      <th>2</th>\n",
       "      <td>Juan</td>\n",
       "      <td>Archaeology</td>\n",
       "      <td>50</td>\n",
       "    </tr>\n",
       "    <tr>\n",
       "      <th>3</th>\n",
       "      <td>Frankie</td>\n",
       "      <td>Biology</td>\n",
       "      <td>30</td>\n",
       "    </tr>\n",
       "  </tbody>\n",
       "</table>\n",
       "</div>"
      ],
      "text/plain": [
       "      name       degree final_year_percentage\n",
       "0      NaN    Astronomy                    40\n",
       "1   Steven  Archaeology                    50\n",
       "2     Juan  Archaeology                    50\n",
       "3  Frankie      Biology                    30"
      ]
     },
     "execution_count": 30,
     "metadata": {},
     "output_type": "execute_result"
    }
   ],
   "source": [
    "pd.merge(students, degree_details, on=\"degree\", how=\"right\")"
   ]
  },
  {
   "cell_type": "markdown",
   "id": "f60dd650-68bf-478b-b971-b2e31119373c",
   "metadata": {},
   "source": [
    "---"
   ]
  },
  {
   "cell_type": "markdown",
   "id": "3e13fda3-2fe1-4680-9eb6-4a8e1ea07d3d",
   "metadata": {
    "tags": []
   },
   "source": [
    "### Extra: Merge methods\n",
    "\n",
    "When merging databases it can also be necessary to consider the mapping between them. This can be characterised as:\n",
    " \n",
    "- one-to-one (`one_to_one`)\n",
    "- one-to-many or many-to-one (`one_to_many` or `many_to_one`)\n",
    "- many-to-many (`many_to_many`)\n",
    "\n",
    "This ties to the idea of whether we expect entries within each data set to be unique. For a one-to-one mapping we could expect the mapping column to be unique with one entry per value in *both* tables. For example if we consider another DataFrame defined for degree programmes:"
   ]
  },
  {
   "cell_type": "code",
   "execution_count": 31,
   "id": "e4be97b0-61c0-4316-9acb-be825d23cc9f",
   "metadata": {
    "tags": []
   },
   "outputs": [],
   "source": [
    "degree_numbers = pd.DataFrame({\"degree\": [\"Mathematics\", \"History\", \"Astronomy\"],\n",
    "                               \"number_of_students\": [321, 157, 56]})"
   ]
  },
  {
   "cell_type": "code",
   "execution_count": 32,
   "id": "a7be5004-6033-44cf-ad5f-5fd5c2790d43",
   "metadata": {
    "tags": []
   },
   "outputs": [
    {
     "data": {
      "text/html": [
       "<div>\n",
       "<style scoped>\n",
       "    .dataframe tbody tr th:only-of-type {\n",
       "        vertical-align: middle;\n",
       "    }\n",
       "\n",
       "    .dataframe tbody tr th {\n",
       "        vertical-align: top;\n",
       "    }\n",
       "\n",
       "    .dataframe thead th {\n",
       "        text-align: right;\n",
       "    }\n",
       "</style>\n",
       "<table border=\"1\" class=\"dataframe\">\n",
       "  <thead>\n",
       "    <tr style=\"text-align: right;\">\n",
       "      <th></th>\n",
       "      <th>degree</th>\n",
       "      <th>final_year_percentage</th>\n",
       "      <th>number_of_students</th>\n",
       "    </tr>\n",
       "  </thead>\n",
       "  <tbody>\n",
       "    <tr>\n",
       "      <th>0</th>\n",
       "      <td>Astronomy</td>\n",
       "      <td>40</td>\n",
       "      <td>56.0</td>\n",
       "    </tr>\n",
       "    <tr>\n",
       "      <th>1</th>\n",
       "      <td>Archaeology</td>\n",
       "      <td>50</td>\n",
       "      <td>NaN</td>\n",
       "    </tr>\n",
       "    <tr>\n",
       "      <th>2</th>\n",
       "      <td>Biology</td>\n",
       "      <td>30</td>\n",
       "      <td>NaN</td>\n",
       "    </tr>\n",
       "    <tr>\n",
       "      <th>3</th>\n",
       "      <td>Mathematics</td>\n",
       "      <td>NaN</td>\n",
       "      <td>321.0</td>\n",
       "    </tr>\n",
       "    <tr>\n",
       "      <th>4</th>\n",
       "      <td>History</td>\n",
       "      <td>NaN</td>\n",
       "      <td>157.0</td>\n",
       "    </tr>\n",
       "  </tbody>\n",
       "</table>\n",
       "</div>"
      ],
      "text/plain": [
       "        degree final_year_percentage  number_of_students\n",
       "0    Astronomy                    40                56.0\n",
       "1  Archaeology                    50                 NaN\n",
       "2      Biology                    30                 NaN\n",
       "3  Mathematics                   NaN               321.0\n",
       "4      History                   NaN               157.0"
      ]
     },
     "execution_count": 32,
     "metadata": {},
     "output_type": "execute_result"
    }
   ],
   "source": [
    "pd.merge(degree_details, degree_numbers, on=\"degree\", how=\"outer\", validate=\"one_to_one\")"
   ]
  },
  {
   "cell_type": "markdown",
   "id": "655c1a01-f8b6-4354-8cf2-86d2df7c615d",
   "metadata": {},
   "source": [
    "We used the `validate` keyword here to check that the mapping matched to what we expected. In this case that was `one_to_one`: we expected each entry in the course column to be unique in both data sets.\n",
    "\n",
    "If we look at another DataFrame, this time defining units and the degree they are each associated with:"
   ]
  },
  {
   "cell_type": "code",
   "execution_count": 33,
   "id": "e3a79751-722e-492d-b014-b9c18beb4b01",
   "metadata": {
    "tags": []
   },
   "outputs": [],
   "source": [
    "degree_units = pd.DataFrame({\"unit\":[\"Life Processes\", \"Microbiology\", \"Ancient Saxons\", \"Analysis\"],\n",
    "                        \"degree\":[\"Biology\", \"Biology\", \"Archaeology\", \"Mathematics\"]})"
   ]
  },
  {
   "cell_type": "markdown",
   "id": "48036293-ceda-440d-99fc-e0d15e9564d3",
   "metadata": {},
   "source": [
    "In this case, we may expect a different mapping if we match to `degree_details`:"
   ]
  },
  {
   "cell_type": "code",
   "execution_count": 34,
   "id": "f2738c5e-c803-4a68-beac-2a536163a6a8",
   "metadata": {
    "tags": []
   },
   "outputs": [
    {
     "data": {
      "text/html": [
       "<div>\n",
       "<style scoped>\n",
       "    .dataframe tbody tr th:only-of-type {\n",
       "        vertical-align: middle;\n",
       "    }\n",
       "\n",
       "    .dataframe tbody tr th {\n",
       "        vertical-align: top;\n",
       "    }\n",
       "\n",
       "    .dataframe thead th {\n",
       "        text-align: right;\n",
       "    }\n",
       "</style>\n",
       "<table border=\"1\" class=\"dataframe\">\n",
       "  <thead>\n",
       "    <tr style=\"text-align: right;\">\n",
       "      <th></th>\n",
       "      <th>degree</th>\n",
       "      <th>final_year_percentage</th>\n",
       "      <th>unit</th>\n",
       "    </tr>\n",
       "  </thead>\n",
       "  <tbody>\n",
       "    <tr>\n",
       "      <th>0</th>\n",
       "      <td>Astronomy</td>\n",
       "      <td>40</td>\n",
       "      <td>NaN</td>\n",
       "    </tr>\n",
       "    <tr>\n",
       "      <th>1</th>\n",
       "      <td>Archaeology</td>\n",
       "      <td>50</td>\n",
       "      <td>Ancient Saxons</td>\n",
       "    </tr>\n",
       "    <tr>\n",
       "      <th>2</th>\n",
       "      <td>Biology</td>\n",
       "      <td>30</td>\n",
       "      <td>Life Processes</td>\n",
       "    </tr>\n",
       "    <tr>\n",
       "      <th>3</th>\n",
       "      <td>Biology</td>\n",
       "      <td>30</td>\n",
       "      <td>Microbiology</td>\n",
       "    </tr>\n",
       "    <tr>\n",
       "      <th>4</th>\n",
       "      <td>Mathematics</td>\n",
       "      <td>NaN</td>\n",
       "      <td>Analysis</td>\n",
       "    </tr>\n",
       "  </tbody>\n",
       "</table>\n",
       "</div>"
      ],
      "text/plain": [
       "        degree final_year_percentage            unit\n",
       "0    Astronomy                    40             NaN\n",
       "1  Archaeology                    50  Ancient Saxons\n",
       "2      Biology                    30  Life Processes\n",
       "3      Biology                    30    Microbiology\n",
       "4  Mathematics                   NaN        Analysis"
      ]
     },
     "execution_count": 34,
     "metadata": {},
     "output_type": "execute_result"
    }
   ],
   "source": [
    "pd.merge(degree_details, degree_units, on=\"degree\", how=\"outer\", validate=\"one_to_many\")"
   ]
  },
  {
   "cell_type": "markdown",
   "id": "24fb8d27-22dc-4bbf-adc1-de8ef5216f65",
   "metadata": {},
   "source": [
    "We still expect `degree` to be unique in our first data set but don't expect it be unique in the second one. We checked this by validating against a `one_to_many` mapping."
   ]
  },
  {
   "cell_type": "markdown",
   "id": "00c34ec6-b7e8-4767-b65a-d28935b98794",
   "metadata": {},
   "source": [
    "**Extended quick question:** For the case explored above when merging the `students` and `degree_details` DataFrames - which input would best describe the expected mapping?\n",
    "\n",
    "```\n",
    "pd.merge(students, degree_details, on=\"degree\", how=\"left\")\n",
    "```\n",
    "\n",
    "Using this merge statement, add an additional `validate` input with your expected keyword (e.g. `one_to_one`, `one_to_many`, `many_to_one`, `many_to_many`) to see if this is what you expected (and try a few other options if its not)."
   ]
  },
  {
   "cell_type": "code",
   "execution_count": 35,
   "id": "43f036a3-2efb-4efb-bf26-e0dd21c4bc3f",
   "metadata": {
    "tags": []
   },
   "outputs": [
    {
     "data": {
      "text/html": [
       "<div>\n",
       "<style scoped>\n",
       "    .dataframe tbody tr th:only-of-type {\n",
       "        vertical-align: middle;\n",
       "    }\n",
       "\n",
       "    .dataframe tbody tr th {\n",
       "        vertical-align: top;\n",
       "    }\n",
       "\n",
       "    .dataframe thead th {\n",
       "        text-align: right;\n",
       "    }\n",
       "</style>\n",
       "<table border=\"1\" class=\"dataframe\">\n",
       "  <thead>\n",
       "    <tr style=\"text-align: right;\">\n",
       "      <th></th>\n",
       "      <th>name</th>\n",
       "      <th>degree</th>\n",
       "      <th>final_year_percentage</th>\n",
       "    </tr>\n",
       "  </thead>\n",
       "  <tbody>\n",
       "    <tr>\n",
       "      <th>0</th>\n",
       "      <td>Frankie</td>\n",
       "      <td>Biology</td>\n",
       "      <td>30</td>\n",
       "    </tr>\n",
       "    <tr>\n",
       "      <th>1</th>\n",
       "      <td>Bill</td>\n",
       "      <td>Mathematics</td>\n",
       "      <td>NaN</td>\n",
       "    </tr>\n",
       "    <tr>\n",
       "      <th>2</th>\n",
       "      <td>Steven</td>\n",
       "      <td>Archaeology</td>\n",
       "      <td>50</td>\n",
       "    </tr>\n",
       "    <tr>\n",
       "      <th>3</th>\n",
       "      <td>Juan</td>\n",
       "      <td>Archaeology</td>\n",
       "      <td>50</td>\n",
       "    </tr>\n",
       "  </tbody>\n",
       "</table>\n",
       "</div>"
      ],
      "text/plain": [
       "      name       degree final_year_percentage\n",
       "0  Frankie      Biology                    30\n",
       "1     Bill  Mathematics                   NaN\n",
       "2   Steven  Archaeology                    50\n",
       "3     Juan  Archaeology                    50"
      ]
     },
     "execution_count": 35,
     "metadata": {},
     "output_type": "execute_result"
    }
   ],
   "source": [
    "pd.merge(students, degree_details, on=\"degree\", how=\"left\", validate = \"many_to_one\")"
   ]
  },
  {
   "cell_type": "markdown",
   "id": "be8f8bcb-dc2f-41ea-bbe9-1f5df796669d",
   "metadata": {},
   "source": [
    "See the [pandas documentation](https://pandas.pydata.org/pandas-docs/stable/user_guide/merging.html#database-style-dataframe-or-named-series-joining-merging) on database-style merging for more details around the merge function, other functions and how to specify the logic to be used."
   ]
  },
  {
   "cell_type": "markdown",
   "id": "91799782-6e72-4047-98ef-f31e58473a62",
   "metadata": {},
   "source": [
    "---"
   ]
  },
  {
   "cell_type": "markdown",
   "id": "efd9192d-5003-4f12-862c-bbbf5db2333f",
   "metadata": {
    "tags": []
   },
   "source": [
    "## Using real data\n",
    "\n",
    "We can use a modified version of the SQLite database from the first activity to try this out with some real data. The new version, called `ukpvgeo_county.db`, contains new columns for the location of the solar panel in a county or region within the UK (e.g. \"Oxfordshire\", \"Somerset\", \"Merthyr Tydfil\"):\n",
    "\n",
    " - \"county\" (and \"county_id\")\n",
    " \n",
    "This will allow us to match against other data available on a per county basis. In this exercise, we can match against population data and save our new database with these details.\n",
    "\n",
    "#### Solar panel database\n",
    "\n",
    "We can access this SQLite database in a similar way to before by constructing our SQL query to select only columns we are interested in. For a reminder of the available columns within the database, see [\"README_ukpvgeo.txt\"](data/README_ukpvgeo.txt) (stored in the \"data\" directory).\n",
    "\n",
    "*You will find within this database that some details are incomplete but we can see if we can extract any meaningful outputs from these comparisons.*"
   ]
  },
  {
   "cell_type": "code",
   "execution_count": 36,
   "id": "d09b22ae-5c3b-4902-8a2d-c6e71ad11f77",
   "metadata": {
    "tags": []
   },
   "outputs": [
    {
     "data": {
      "text/html": [
       "<div>\n",
       "<style scoped>\n",
       "    .dataframe tbody tr th:only-of-type {\n",
       "        vertical-align: middle;\n",
       "    }\n",
       "\n",
       "    .dataframe tbody tr th {\n",
       "        vertical-align: top;\n",
       "    }\n",
       "\n",
       "    .dataframe thead th {\n",
       "        text-align: right;\n",
       "    }\n",
       "</style>\n",
       "<table border=\"1\" class=\"dataframe\">\n",
       "  <thead>\n",
       "    <tr style=\"text-align: right;\">\n",
       "      <th></th>\n",
       "      <th>repd_site_name</th>\n",
       "      <th>capacity_repd_MWp</th>\n",
       "      <th>capacity_osm_MWp</th>\n",
       "      <th>area_sqm</th>\n",
       "      <th>county</th>\n",
       "      <th>county_id</th>\n",
       "    </tr>\n",
       "  </thead>\n",
       "  <tbody>\n",
       "    <tr>\n",
       "      <th>0</th>\n",
       "      <td>Manor Farm</td>\n",
       "      <td>NaN</td>\n",
       "      <td>NaN</td>\n",
       "      <td>29896.5</td>\n",
       "      <td>Cornwall</td>\n",
       "      <td>E06000052</td>\n",
       "    </tr>\n",
       "    <tr>\n",
       "      <th>1</th>\n",
       "      <td>Manor Farm</td>\n",
       "      <td>NaN</td>\n",
       "      <td>NaN</td>\n",
       "      <td>33670.4</td>\n",
       "      <td>Cornwall</td>\n",
       "      <td>E06000052</td>\n",
       "    </tr>\n",
       "    <tr>\n",
       "      <th>2</th>\n",
       "      <td>Manor Farm</td>\n",
       "      <td>NaN</td>\n",
       "      <td>NaN</td>\n",
       "      <td>35991.1</td>\n",
       "      <td>Cornwall</td>\n",
       "      <td>E06000052</td>\n",
       "    </tr>\n",
       "    <tr>\n",
       "      <th>3</th>\n",
       "      <td>Howton Farm</td>\n",
       "      <td>NaN</td>\n",
       "      <td>NaN</td>\n",
       "      <td>80822.7</td>\n",
       "      <td>Cornwall</td>\n",
       "      <td>E06000052</td>\n",
       "    </tr>\n",
       "    <tr>\n",
       "      <th>4</th>\n",
       "      <td>East Langford Farm</td>\n",
       "      <td>5.0</td>\n",
       "      <td>NaN</td>\n",
       "      <td>105138.9</td>\n",
       "      <td>Cornwall</td>\n",
       "      <td>E06000052</td>\n",
       "    </tr>\n",
       "    <tr>\n",
       "      <th>...</th>\n",
       "      <td>...</td>\n",
       "      <td>...</td>\n",
       "      <td>...</td>\n",
       "      <td>...</td>\n",
       "      <td>...</td>\n",
       "      <td>...</td>\n",
       "    </tr>\n",
       "    <tr>\n",
       "      <th>258781</th>\n",
       "      <td>None</td>\n",
       "      <td>NaN</td>\n",
       "      <td>NaN</td>\n",
       "      <td>0.0</td>\n",
       "      <td>Harrow</td>\n",
       "      <td>E09000015</td>\n",
       "    </tr>\n",
       "    <tr>\n",
       "      <th>258782</th>\n",
       "      <td>None</td>\n",
       "      <td>NaN</td>\n",
       "      <td>NaN</td>\n",
       "      <td>0.0</td>\n",
       "      <td>Harrow</td>\n",
       "      <td>E09000015</td>\n",
       "    </tr>\n",
       "    <tr>\n",
       "      <th>258783</th>\n",
       "      <td>None</td>\n",
       "      <td>NaN</td>\n",
       "      <td>NaN</td>\n",
       "      <td>0.0</td>\n",
       "      <td>Harrow</td>\n",
       "      <td>E09000015</td>\n",
       "    </tr>\n",
       "    <tr>\n",
       "      <th>258784</th>\n",
       "      <td>None</td>\n",
       "      <td>NaN</td>\n",
       "      <td>0.00903</td>\n",
       "      <td>0.0</td>\n",
       "      <td>Harrow</td>\n",
       "      <td>E09000015</td>\n",
       "    </tr>\n",
       "    <tr>\n",
       "      <th>258785</th>\n",
       "      <td>None</td>\n",
       "      <td>NaN</td>\n",
       "      <td>0.03000</td>\n",
       "      <td>0.0</td>\n",
       "      <td>Kingston upon Thames</td>\n",
       "      <td>E09000021</td>\n",
       "    </tr>\n",
       "  </tbody>\n",
       "</table>\n",
       "<p>258786 rows × 6 columns</p>\n",
       "</div>"
      ],
      "text/plain": [
       "            repd_site_name  capacity_repd_MWp  capacity_osm_MWp  area_sqm  \\\n",
       "0               Manor Farm                NaN               NaN   29896.5   \n",
       "1               Manor Farm                NaN               NaN   33670.4   \n",
       "2               Manor Farm                NaN               NaN   35991.1   \n",
       "3              Howton Farm                NaN               NaN   80822.7   \n",
       "4       East Langford Farm                5.0               NaN  105138.9   \n",
       "...                    ...                ...               ...       ...   \n",
       "258781                None                NaN               NaN       0.0   \n",
       "258782                None                NaN               NaN       0.0   \n",
       "258783                None                NaN               NaN       0.0   \n",
       "258784                None                NaN           0.00903       0.0   \n",
       "258785                None                NaN           0.03000       0.0   \n",
       "\n",
       "                      county  county_id  \n",
       "0                   Cornwall  E06000052  \n",
       "1                   Cornwall  E06000052  \n",
       "2                   Cornwall  E06000052  \n",
       "3                   Cornwall  E06000052  \n",
       "4                   Cornwall  E06000052  \n",
       "...                      ...        ...  \n",
       "258781                Harrow  E09000015  \n",
       "258782                Harrow  E09000015  \n",
       "258783                Harrow  E09000015  \n",
       "258784                Harrow  E09000015  \n",
       "258785  Kingston upon Thames  E09000021  \n",
       "\n",
       "[258786 rows x 6 columns]"
      ]
     },
     "execution_count": 36,
     "metadata": {},
     "output_type": "execute_result"
    }
   ],
   "source": [
    "import pandas as pd\n",
    "\n",
    "connectable = f\"sqlite:///data/ukpvgeo_county.db\"\n",
    "query = \"SELECT repd_site_name, capacity_repd_MWp, capacity_osm_MWp, area_sqm, \\\n",
    "                county, county_id \\\n",
    "         FROM pv\"\n",
    "\n",
    "ukpvgeo = pd.read_sql(query, connectable)\n",
    "ukpvgeo"
   ]
  },
  {
   "cell_type": "markdown",
   "id": "a3e1d561-e941-4f9f-adb4-d33abf3b6793",
   "metadata": {},
   "source": [
    "#### County population data set\n",
    "\n",
    "For a population data set split by UK county, this is available from the Office of National Statistics who produce a [yearly population estimate](https://www.ons.gov.uk/peoplepopulationandcommunity/populationandmigration/populationestimates/datasets/populationestimatesforukenglandandwalesscotlandandnorthernireland). This data has been downloaded as an Excel file called \"ukpopestimatesmid2020on2021geography.xls\" (stored within the \"data\" folder).\n",
    "\n",
    "We can use pandas tools, [`read_excel()`](https://pandas.pydata.org/docs/reference/api/pandas.read_excel.html), to access this data. Here we have chosen the Excel sheet and the columns we're interested in:"
   ]
  },
  {
   "cell_type": "code",
   "execution_count": 40,
   "id": "d90aac3a-df3b-452c-aad0-b3ca0d3be760",
   "metadata": {
    "tags": []
   },
   "outputs": [
    {
     "ename": "ImportError",
     "evalue": "Missing optional dependency 'xlrd'. Install xlrd >= 1.0.0 for Excel support Use pip or conda to install xlrd.",
     "output_type": "error",
     "traceback": [
      "\u001b[1;31m---------------------------------------------------------------------------\u001b[0m",
      "\u001b[1;31mModuleNotFoundError\u001b[0m                       Traceback (most recent call last)",
      "File \u001b[1;32m~\\anaconda3\\Lib\\site-packages\\pandas\\compat\\_optional.py:141\u001b[0m, in \u001b[0;36mimport_optional_dependency\u001b[1;34m(name, extra, errors, min_version)\u001b[0m\n\u001b[0;32m    140\u001b[0m \u001b[38;5;28;01mtry\u001b[39;00m:\n\u001b[1;32m--> 141\u001b[0m     module \u001b[38;5;241m=\u001b[39m importlib\u001b[38;5;241m.\u001b[39mimport_module(name)\n\u001b[0;32m    142\u001b[0m \u001b[38;5;28;01mexcept\u001b[39;00m \u001b[38;5;167;01mImportError\u001b[39;00m:\n",
      "File \u001b[1;32m~\\anaconda3\\Lib\\importlib\\__init__.py:126\u001b[0m, in \u001b[0;36mimport_module\u001b[1;34m(name, package)\u001b[0m\n\u001b[0;32m    125\u001b[0m         level \u001b[38;5;241m+\u001b[39m\u001b[38;5;241m=\u001b[39m \u001b[38;5;241m1\u001b[39m\n\u001b[1;32m--> 126\u001b[0m \u001b[38;5;28;01mreturn\u001b[39;00m _bootstrap\u001b[38;5;241m.\u001b[39m_gcd_import(name[level:], package, level)\n",
      "File \u001b[1;32m<frozen importlib._bootstrap>:1204\u001b[0m, in \u001b[0;36m_gcd_import\u001b[1;34m(name, package, level)\u001b[0m\n",
      "File \u001b[1;32m<frozen importlib._bootstrap>:1176\u001b[0m, in \u001b[0;36m_find_and_load\u001b[1;34m(name, import_)\u001b[0m\n",
      "File \u001b[1;32m<frozen importlib._bootstrap>:1140\u001b[0m, in \u001b[0;36m_find_and_load_unlocked\u001b[1;34m(name, import_)\u001b[0m\n",
      "\u001b[1;31mModuleNotFoundError\u001b[0m: No module named 'xlrd'",
      "\nDuring handling of the above exception, another exception occurred:\n",
      "\u001b[1;31mImportError\u001b[0m                               Traceback (most recent call last)",
      "Cell \u001b[1;32mIn[40], line 5\u001b[0m\n\u001b[0;32m      1\u001b[0m \u001b[38;5;28;01mimport\u001b[39;00m \u001b[38;5;21;01mpandas\u001b[39;00m \u001b[38;5;28;01mas\u001b[39;00m \u001b[38;5;21;01mpd\u001b[39;00m\n\u001b[0;32m      3\u001b[0m population_filename \u001b[38;5;241m=\u001b[39m \u001b[38;5;124m\"\u001b[39m\u001b[38;5;124mdata/ukpopestimatesmid2020on2021geography.xls\u001b[39m\u001b[38;5;124m\"\u001b[39m\n\u001b[1;32m----> 5\u001b[0m pop_data \u001b[38;5;241m=\u001b[39m pd\u001b[38;5;241m.\u001b[39mread_excel(population_filename, sheet_name\u001b[38;5;241m=\u001b[39m\u001b[38;5;124m\"\u001b[39m\u001b[38;5;124mMYE4\u001b[39m\u001b[38;5;124m\"\u001b[39m, skiprows\u001b[38;5;241m=\u001b[39m\u001b[38;5;241m7\u001b[39m, \n\u001b[0;32m      6\u001b[0m                          usecols\u001b[38;5;241m=\u001b[39m[\u001b[38;5;124m\"\u001b[39m\u001b[38;5;124mCode\u001b[39m\u001b[38;5;124m\"\u001b[39m, \u001b[38;5;124m\"\u001b[39m\u001b[38;5;124mName\u001b[39m\u001b[38;5;124m\"\u001b[39m, \u001b[38;5;124m\"\u001b[39m\u001b[38;5;124mMid-2020\u001b[39m\u001b[38;5;124m\"\u001b[39m])\n\u001b[0;32m      8\u001b[0m \u001b[38;5;66;03m# Using rename method to update column names\u001b[39;00m\n\u001b[0;32m      9\u001b[0m pop_data \u001b[38;5;241m=\u001b[39m pop_data\u001b[38;5;241m.\u001b[39mrename(columns\u001b[38;5;241m=\u001b[39m{\u001b[38;5;124m\"\u001b[39m\u001b[38;5;124mName\u001b[39m\u001b[38;5;124m\"\u001b[39m:\u001b[38;5;124m\"\u001b[39m\u001b[38;5;124mcounty\u001b[39m\u001b[38;5;124m\"\u001b[39m, \u001b[38;5;124m\"\u001b[39m\u001b[38;5;124mMid-2020\u001b[39m\u001b[38;5;124m\"\u001b[39m:\u001b[38;5;124m\"\u001b[39m\u001b[38;5;124mcounty_population\u001b[39m\u001b[38;5;124m\"\u001b[39m})\n",
      "File \u001b[1;32m~\\anaconda3\\Lib\\site-packages\\pandas\\util\\_decorators.py:211\u001b[0m, in \u001b[0;36mdeprecate_kwarg.<locals>._deprecate_kwarg.<locals>.wrapper\u001b[1;34m(*args, **kwargs)\u001b[0m\n\u001b[0;32m    209\u001b[0m     \u001b[38;5;28;01melse\u001b[39;00m:\n\u001b[0;32m    210\u001b[0m         kwargs[new_arg_name] \u001b[38;5;241m=\u001b[39m new_arg_value\n\u001b[1;32m--> 211\u001b[0m \u001b[38;5;28;01mreturn\u001b[39;00m func(\u001b[38;5;241m*\u001b[39margs, \u001b[38;5;241m*\u001b[39m\u001b[38;5;241m*\u001b[39mkwargs)\n",
      "File \u001b[1;32m~\\anaconda3\\Lib\\site-packages\\pandas\\util\\_decorators.py:331\u001b[0m, in \u001b[0;36mdeprecate_nonkeyword_arguments.<locals>.decorate.<locals>.wrapper\u001b[1;34m(*args, **kwargs)\u001b[0m\n\u001b[0;32m    325\u001b[0m \u001b[38;5;28;01mif\u001b[39;00m \u001b[38;5;28mlen\u001b[39m(args) \u001b[38;5;241m>\u001b[39m num_allow_args:\n\u001b[0;32m    326\u001b[0m     warnings\u001b[38;5;241m.\u001b[39mwarn(\n\u001b[0;32m    327\u001b[0m         msg\u001b[38;5;241m.\u001b[39mformat(arguments\u001b[38;5;241m=\u001b[39m_format_argument_list(allow_args)),\n\u001b[0;32m    328\u001b[0m         \u001b[38;5;167;01mFutureWarning\u001b[39;00m,\n\u001b[0;32m    329\u001b[0m         stacklevel\u001b[38;5;241m=\u001b[39mfind_stack_level(),\n\u001b[0;32m    330\u001b[0m     )\n\u001b[1;32m--> 331\u001b[0m \u001b[38;5;28;01mreturn\u001b[39;00m func(\u001b[38;5;241m*\u001b[39margs, \u001b[38;5;241m*\u001b[39m\u001b[38;5;241m*\u001b[39mkwargs)\n",
      "File \u001b[1;32m~\\anaconda3\\Lib\\site-packages\\pandas\\io\\excel\\_base.py:482\u001b[0m, in \u001b[0;36mread_excel\u001b[1;34m(io, sheet_name, header, names, index_col, usecols, squeeze, dtype, engine, converters, true_values, false_values, skiprows, nrows, na_values, keep_default_na, na_filter, verbose, parse_dates, date_parser, thousands, decimal, comment, skipfooter, convert_float, mangle_dupe_cols, storage_options)\u001b[0m\n\u001b[0;32m    480\u001b[0m \u001b[38;5;28;01mif\u001b[39;00m \u001b[38;5;129;01mnot\u001b[39;00m \u001b[38;5;28misinstance\u001b[39m(io, ExcelFile):\n\u001b[0;32m    481\u001b[0m     should_close \u001b[38;5;241m=\u001b[39m \u001b[38;5;28;01mTrue\u001b[39;00m\n\u001b[1;32m--> 482\u001b[0m     io \u001b[38;5;241m=\u001b[39m ExcelFile(io, storage_options\u001b[38;5;241m=\u001b[39mstorage_options, engine\u001b[38;5;241m=\u001b[39mengine)\n\u001b[0;32m    483\u001b[0m \u001b[38;5;28;01melif\u001b[39;00m engine \u001b[38;5;129;01mand\u001b[39;00m engine \u001b[38;5;241m!=\u001b[39m io\u001b[38;5;241m.\u001b[39mengine:\n\u001b[0;32m    484\u001b[0m     \u001b[38;5;28;01mraise\u001b[39;00m \u001b[38;5;167;01mValueError\u001b[39;00m(\n\u001b[0;32m    485\u001b[0m         \u001b[38;5;124m\"\u001b[39m\u001b[38;5;124mEngine should not be specified when passing \u001b[39m\u001b[38;5;124m\"\u001b[39m\n\u001b[0;32m    486\u001b[0m         \u001b[38;5;124m\"\u001b[39m\u001b[38;5;124man ExcelFile - ExcelFile already has the engine set\u001b[39m\u001b[38;5;124m\"\u001b[39m\n\u001b[0;32m    487\u001b[0m     )\n",
      "File \u001b[1;32m~\\anaconda3\\Lib\\site-packages\\pandas\\io\\excel\\_base.py:1695\u001b[0m, in \u001b[0;36mExcelFile.__init__\u001b[1;34m(self, path_or_buffer, engine, storage_options)\u001b[0m\n\u001b[0;32m   1692\u001b[0m \u001b[38;5;28mself\u001b[39m\u001b[38;5;241m.\u001b[39mengine \u001b[38;5;241m=\u001b[39m engine\n\u001b[0;32m   1693\u001b[0m \u001b[38;5;28mself\u001b[39m\u001b[38;5;241m.\u001b[39mstorage_options \u001b[38;5;241m=\u001b[39m storage_options\n\u001b[1;32m-> 1695\u001b[0m \u001b[38;5;28mself\u001b[39m\u001b[38;5;241m.\u001b[39m_reader \u001b[38;5;241m=\u001b[39m \u001b[38;5;28mself\u001b[39m\u001b[38;5;241m.\u001b[39m_engines[engine](\u001b[38;5;28mself\u001b[39m\u001b[38;5;241m.\u001b[39m_io, storage_options\u001b[38;5;241m=\u001b[39mstorage_options)\n",
      "File \u001b[1;32m~\\anaconda3\\Lib\\site-packages\\pandas\\io\\excel\\_xlrd.py:34\u001b[0m, in \u001b[0;36mXlrdReader.__init__\u001b[1;34m(self, filepath_or_buffer, storage_options)\u001b[0m\n\u001b[0;32m     24\u001b[0m \u001b[38;5;250m\u001b[39m\u001b[38;5;124;03m\"\"\"\u001b[39;00m\n\u001b[0;32m     25\u001b[0m \u001b[38;5;124;03mReader using xlrd engine.\u001b[39;00m\n\u001b[0;32m     26\u001b[0m \n\u001b[1;32m   (...)\u001b[0m\n\u001b[0;32m     31\u001b[0m \u001b[38;5;124;03m{storage_options}\u001b[39;00m\n\u001b[0;32m     32\u001b[0m \u001b[38;5;124;03m\"\"\"\u001b[39;00m\n\u001b[0;32m     33\u001b[0m err_msg \u001b[38;5;241m=\u001b[39m \u001b[38;5;124m\"\u001b[39m\u001b[38;5;124mInstall xlrd >= 1.0.0 for Excel support\u001b[39m\u001b[38;5;124m\"\u001b[39m\n\u001b[1;32m---> 34\u001b[0m import_optional_dependency(\u001b[38;5;124m\"\u001b[39m\u001b[38;5;124mxlrd\u001b[39m\u001b[38;5;124m\"\u001b[39m, extra\u001b[38;5;241m=\u001b[39merr_msg)\n\u001b[0;32m     35\u001b[0m \u001b[38;5;28msuper\u001b[39m()\u001b[38;5;241m.\u001b[39m\u001b[38;5;21m__init__\u001b[39m(filepath_or_buffer, storage_options\u001b[38;5;241m=\u001b[39mstorage_options)\n",
      "File \u001b[1;32m~\\anaconda3\\Lib\\site-packages\\pandas\\compat\\_optional.py:144\u001b[0m, in \u001b[0;36mimport_optional_dependency\u001b[1;34m(name, extra, errors, min_version)\u001b[0m\n\u001b[0;32m    142\u001b[0m \u001b[38;5;28;01mexcept\u001b[39;00m \u001b[38;5;167;01mImportError\u001b[39;00m:\n\u001b[0;32m    143\u001b[0m     \u001b[38;5;28;01mif\u001b[39;00m errors \u001b[38;5;241m==\u001b[39m \u001b[38;5;124m\"\u001b[39m\u001b[38;5;124mraise\u001b[39m\u001b[38;5;124m\"\u001b[39m:\n\u001b[1;32m--> 144\u001b[0m         \u001b[38;5;28;01mraise\u001b[39;00m \u001b[38;5;167;01mImportError\u001b[39;00m(msg)\n\u001b[0;32m    145\u001b[0m     \u001b[38;5;28;01melse\u001b[39;00m:\n\u001b[0;32m    146\u001b[0m         \u001b[38;5;28;01mreturn\u001b[39;00m \u001b[38;5;28;01mNone\u001b[39;00m\n",
      "\u001b[1;31mImportError\u001b[0m: Missing optional dependency 'xlrd'. Install xlrd >= 1.0.0 for Excel support Use pip or conda to install xlrd."
     ]
    }
   ],
   "source": [
    "import pandas as pd\n",
    "\n",
    "population_filename = \"data/ukpopestimatesmid2020on2021geography.xls\"\n",
    "\n",
    "pop_data = pd.read_excel(population_filename, sheet_name=\"MYE4\", skiprows=7, \n",
    "                         usecols=[\"Code\", \"Name\", \"Mid-2020\"])\n",
    "\n",
    "# Using rename method to update column names\n",
    "pop_data = pop_data.rename(columns={\"Name\":\"county\", \"Mid-2020\":\"county_population\"})\n",
    "pop_data"
   ]
  },
  {
   "cell_type": "markdown",
   "id": "f2f1d745-809a-47c3-a816-ebfc98092e17",
   "metadata": {},
   "source": [
    "For ease later on, we have renamed the columns, including the column containing the county (and other) values to \"county\" to match to our UKPVGeo data set (using the [`rename` method](https://pandas.pydata.org/pandas-docs/stable/reference/api/pandas.DataFrame.rename.html))"
   ]
  },
  {
   "cell_type": "markdown",
   "id": "fe7aff41-60af-4e44-a8e8-7b473d72159f",
   "metadata": {},
   "source": [
    "---"
   ]
  },
  {
   "cell_type": "markdown",
   "id": "da2b5473-4f69-474c-9f0b-6586d0270aa4",
   "metadata": {
    "tags": []
   },
   "source": [
    "### Exercise B\n",
    "\n",
    "For the modified UKPVGeo database, we can now select by county rather than having to define a rough area as we did before.\n",
    "\n",
    "*For those interested, details of how the county data was added to our UKPVGeo database are available in [Workshop2_Extra_SpatialJoin](Workshop2_Extra_SpatialJoin.ipynb). This used something called a spatial join, but this is **not** part of the learning objective for this session.*\n",
    "\n",
    "For use in this exercise, we will start by grouping the solar panel data by county, and finding the sum of each column."
   ]
  },
  {
   "cell_type": "code",
   "execution_count": 41,
   "id": "570e497c-b936-4da2-aa24-51e790702bf7",
   "metadata": {
    "tags": []
   },
   "outputs": [
    {
     "name": "stderr",
     "output_type": "stream",
     "text": [
      "C:\\Users\\petes\\AppData\\Local\\Temp\\ipykernel_1928\\3934210031.py:4: FutureWarning: The default value of numeric_only in DataFrameGroupBy.sum is deprecated. In a future version, numeric_only will default to False. Either specify numeric_only or select only columns which should be valid for the function.\n",
      "  ukpvgeo_sum = ukpvgeo.groupby(\"county\").sum().reset_index()\n"
     ]
    },
    {
     "data": {
      "text/html": [
       "<div>\n",
       "<style scoped>\n",
       "    .dataframe tbody tr th:only-of-type {\n",
       "        vertical-align: middle;\n",
       "    }\n",
       "\n",
       "    .dataframe tbody tr th {\n",
       "        vertical-align: top;\n",
       "    }\n",
       "\n",
       "    .dataframe thead th {\n",
       "        text-align: right;\n",
       "    }\n",
       "</style>\n",
       "<table border=\"1\" class=\"dataframe\">\n",
       "  <thead>\n",
       "    <tr style=\"text-align: right;\">\n",
       "      <th></th>\n",
       "      <th>county</th>\n",
       "      <th>capacity_repd_MWp</th>\n",
       "      <th>capacity_osm_MWp</th>\n",
       "      <th>area_sqm</th>\n",
       "    </tr>\n",
       "  </thead>\n",
       "  <tbody>\n",
       "    <tr>\n",
       "      <th>0</th>\n",
       "      <td>Barking and Dagenham</td>\n",
       "      <td>0.0</td>\n",
       "      <td>0.032</td>\n",
       "      <td>11838.8</td>\n",
       "    </tr>\n",
       "    <tr>\n",
       "      <th>1</th>\n",
       "      <td>Barnet</td>\n",
       "      <td>0.0</td>\n",
       "      <td>0.012</td>\n",
       "      <td>415.3</td>\n",
       "    </tr>\n",
       "    <tr>\n",
       "      <th>2</th>\n",
       "      <td>Barnsley</td>\n",
       "      <td>1.7</td>\n",
       "      <td>0.000</td>\n",
       "      <td>1362.1</td>\n",
       "    </tr>\n",
       "    <tr>\n",
       "      <th>3</th>\n",
       "      <td>Bath and North East Somerset</td>\n",
       "      <td>7.3</td>\n",
       "      <td>7.340</td>\n",
       "      <td>155940.1</td>\n",
       "    </tr>\n",
       "    <tr>\n",
       "      <th>4</th>\n",
       "      <td>Bedford</td>\n",
       "      <td>73.8</td>\n",
       "      <td>54.300</td>\n",
       "      <td>1975707.8</td>\n",
       "    </tr>\n",
       "    <tr>\n",
       "      <th>...</th>\n",
       "      <td>...</td>\n",
       "      <td>...</td>\n",
       "      <td>...</td>\n",
       "      <td>...</td>\n",
       "    </tr>\n",
       "    <tr>\n",
       "      <th>169</th>\n",
       "      <td>Wokingham</td>\n",
       "      <td>5.0</td>\n",
       "      <td>5.000</td>\n",
       "      <td>108715.9</td>\n",
       "    </tr>\n",
       "    <tr>\n",
       "      <th>170</th>\n",
       "      <td>Wolverhampton</td>\n",
       "      <td>0.0</td>\n",
       "      <td>0.000</td>\n",
       "      <td>61984.0</td>\n",
       "    </tr>\n",
       "    <tr>\n",
       "      <th>171</th>\n",
       "      <td>Worcestershire</td>\n",
       "      <td>87.8</td>\n",
       "      <td>65.251</td>\n",
       "      <td>1914269.4</td>\n",
       "    </tr>\n",
       "    <tr>\n",
       "      <th>172</th>\n",
       "      <td>Wrexham</td>\n",
       "      <td>51.6</td>\n",
       "      <td>29.800</td>\n",
       "      <td>938484.5</td>\n",
       "    </tr>\n",
       "    <tr>\n",
       "      <th>173</th>\n",
       "      <td>York</td>\n",
       "      <td>0.0</td>\n",
       "      <td>0.000</td>\n",
       "      <td>0.0</td>\n",
       "    </tr>\n",
       "  </tbody>\n",
       "</table>\n",
       "<p>174 rows × 4 columns</p>\n",
       "</div>"
      ],
      "text/plain": [
       "                           county  capacity_repd_MWp  capacity_osm_MWp  \\\n",
       "0            Barking and Dagenham                0.0             0.032   \n",
       "1                          Barnet                0.0             0.012   \n",
       "2                        Barnsley                1.7             0.000   \n",
       "3    Bath and North East Somerset                7.3             7.340   \n",
       "4                         Bedford               73.8            54.300   \n",
       "..                            ...                ...               ...   \n",
       "169                     Wokingham                5.0             5.000   \n",
       "170                 Wolverhampton                0.0             0.000   \n",
       "171                Worcestershire               87.8            65.251   \n",
       "172                       Wrexham               51.6            29.800   \n",
       "173                          York                0.0             0.000   \n",
       "\n",
       "      area_sqm  \n",
       "0      11838.8  \n",
       "1        415.3  \n",
       "2       1362.1  \n",
       "3     155940.1  \n",
       "4    1975707.8  \n",
       "..         ...  \n",
       "169   108715.9  \n",
       "170    61984.0  \n",
       "171  1914269.4  \n",
       "172   938484.5  \n",
       "173        0.0  \n",
       "\n",
       "[174 rows x 4 columns]"
      ]
     },
     "execution_count": 41,
     "metadata": {},
     "output_type": "execute_result"
    }
   ],
   "source": [
    "# Group the ukpvgeo by the \"county\" column, finding the sum for each group\n",
    "# The reset_index() menthod is used to keep \"county\" as a column rather than setting this as the new index (for now)\n",
    "\n",
    "ukpvgeo_sum = ukpvgeo.groupby(\"county\").sum().reset_index()\n",
    "ukpvgeo_sum"
   ]
  },
  {
   "cell_type": "markdown",
   "id": "5ce32476-1a31-4dc8-94ea-75f937eba33f",
   "metadata": {},
   "source": [
    "We now want to merge this database with the population data to allow us to look at the total listed capacity of solar panels by population for each county. "
   ]
  },
  {
   "cell_type": "markdown",
   "id": "4faaea37-e4ea-47ac-8af4-cced02c10a47",
   "metadata": {},
   "source": [
    "1) For the `ukpvgeo_sum` and `pop_data` DataFrames consider how you can merge them. What is the common column and what type of join do you want to use?"
   ]
  },
  {
   "cell_type": "code",
   "execution_count": 15,
   "id": "44c8af98-ea06-481c-9caa-62ee2e69a159",
   "metadata": {},
   "outputs": [],
   "source": []
  },
  {
   "cell_type": "markdown",
   "id": "9d5e2444-5c5c-411b-8062-71ed7348ba71",
   "metadata": {},
   "source": [
    "2) Calculate the capacity per unit of population for the county data. Which county has the highest value? "
   ]
  },
  {
   "cell_type": "code",
   "execution_count": 16,
   "id": "98e31791-ee7b-43c6-8e2b-e814c5287c1c",
   "metadata": {},
   "outputs": [],
   "source": [
    "### ADD CODE HERE\n"
   ]
  },
  {
   "cell_type": "markdown",
   "id": "c149f3c8-b3af-4fff-9963-5e82e210aaa7",
   "metadata": {},
   "source": [
    "3) Save your new merged DataFrame out as an SQLite database ([Activity 1 notes](Workshop2_01_Databases.ipynb#Saving-to-a-database))"
   ]
  },
  {
   "cell_type": "code",
   "execution_count": 17,
   "id": "9e7b959e-9941-4039-a7b8-b056cb333a5d",
   "metadata": {},
   "outputs": [],
   "source": [
    "### ADD CODE HERE\n"
   ]
  },
  {
   "cell_type": "markdown",
   "id": "6b0496e7-4786-46ac-b5df-1464f77b9286",
   "metadata": {},
   "source": [
    "---"
   ]
  }
 ],
 "metadata": {
  "kernelspec": {
   "display_name": "Python 3 (ipykernel)",
   "language": "python",
   "name": "python3"
  },
  "language_info": {
   "codemirror_mode": {
    "name": "ipython",
    "version": 3
   },
   "file_extension": ".py",
   "mimetype": "text/x-python",
   "name": "python",
   "nbconvert_exporter": "python",
   "pygments_lexer": "ipython3",
   "version": "3.11.4"
  }
 },
 "nbformat": 4,
 "nbformat_minor": 5
}

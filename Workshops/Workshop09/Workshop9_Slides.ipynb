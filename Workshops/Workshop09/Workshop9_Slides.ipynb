{
 "cells": [
  {
   "cell_type": "markdown",
   "id": "2644c290",
   "metadata": {
    "slideshow": {
     "slide_type": "slide"
    },
    "tags": []
   },
   "source": [
    "# Software Engineering 2: Version control\n",
    "\n",
    "<img src=\"figures/git_logo.png\" alt=\"git\" style=\"display:block;margin-left:auto;margin-right:auto;width:20%\"/>"
   ]
  },
  {
   "cell_type": "markdown",
   "id": "e1f0a473",
   "metadata": {
    "slideshow": {
     "slide_type": "slide"
    },
    "tags": []
   },
   "source": [
    "## Why should I care about version control?\n",
    "\n",
    "### Version control for a lonely programmer:\n",
    "- Keeps a documented record of the changes you've made to your files\n",
    "- Revert back to an earlier version, if you break something\n",
    "- You can test new features on a \"branch\", without messing up your main code\n",
    "- You can sync your code repository with a remote server, providing backup"
   ]
  },
  {
   "cell_type": "markdown",
   "id": "160e5dad",
   "metadata": {
    "slideshow": {
     "slide_type": "slide"
    },
    "tags": []
   },
   "source": [
    "## Why should I care about version control?\n",
    "\n",
    "### Version control for collaboration:\n",
    "- Groups of developers can make changes simultaneously\n",
    "- If conflicts emerge (e.g., two people editing the same line of code in different ways), there's a system to resolve them\n",
    "- Your colleagues can review your changes before they are added to the main version"
   ]
  },
  {
   "cell_type": "markdown",
   "id": "17d04b86",
   "metadata": {
    "slideshow": {
     "slide_type": "slide"
    },
    "tags": []
   },
   "source": [
    "## What is git?\n",
    "\n",
    "- git is a widely used version control system\n",
    "- Other examples include subversion, CVS, Mercurial\n",
    "- We're going to learn how to use git from a bash terminal\n",
    "    - For Mac and Linux users, git should be installed by default\n",
    "    - For Windows users, you can download a git/bash terminal here: https://git-scm.com\n",
    "\n",
    "<img src=\"figures/git_logo.png\" alt=\"git\" style=\"display:block;margin-left:auto;margin-right:auto;width:20%\"/>"
   ]
  },
  {
   "cell_type": "markdown",
   "id": "c9896964",
   "metadata": {
    "slideshow": {
     "slide_type": "slide"
    },
    "tags": []
   },
   "source": [
    "### Individual version control\n",
    "\n",
    "#### First steps:\n",
    "\n",
    "1. Initialise a folder as a git repository (```git init```)\n",
    "\n",
    "2. Add files to your repo (```git add```)\n",
    "\n",
    "3. Commit changes (```git commit -m \"Useful comments\"```)\n",
    "\n",
    "<img src=\"figures/git_commit_diagram.svg\" alt=\"git commit\" style=\"display:block;margin-left:auto;margin-right:auto;width:20%\"/>\n",
    "\n",
    "Git commits, courtesy of [Atlassian](https://www.atlassian.com/git/tutorials/saving-changes/git-commit)\n"
   ]
  },
  {
   "cell_type": "markdown",
   "id": "f7e41983",
   "metadata": {
    "slideshow": {
     "slide_type": "slide"
    },
    "tags": []
   },
   "source": [
    "### Individual version control\n",
    "\n",
    "#### Reverting and branching\n",
    "\n",
    "1. If needed, revert back to earlier commits (```git checkout <commit_id>```)\n",
    "\n",
    "2. When developing new features, work on a branch (```git checkout -b new-branch```)\n",
    "\n",
    "3. When you've finished, merge back into your master branch (```git checkout master``` > ```git merge new-branch```)\n",
    "\n",
    "<img src=\"figures/git_branch_diagram.svg\" alt=\"git branch\" style=\"display:block;margin-left:auto;margin-right:auto;width:40%\"/>\n",
    "\n",
    "Git branching, courtesy of [Atlassian](https://www.atlassian.com/git/tutorials/using-branches)"
   ]
  },
  {
   "cell_type": "markdown",
   "id": "a2479c9a",
   "metadata": {
    "slideshow": {
     "slide_type": "slide"
    },
    "tags": []
   },
   "source": [
    "## Exercise 1: individual version control\n",
    "\n",
    "- Adding, commiting, viewing, branching, merging"
   ]
  },
  {
   "cell_type": "markdown",
   "id": "871cf0da",
   "metadata": {
    "slideshow": {
     "slide_type": "slide"
    },
    "tags": []
   },
   "source": [
    "## Collaborative version control\n",
    "\n",
    "- With git, you, your collaborators and remote servers can have a complete version of the repository\n",
    "\n",
    "\n",
    "<img src=\"figures/git_remote_repo_diagram.svg\" alt=\"git repo\" style=\"display:block;margin-left:auto;margin-right:auto;width:40%\"/>\n",
    "\n",
    "Git remote repos, courtesy of [Atlassian](https://www.atlassian.com/git/tutorials/syncing)"
   ]
  },
  {
   "cell_type": "markdown",
   "id": "9c4989fb",
   "metadata": {
    "slideshow": {
     "slide_type": "slide"
    },
    "tags": []
   },
   "source": [
    "## Collaborative version control\n",
    "\n",
    "- To make sharing easy, you can add your repo to a remove server (```git remote add origin <URL>``` > ```git push origin master```)\n",
    "- You or your collaborators can sync the remote code with your version (```git pull```)\n",
    "- Workflow:\n",
    "    - ```git commit -am \"My changes\"``` *# Getting my version of the repo up-to-date*\n",
    "    - ```git pull```                    *# Pulling any changes from the remote server*\n",
    "    - ```git push```                    *# Pushing my latest commit to the remote server*\n",
    "    \n",
    "\n",
    "<img src=\"figures/git_remote_repo_diagram.svg\" alt=\"git repo\" style=\"display:block;margin-left:auto;margin-right:auto;width:40%\"/>\n",
    "\n",
    "Git remote repos, courtesy of [Atlassian](https://www.atlassian.com/git/tutorials/syncing)"
   ]
  },
  {
   "cell_type": "markdown",
   "id": "4d37a4a6",
   "metadata": {
    "slideshow": {
     "slide_type": "slide"
    },
    "tags": []
   },
   "source": [
    "## Collaborative version control\n",
    "\n",
    "- Pull someone else's repo to your local machine (```git clone <URL>```)\n",
    "\n",
    "<img src=\"figures/git_clone_github.png\" alt=\"git clone\" style=\"display:block;margin-left:auto;margin-right:auto;width:40%\"/>"
   ]
  },
  {
   "cell_type": "markdown",
   "id": "c74e111a",
   "metadata": {
    "slideshow": {
     "slide_type": "slide"
    },
    "tags": []
   },
   "source": [
    "## Exercise 2: collaborative git\n",
    "\n",
    "- Add remote, pull, push, clone"
   ]
  },
  {
   "cell_type": "markdown",
   "id": "92079702",
   "metadata": {
    "slideshow": {
     "slide_type": "slide"
    }
   },
   "source": [
    "## Test\n",
    "\n",
    "First test on modules, packages and version control is now available on Blackboard."
   ]
  },
  {
   "cell_type": "markdown",
   "id": "215aec65",
   "metadata": {
    "slideshow": {
     "slide_type": "slide"
    },
    "tags": []
   },
   "source": [
    "## Seminar on testing\n",
    "\n",
    "Testing is a key skill in software engineering. In the final seminar of the term, we'll be showing how we can develop simple tests to determine whether your software is working as expected."
   ]
  },
  {
   "cell_type": "markdown",
   "id": "b70ec97c",
   "metadata": {
    "slideshow": {
     "slide_type": "slide"
    },
    "tags": []
   },
   "source": [
    "## Further reading\n",
    "\n",
    "We've only had chance to scratch the surface of git here. There is a huge amount of functionality and lots of additional useful features. To find out more, there are lots of great resources available online. For example:\n",
    "\n",
    "- [Github docs](https://docs.github.com/en)\n",
    "- [Bitbucket docs](https://www.atlassian.com/git/tutorials/learn-git-with-bitbucket-cloud)\n",
    "- [Christopher Woods' git tutorial](https://chryswoods.com/beginning_git/README.html)\n",
    "\n",
    "Of course, as you encounter problems, head over to [Stack Overflow](https://stackoverflow.com/questions/tagged/git)!"
   ]
  }
 ],
 "metadata": {
  "celltoolbar": "Slideshow",
  "kernelspec": {
   "display_name": "Python 3 (ipykernel)",
   "language": "python",
   "name": "python3"
  },
  "language_info": {
   "codemirror_mode": {
    "name": "ipython",
    "version": 3
   },
   "file_extension": ".py",
   "mimetype": "text/x-python",
   "name": "python",
   "nbconvert_exporter": "python",
   "pygments_lexer": "ipython3",
   "version": "3.11.4"
  }
 },
 "nbformat": 4,
 "nbformat_minor": 5
}

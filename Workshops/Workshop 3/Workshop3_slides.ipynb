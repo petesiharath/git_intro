{
 "cells": [
  {
   "cell_type": "markdown",
   "metadata": {
    "slideshow": {
     "slide_type": "slide"
    },
    "tags": []
   },
   "source": [
    "# Intermediate Scientific Computing\n",
    "\n",
    "## Workshop 3: Data Science (1)"
   ]
  },
  {
   "cell_type": "markdown",
   "metadata": {
    "slideshow": {
     "slide_type": "slide"
    },
    "tags": []
   },
   "source": [
    "## Previous workshop\n",
    "\n",
    "- Looked at how to access and manipulate databases\n",
    "- Learnt about database operations and how to use them"
   ]
  },
  {
   "cell_type": "markdown",
   "metadata": {
    "slideshow": {
     "slide_type": "slide"
    },
    "tags": []
   },
   "source": [
    "## Before the workshop\n",
    "\n",
    "- Asked you to look into the pandas [`df.apply()` method](https://pandas.pydata.org/docs/reference/api/pandas.DataFrame.apply.html)\n",
    "- Consider some questions about how this function is used and post to Padlet"
   ]
  },
  {
   "cell_type": "markdown",
   "metadata": {
    "slideshow": {
     "slide_type": "slide"
    },
    "tags": []
   },
   "source": [
    "## Today's session\n",
    "\n",
    "**Aim**: Build on data science concepts to manipulate and plot data\n",
    "\n",
    "- What does the apply function do? Discuss your thoughts from the asynchronous activity\n",
    "  - *Padlet: https://uob.padlet.org/racheltunnicliffe1/hdatbmk7jph26x32*\n",
    "- Using split-apply-combine to manipulate data\n",
    "  - [*Workshop3_01_SplitApplyCombine*](Workshop3_01_SplitApplyCombine.ipynb)\n",
    "- Plotting two-dimensional data\n",
    "  - [*Workshop3_02_2DPlotting*](Workshop3_02_2DPlotting.ipynb)\n"
   ]
  },
  {
   "cell_type": "markdown",
   "metadata": {
    "slideshow": {
     "slide_type": "slide"
    },
    "tags": []
   },
   "source": [
    "## Apply function\n",
    "\n",
    "In the asynchronous activity you were asked to look into a pandas method called `.apply()`:\n",
    "\n",
    "https://pandas.pydata.org/docs/reference/api/pandas.DataFrame.apply.html\n",
    "\n",
    "This is available within your Workshop 2 notes:\n",
    "\n",
    "[Workshop2-3_asynchronous.ipynb](../Workshop02/Workshop2-3_asynchronous.ipynb)"
   ]
  },
  {
   "cell_type": "markdown",
   "metadata": {
    "slideshow": {
     "slide_type": "slide"
    },
    "tags": []
   },
   "source": [
    "## What does this function do?\n",
    "\n",
    "As part of the asynchronous activity, we asked you to post your answers to these questions on Padlet:\n",
    "\n",
    "1. What does the apply method do?\n",
    "\n",
    "2. What type of input would you pass to the apply function for the first argument? \n",
    "\n",
    "3. Can you give an example of what could be passed to this function? If possible, try to find/think of a different example than given on the documentation page itself.\n",
    "\n",
    "Access Padlet: https://uob.padlet.org/racheltunnicliffe1/hdatbmk7jph26x32"
   ]
  },
  {
   "cell_type": "markdown",
   "metadata": {
    "slideshow": {
     "slide_type": "slide"
    },
    "tags": []
   },
   "source": [
    "## Functions as names\n",
    "\n",
    "When we call `df.apply()`, the first argument we  pass is the name of a function. This function is then *applied* to the DataFrame."
   ]
  },
  {
   "cell_type": "markdown",
   "metadata": {
    "slideshow": {
     "slide_type": "fragment"
    },
    "tags": []
   },
   "source": [
    "For example if we wanted to apply a square root to a whole DataFrame we could use the numpy sqrt function and the apply function:\n",
    "\n",
    "```python\n",
    "df.apply(np.sqrt)\n",
    "```"
   ]
  },
  {
   "cell_type": "markdown",
   "metadata": {
    "slideshow": {
     "slide_type": "fragment"
    },
    "tags": []
   },
   "source": [
    "We're calling the `apply()` method on the DataFrame, `df`, and passing `np.sqrt` as the first argument. In this case the square root function will be applied to every element in the pandas DataFrame.\n",
    "\n",
    "Notice here we don't include round brackets after `np.sqrt`."
   ]
  },
  {
   "cell_type": "markdown",
   "metadata": {
    "slideshow": {
     "slide_type": "slide"
    },
    "tags": []
   },
   "source": [
    "The apply method shows us that, in Python, function names (without the round brackets) can be passed around just like variable names."
   ]
  },
  {
   "cell_type": "markdown",
   "metadata": {
    "slideshow": {
     "slide_type": "fragment"
    },
    "tags": []
   },
   "source": [
    "This starts to tie into the idea of *functional programming*, where functions themselves can be treated like objects. These functions often have to be designed to accept arguments in a particular order and sometimes of a particular type.\n",
    "\n",
    "The benefits of this start to become apparent when we begin designing more complex workflows, for instance where we want to run processes in parallel. Look out for this later on in the course."
   ]
  },
  {
   "cell_type": "markdown",
   "metadata": {
    "slideshow": {
     "slide_type": "slide"
    },
    "tags": []
   },
   "source": [
    "## Methods: Split-apply-combine\n",
    "\n",
    "In data analysis, one concept for managing and manipulating data is **split-apply-combine**.\n",
    "\n",
    "This is the idea of:\n",
    "- *splitting* up your problem into smaller chunks\n",
    "- *applying* some operation to each of those chunks\n",
    "- *combining* that data back together."
   ]
  },
  {
   "cell_type": "code",
   "execution_count": 1,
   "metadata": {
    "slideshow": {
     "slide_type": "skip"
    },
    "tags": []
   },
   "outputs": [],
   "source": [
    "import pandas as pd\n",
    "import numpy as np"
   ]
  },
  {
   "cell_type": "markdown",
   "metadata": {
    "slideshow": {
     "slide_type": "slide"
    },
    "tags": []
   },
   "source": [
    "### pandas groupby and resample\n",
    "\n",
    "You *may* have already engaged with this concept if you used the `groupby` or `resample` options offered by the `pandas` package but this is a general concept which also comes up in database manipulation (e.g. the SQL syntax has a \"GROUP BY\" option).\n",
    "\n",
    "For groupby the idea is to group data based on a category and then apply an operation on each of these groups."
   ]
  },
  {
   "cell_type": "markdown",
   "metadata": {
    "slideshow": {
     "slide_type": "slide"
    },
    "tags": []
   },
   "source": [
    "If we define a DataFrame as follows, we can demonstrate this concept using the groupby method:"
   ]
  },
  {
   "cell_type": "code",
   "execution_count": 2,
   "metadata": {
    "slideshow": {
     "slide_type": "fragment"
    },
    "tags": []
   },
   "outputs": [
    {
     "data": {
      "text/html": [
       "<div>\n",
       "<style scoped>\n",
       "    .dataframe tbody tr th:only-of-type {\n",
       "        vertical-align: middle;\n",
       "    }\n",
       "\n",
       "    .dataframe tbody tr th {\n",
       "        vertical-align: top;\n",
       "    }\n",
       "\n",
       "    .dataframe thead th {\n",
       "        text-align: right;\n",
       "    }\n",
       "</style>\n",
       "<table border=\"1\" class=\"dataframe\">\n",
       "  <thead>\n",
       "    <tr style=\"text-align: right;\">\n",
       "      <th></th>\n",
       "      <th>class</th>\n",
       "      <th>max_speed</th>\n",
       "    </tr>\n",
       "  </thead>\n",
       "  <tbody>\n",
       "    <tr>\n",
       "      <th>falcon</th>\n",
       "      <td>bird</td>\n",
       "      <td>389.0</td>\n",
       "    </tr>\n",
       "    <tr>\n",
       "      <th>parrot</th>\n",
       "      <td>bird</td>\n",
       "      <td>24.0</td>\n",
       "    </tr>\n",
       "    <tr>\n",
       "      <th>lion</th>\n",
       "      <td>mammal</td>\n",
       "      <td>80.2</td>\n",
       "    </tr>\n",
       "    <tr>\n",
       "      <th>monkey</th>\n",
       "      <td>mammal</td>\n",
       "      <td>NaN</td>\n",
       "    </tr>\n",
       "    <tr>\n",
       "      <th>leopard</th>\n",
       "      <td>mammal</td>\n",
       "      <td>58.0</td>\n",
       "    </tr>\n",
       "  </tbody>\n",
       "</table>\n",
       "</div>"
      ],
      "text/plain": [
       "          class  max_speed\n",
       "falcon     bird      389.0\n",
       "parrot     bird       24.0\n",
       "lion     mammal       80.2\n",
       "monkey   mammal        NaN\n",
       "leopard  mammal       58.0"
      ]
     },
     "execution_count": 2,
     "metadata": {},
     "output_type": "execute_result"
    }
   ],
   "source": [
    "df = pd.DataFrame(\n",
    "        [(\"bird\", 389.0), (\"bird\", 24.0), (\"mammal\", 80.2), (\"mammal\", np.nan), (\"mammal\", 58)],\n",
    "        index=[\"falcon\", \"parrot\", \"lion\", \"monkey\", \"leopard\"], columns=(\"class\", \"max_speed\"))\n",
    "df"
   ]
  },
  {
   "cell_type": "markdown",
   "metadata": {
    "slideshow": {
     "slide_type": "slide"
    },
    "tags": []
   },
   "source": [
    "For this DataFrame information on different animals, we could group by the \"class\" column and find the mean for the other columns:"
   ]
  },
  {
   "cell_type": "code",
   "execution_count": 3,
   "metadata": {
    "slideshow": {
     "slide_type": "fragment"
    },
    "tags": []
   },
   "outputs": [
    {
     "data": {
      "text/html": [
       "<div>\n",
       "<style scoped>\n",
       "    .dataframe tbody tr th:only-of-type {\n",
       "        vertical-align: middle;\n",
       "    }\n",
       "\n",
       "    .dataframe tbody tr th {\n",
       "        vertical-align: top;\n",
       "    }\n",
       "\n",
       "    .dataframe thead th {\n",
       "        text-align: right;\n",
       "    }\n",
       "</style>\n",
       "<table border=\"1\" class=\"dataframe\">\n",
       "  <thead>\n",
       "    <tr style=\"text-align: right;\">\n",
       "      <th></th>\n",
       "      <th>max_speed</th>\n",
       "    </tr>\n",
       "    <tr>\n",
       "      <th>class</th>\n",
       "      <th></th>\n",
       "    </tr>\n",
       "  </thead>\n",
       "  <tbody>\n",
       "    <tr>\n",
       "      <th>bird</th>\n",
       "      <td>206.5</td>\n",
       "    </tr>\n",
       "    <tr>\n",
       "      <th>mammal</th>\n",
       "      <td>69.1</td>\n",
       "    </tr>\n",
       "  </tbody>\n",
       "</table>\n",
       "</div>"
      ],
      "text/plain": [
       "        max_speed\n",
       "class            \n",
       "bird        206.5\n",
       "mammal       69.1"
      ]
     },
     "execution_count": 3,
     "metadata": {},
     "output_type": "execute_result"
    }
   ],
   "source": [
    "df.groupby(\"class\").mean()"
   ]
  },
  {
   "cell_type": "markdown",
   "metadata": {
    "slideshow": {
     "slide_type": "slide"
    },
    "tags": []
   },
   "source": [
    "*Splitting* is done by the `groupby` step:\n",
    "<pre>\n",
    "       Split\n",
    "         ↓         \n",
    "<b>df.groupby(\"class\")</b>.mean()\n",
    "</pre>"
   ]
  },
  {
   "cell_type": "markdown",
   "metadata": {
    "slideshow": {
     "slide_type": "fragment"
    },
    "tags": []
   },
   "source": [
    "*Applying* is done by using a function, in this case the `mean` function\n",
    "<pre>\n",
    "                     Apply\n",
    "                       ↓         \n",
    "df.groupby(\"class\").<b>mean()</b>\n",
    "</pre>"
   ]
  },
  {
   "cell_type": "markdown",
   "metadata": {
    "slideshow": {
     "slide_type": "fragment"
    },
    "tags": []
   },
   "source": [
    "*Combining* is done based on the syntax as a whole, which understands how to stitch this back together to create a new pandas DataFrame\n",
    "<pre>\n",
    "          Combine\n",
    "             ↓         \n",
    "<b>df.groupby(\"class\").mean()</b>\n",
    "</pre>"
   ]
  },
  {
   "cell_type": "markdown",
   "metadata": {
    "slideshow": {
     "slide_type": "slide"
    },
    "tags": []
   },
   "source": [
    "We can even split these steps up if we wanted to:"
   ]
  },
  {
   "cell_type": "code",
   "execution_count": 4,
   "metadata": {
    "slideshow": {
     "slide_type": "fragment"
    },
    "tags": []
   },
   "outputs": [],
   "source": [
    "df_grouped = df.groupby(\"class\") # Group - GroupBy object\n",
    "df_averaged = df_grouped.mean()  # Apply and combine - DataFrame object"
   ]
  },
  {
   "cell_type": "markdown",
   "metadata": {
    "slideshow": {
     "slide_type": "slide"
    },
    "tags": []
   },
   "source": [
    "### Apply\n",
    "\n",
    "It would be possible for us to use a very close analogue to the `apply` method we discussed in the asynchronous activity to achieve the same result as above:"
   ]
  },
  {
   "cell_type": "code",
   "execution_count": 5,
   "metadata": {
    "slideshow": {
     "slide_type": "fragment"
    },
    "tags": []
   },
   "outputs": [
    {
     "data": {
      "text/html": [
       "<div>\n",
       "<style scoped>\n",
       "    .dataframe tbody tr th:only-of-type {\n",
       "        vertical-align: middle;\n",
       "    }\n",
       "\n",
       "    .dataframe tbody tr th {\n",
       "        vertical-align: top;\n",
       "    }\n",
       "\n",
       "    .dataframe thead th {\n",
       "        text-align: right;\n",
       "    }\n",
       "</style>\n",
       "<table border=\"1\" class=\"dataframe\">\n",
       "  <thead>\n",
       "    <tr style=\"text-align: right;\">\n",
       "      <th></th>\n",
       "      <th>max_speed</th>\n",
       "    </tr>\n",
       "    <tr>\n",
       "      <th>class</th>\n",
       "      <th></th>\n",
       "    </tr>\n",
       "  </thead>\n",
       "  <tbody>\n",
       "    <tr>\n",
       "      <th>bird</th>\n",
       "      <td>206.5</td>\n",
       "    </tr>\n",
       "    <tr>\n",
       "      <th>mammal</th>\n",
       "      <td>69.1</td>\n",
       "    </tr>\n",
       "  </tbody>\n",
       "</table>\n",
       "</div>"
      ],
      "text/plain": [
       "        max_speed\n",
       "class            \n",
       "bird        206.5\n",
       "mammal       69.1"
      ]
     },
     "execution_count": 5,
     "metadata": {},
     "output_type": "execute_result"
    }
   ],
   "source": [
    "df.groupby(\"class\").apply(np.mean)"
   ]
  },
  {
   "cell_type": "markdown",
   "metadata": {
    "slideshow": {
     "slide_type": "fragment"
    },
    "tags": []
   },
   "source": [
    "In our case, pandas has provided us with a shorthand to *apply* the `mean` function (or some other functions) directly. \n",
    "\n",
    "However, the principle of applying any function to an object in this way is generally applicable and is, again, linked to the idea of *functional programming*."
   ]
  },
  {
   "cell_type": "markdown",
   "metadata": {
    "slideshow": {
     "slide_type": "slide"
    },
    "tags": []
   },
   "source": [
    "## Grouping and resampling our data\n",
    "\n",
    "Work through this notebook discussing the groupby and resample methods available in pandas. These methods are the most common methods of applying split-apply-combine and are very useful when dealing with different data sources.\n",
    "\n",
    "[Workshop3_01_SplitApplyCombine.ipynb](Workshop3_01_SplitApplyCombine.ipynb)"
   ]
  },
  {
   "cell_type": "markdown",
   "metadata": {
    "slideshow": {
     "slide_type": "slide"
    },
    "tags": []
   },
   "source": [
    "## 2D plotting\n",
    "\n",
    "Work through this small example using Magnetic Resonance Images of the brain to demonstrate how we could create plots for two-dimensional data.\n",
    "\n",
    "[Workshop3_02_2DPlotting.ipynb](Workshop3_02_2DPlotting.ipynb)"
   ]
  },
  {
   "cell_type": "markdown",
   "metadata": {
    "slideshow": {
     "slide_type": "slide"
    },
    "tags": []
   },
   "source": [
    "## Assessment\n",
    "\n",
    "Programming test to be completed and submitted next week.\n",
    "\n",
    "**Deadline: Wednesday at 12pm (noon) (Week 4)**\n",
    "\n",
    "- Details are available on the [Intermediate Scientific Computing](https://www.ole.bris.ac.uk//webapps/login/?action=default_login&new_loc=%2Fwebapps%2Fblackboard%2Fcontent%2FlistContentEditable.jsp%3Fcontent_id%3D_6558649_1%26course_id%3D_249925_1) Blackboard course - [\"Assessment, submission and feedback\"](https://www.ole.bris.ac.uk//webapps/login/?action=default_login&new_loc=%2Fwebapps%2Fblackboard%2Fcontent%2FlistContentEditable.jsp%3Fcontent_id%3D_6558658_1%26course_id%3D_249925_1%26mode%3Dreset) course content area.\n",
    "   - \"Test 1: Data Science 1\"\n",
    "- Assessment is provided as a zip file containing data and a Jupyter notebook template to be updated and submitted.\n",
    "- Submit using the same Blackboard submission point on the \"Assessment, submission and feedback\" tab."
   ]
  },
  {
   "cell_type": "markdown",
   "metadata": {
    "slideshow": {
     "slide_type": "slide"
    },
    "tags": []
   },
   "source": [
    "## Seminar: Data Cleaning\n",
    "\n",
    "There are also seminar sessions this week which will include a mini hackathon focussed on data cleaning. Check your timetable for when your seminar is scheduled and see the Blackboard course page for [Week 3](https://www.ole.bris.ac.uk/auth-saml/saml/login?apId=_183_1&redirectUrl=https%3A%2F%2Fwww.ole.bris.ac.uk%2Fwebapps%2Fblackboard%2Fcontent%2FlistContentEditable.jsp%3Fcontent_id%3D_7327443_1%26course_id%3D_249925_1) for more details of this.\n",
    "\n",
    "There is no preparation needed for this seminar but do make sure to ***bring along your personal device*** to use for coding."
   ]
  }
 ],
 "metadata": {
  "kernelspec": {
   "display_name": "Python 3 (ipykernel)",
   "language": "python",
   "name": "python3"
  },
  "language_info": {
   "codemirror_mode": {
    "name": "ipython",
    "version": 3
   },
   "file_extension": ".py",
   "mimetype": "text/x-python",
   "name": "python",
   "nbconvert_exporter": "python",
   "pygments_lexer": "ipython3",
   "version": "3.9.13"
  }
 },
 "nbformat": 4,
 "nbformat_minor": 4
}

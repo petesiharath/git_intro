{
 "cells": [
  {
   "cell_type": "markdown",
   "metadata": {},
   "source": [
    "# Split-apply-combine"
   ]
  },
  {
   "cell_type": "markdown",
   "metadata": {},
   "source": [
    "When investigating properties within our datasets, it is often the case that we will want to categorise or downsample that data. This could include looking at averages (or other bulk properties) within different classes, averages across different time periods or selecting only the first of repeated entries.\n",
    "\n",
    "We could approach this by looping and filtering our data set, applying an operation to each sub set in a manual way. However, pandas offers us a more efficient and flexible strategy called **split-apply-combine**, where we can achieve the same output by splitting the data into groups, applying an operation on each group and combining the data back together, sometimes in a few lines of code."
   ]
  },
  {
   "cell_type": "markdown",
   "metadata": {},
   "source": [
    "## Groupby\n",
    "\n",
    "The main example of this is strategy is when using the `groupby()` function."
   ]
  },
  {
   "cell_type": "code",
   "execution_count": 11,
   "metadata": {},
   "outputs": [
    {
     "data": {
      "text/html": [
       "<div>\n",
       "<style scoped>\n",
       "    .dataframe tbody tr th:only-of-type {\n",
       "        vertical-align: middle;\n",
       "    }\n",
       "\n",
       "    .dataframe tbody tr th {\n",
       "        vertical-align: top;\n",
       "    }\n",
       "\n",
       "    .dataframe thead th {\n",
       "        text-align: right;\n",
       "    }\n",
       "</style>\n",
       "<table border=\"1\" class=\"dataframe\">\n",
       "  <thead>\n",
       "    <tr style=\"text-align: right;\">\n",
       "      <th></th>\n",
       "      <th>unit</th>\n",
       "      <th>degree</th>\n",
       "      <th>students_enrolled</th>\n",
       "    </tr>\n",
       "  </thead>\n",
       "  <tbody>\n",
       "    <tr>\n",
       "      <th>0</th>\n",
       "      <td>Life Processes</td>\n",
       "      <td>Biology</td>\n",
       "      <td>100.0</td>\n",
       "    </tr>\n",
       "    <tr>\n",
       "      <th>1</th>\n",
       "      <td>Microbiology</td>\n",
       "      <td>Biology</td>\n",
       "      <td>150.0</td>\n",
       "    </tr>\n",
       "    <tr>\n",
       "      <th>2</th>\n",
       "      <td>Statistics</td>\n",
       "      <td>Mathematics</td>\n",
       "      <td>NaN</td>\n",
       "    </tr>\n",
       "    <tr>\n",
       "      <th>3</th>\n",
       "      <td>Ancient Saxons</td>\n",
       "      <td>Archaeology</td>\n",
       "      <td>50.0</td>\n",
       "    </tr>\n",
       "    <tr>\n",
       "      <th>4</th>\n",
       "      <td>Analysis</td>\n",
       "      <td>Mathematics</td>\n",
       "      <td>300.0</td>\n",
       "    </tr>\n",
       "  </tbody>\n",
       "</table>\n",
       "</div>"
      ],
      "text/plain": [
       "             unit       degree  students_enrolled\n",
       "0  Life Processes      Biology              100.0\n",
       "1    Microbiology      Biology              150.0\n",
       "2      Statistics  Mathematics                NaN\n",
       "3  Ancient Saxons  Archaeology               50.0\n",
       "4        Analysis  Mathematics              300.0"
      ]
     },
     "execution_count": 11,
     "metadata": {},
     "output_type": "execute_result"
    }
   ],
   "source": [
    "import pandas as pd\n",
    "import numpy as np\n",
    "\n",
    "degree_units = pd.DataFrame({\"unit\":[\"Life Processes\", \"Microbiology\", \"Statistics\", \"Ancient Saxons\", \"Analysis\"],\n",
    "                             \"degree\":[\"Biology\", \"Biology\", \"Mathematics\", \"Archaeology\", \"Mathematics\"],\n",
    "                             \"students_enrolled\": [100, 150, np.nan, 50, 300]})\n",
    "degree_units"
   ]
  },
  {
   "cell_type": "code",
   "execution_count": 12,
   "metadata": {},
   "outputs": [
    {
     "data": {
      "text/html": [
       "<div>\n",
       "<style scoped>\n",
       "    .dataframe tbody tr th:only-of-type {\n",
       "        vertical-align: middle;\n",
       "    }\n",
       "\n",
       "    .dataframe tbody tr th {\n",
       "        vertical-align: top;\n",
       "    }\n",
       "\n",
       "    .dataframe thead th {\n",
       "        text-align: right;\n",
       "    }\n",
       "</style>\n",
       "<table border=\"1\" class=\"dataframe\">\n",
       "  <thead>\n",
       "    <tr style=\"text-align: right;\">\n",
       "      <th></th>\n",
       "      <th>students_enrolled</th>\n",
       "    </tr>\n",
       "    <tr>\n",
       "      <th>degree</th>\n",
       "      <th></th>\n",
       "    </tr>\n",
       "  </thead>\n",
       "  <tbody>\n",
       "    <tr>\n",
       "      <th>Archaeology</th>\n",
       "      <td>50.0</td>\n",
       "    </tr>\n",
       "    <tr>\n",
       "      <th>Biology</th>\n",
       "      <td>125.0</td>\n",
       "    </tr>\n",
       "    <tr>\n",
       "      <th>Mathematics</th>\n",
       "      <td>300.0</td>\n",
       "    </tr>\n",
       "  </tbody>\n",
       "</table>\n",
       "</div>"
      ],
      "text/plain": [
       "             students_enrolled\n",
       "degree                        \n",
       "Archaeology               50.0\n",
       "Biology                  125.0\n",
       "Mathematics              300.0"
      ]
     },
     "execution_count": 12,
     "metadata": {},
     "output_type": "execute_result"
    }
   ],
   "source": [
    "degree_units.groupby(\"degree\").mean(numeric_only=True)"
   ]
  },
  {
   "cell_type": "markdown",
   "metadata": {},
   "source": [
    "For this DataFrame, this has been grouped by degree title and the mean calculated for each of those groups. This was done by first calling the [`.groupby()` method](https://pandas.pydata.org/pandas-docs/stable/reference/api/pandas.DataFrame.groupby.html) followed by the [`.mean()` method](https://pandas.pydata.org/docs/reference/api/pandas.core.groupby.GroupBy.mean.html). One thing to notice here is that the column we grouped on is now being used as the index in our new DataFrame.\n",
    "\n",
    "***Be aware**: in this case, the output DataFrame doesn't have the \"unit\" column that was in the input DataFrame. This is because the `mean()` function cannot be used on this column because it contained strings and so it has been silently dropped. This may or not be desired behaviour, but is worth being aware of when applying these sorts of operations.*\n",
    "\n",
    "If we look at these two steps, we can start to break down what is happening here:"
   ]
  },
  {
   "cell_type": "code",
   "execution_count": 10,
   "metadata": {},
   "outputs": [
    {
     "name": "stdout",
     "output_type": "stream",
     "text": [
      "<pandas.core.groupby.generic.DataFrameGroupBy object at 0x000001F7B27910D0>\n"
     ]
    }
   ],
   "source": [
    "degree_grouped = degree_units.groupby(\"degree\")\n",
    "print(degree_grouped)"
   ]
  },
  {
   "cell_type": "markdown",
   "metadata": {},
   "source": [
    "This is a [GroupBy object](https://pandas.pydata.org/docs/reference/groupby.html). It is a bit opaque and doesn't give you much information if you just print it out. However, if you loop over this it will give you both the name of each category and the details of the group:"
   ]
  },
  {
   "cell_type": "code",
   "execution_count": 13,
   "metadata": {},
   "outputs": [
    {
     "name": "stdout",
     "output_type": "stream",
     "text": [
      "Name: Archaeology\n",
      "             unit       degree  students_enrolled\n",
      "3  Ancient Saxons  Archaeology               50.0\n",
      "\n",
      "\n",
      "Name: Biology\n",
      "             unit   degree  students_enrolled\n",
      "0  Life Processes  Biology              100.0\n",
      "1    Microbiology  Biology              150.0\n",
      "\n",
      "\n",
      "Name: Mathematics\n",
      "         unit       degree  students_enrolled\n",
      "2  Statistics  Mathematics                NaN\n",
      "4    Analysis  Mathematics              300.0\n",
      "\n",
      "\n"
     ]
    }
   ],
   "source": [
    "for name, group in degree_grouped:\n",
    "    print(f\"Name: {name}\")\n",
    "    print(group)\n",
    "    print(\"\\n\") # Print a new line (blank line)"
   ]
  },
  {
   "cell_type": "markdown",
   "metadata": {},
   "source": [
    "So when you use `.mean()` here you are using a function (method) on this GroupBy object. It applies this function to each of these groups seperately and then combines these details back together to give you a new DataFrame:"
   ]
  },
  {
   "cell_type": "code",
   "execution_count": 15,
   "metadata": {},
   "outputs": [
    {
     "data": {
      "text/html": [
       "<div>\n",
       "<style scoped>\n",
       "    .dataframe tbody tr th:only-of-type {\n",
       "        vertical-align: middle;\n",
       "    }\n",
       "\n",
       "    .dataframe tbody tr th {\n",
       "        vertical-align: top;\n",
       "    }\n",
       "\n",
       "    .dataframe thead th {\n",
       "        text-align: right;\n",
       "    }\n",
       "</style>\n",
       "<table border=\"1\" class=\"dataframe\">\n",
       "  <thead>\n",
       "    <tr style=\"text-align: right;\">\n",
       "      <th></th>\n",
       "      <th>students_enrolled</th>\n",
       "    </tr>\n",
       "    <tr>\n",
       "      <th>degree</th>\n",
       "      <th></th>\n",
       "    </tr>\n",
       "  </thead>\n",
       "  <tbody>\n",
       "    <tr>\n",
       "      <th>Archaeology</th>\n",
       "      <td>50.0</td>\n",
       "    </tr>\n",
       "    <tr>\n",
       "      <th>Biology</th>\n",
       "      <td>125.0</td>\n",
       "    </tr>\n",
       "    <tr>\n",
       "      <th>Mathematics</th>\n",
       "      <td>300.0</td>\n",
       "    </tr>\n",
       "  </tbody>\n",
       "</table>\n",
       "</div>"
      ],
      "text/plain": [
       "             students_enrolled\n",
       "degree                        \n",
       "Archaeology               50.0\n",
       "Biology                  125.0\n",
       "Mathematics              300.0"
      ]
     },
     "execution_count": 15,
     "metadata": {},
     "output_type": "execute_result"
    }
   ],
   "source": [
    "degree_grouped.mean(numeric_only=True)"
   ]
  },
  {
   "cell_type": "markdown",
   "metadata": {},
   "source": [
    "Using the [`.mean()` method](https://pandas.pydata.org/docs/reference/api/pandas.core.groupby.GroupBy.mean.html) is an example of an *aggregation* function i.e. one that reduces each group to a single row. Pandas provides a set of these aggregation functions you can use. See here for some more examples and a table of the aggregation functions available: https://pandas.pydata.org/docs/user_guide/groupby.html#aggregation.\n",
    "\n",
    "There are also other operations which you can use rather than aggregation (including [transforming](https://pandas.pydata.org/docs/user_guide/groupby.html#transformation) and [filtering](https://pandas.pydata.org/docs/user_guide/groupby.html#filtration)) but we will leave that up to you to explore if you're interested.\n",
    "\n",
    "And it is also possible to apply any function which produces a suitable output using the [`.apply()` equivalent method](https://pandas.pydata.org/docs/reference/api/pandas.core.groupby.GroupBy.apply.html) ([examples](https://pandas.pydata.org/docs/user_guide/groupby.html#flexible-apply)) available."
   ]
  },
  {
   "cell_type": "markdown",
   "metadata": {},
   "source": [
    "---"
   ]
  },
  {
   "cell_type": "markdown",
   "metadata": {},
   "source": [
    "### Aside: file systems\n",
    "\n",
    "Accessing external files, such as data files, on different operating systems (Linux, MacOS, Windows) can sometimes be tricky. There are a few libraries available in Python which can help with this.\n",
    "\n",
    "The [`os` module](https://docs.python.org/3/library/os.html) (operating system interfaces module) provides some useful functions when running Python on your own device. For example the `getcwd()` command tells you where this current file is (get current working directory)."
   ]
  },
  {
   "cell_type": "code",
   "execution_count": 16,
   "metadata": {},
   "outputs": [
    {
     "name": "stdout",
     "output_type": "stream",
     "text": [
      "C:\\Users\\petes\\Workshops\\Workshop03\n"
     ]
    }
   ],
   "source": [
    "import os\n",
    "\n",
    "current_directory = os.getcwd()\n",
    "print(current_directory)"
   ]
  },
  {
   "cell_type": "markdown",
   "metadata": {},
   "source": [
    "On my University Windows laptop this is a string which looks like:\n",
    "\n",
    "```\n",
    "C:\\Users\\rt17603\\OneDrive - University of Bristol\\Documents\\Teaching\\Materials\\Intermediate Scientific Computing\\intermediate-scientific-computing\\Workshop03\n",
    "```\n",
    "\n",
    "*Note: this output will look different depending on where this notebook is being run (e.g. Noteable versus your own device versus my device etc.).*"
   ]
  },
  {
   "cell_type": "markdown",
   "metadata": {},
   "source": [
    "When accessing files, we often need to indicate where that file is stored. Another useful module is the [`pathlib` module](https://docs.python.org/3/library/pathlib.html). This allows you to create a `Path` object which can be used to handle paths for files for all different operating systems and can sensibly interpret these."
   ]
  },
  {
   "cell_type": "code",
   "execution_count": 17,
   "metadata": {},
   "outputs": [
    {
     "data": {
      "text/plain": [
       "WindowsPath('C:/Users/petes/Workshops/Workshop03')"
      ]
     },
     "execution_count": 17,
     "metadata": {},
     "output_type": "execute_result"
    }
   ],
   "source": [
    "from pathlib import Path\n",
    "current_path = Path(current_directory)\n",
    "current_path"
   ]
  },
  {
   "cell_type": "markdown",
   "metadata": {},
   "source": [
    "On my University Windows laptop this looks like:\n",
    "\n",
    "```\n",
    "WindowsPath('C:/Users/rt17603/OneDrive - University of Bristol/Documents/Teaching/Materials/Intermediate Scientific Computing/intermediate-scientific-computing/Workshop03')\n",
    "```"
   ]
  },
  {
   "cell_type": "markdown",
   "metadata": {},
   "source": [
    "You can see this has correctly interpreted this as a Windows Path. You can update this path to incldue sub-folders and filenames using the `/` syntax to combine with strings (or other Path objects):"
   ]
  },
  {
   "cell_type": "code",
   "execution_count": 18,
   "metadata": {},
   "outputs": [
    {
     "data": {
      "text/plain": [
       "WindowsPath('C:/Users/petes/Workshops/Workshop03/data/untitled.txt')"
      ]
     },
     "execution_count": 18,
     "metadata": {},
     "output_type": "execute_result"
    }
   ],
   "source": [
    "filename_with_path = current_path / \"data\" / \"untitled.txt\"\n",
    "filename_with_path"
   ]
  },
  {
   "cell_type": "markdown",
   "metadata": {},
   "source": [
    "On my University Windows laptop this looks like:\n",
    "\n",
    "```\n",
    "WindowsPath('C:/Users/rt17603/OneDrive - University of Bristol/Documents/Teaching/Materials/Intermediate Scientific Computing/intermediate-scientific-computing/Workshop03/data/untitled.txt')\n",
    "```"
   ]
  },
  {
   "cell_type": "markdown",
   "metadata": {},
   "source": [
    "You can also create *relative paths* (paths which are relative to your location) for sub-directories (we have been doing this so far on this unit when we write \"data/data_file.csv\") or using \"../\" for each directory level you wish to go up.\n",
    "\n",
    "For example, if your \"Workshop03\" folder is in the same location as your \"Workshop02\" folder and you wanted to access the database from the previous workshop you could write"
   ]
  },
  {
   "cell_type": "code",
   "execution_count": 19,
   "metadata": {},
   "outputs": [
    {
     "name": "stdout",
     "output_type": "stream",
     "text": [
      "..\\Workshop02\\data\\ukpvgeo.db\n"
     ]
    }
   ],
   "source": [
    "filename = Path(\"../Workshop02/data/ukpvgeo.db\")\n",
    "print(filename)"
   ]
  },
  {
   "cell_type": "markdown",
   "metadata": {},
   "source": [
    "**Question:** Could you write a full path to the \"ukpvgeo.db\" database using tools from `os` and/or the `pathlib` library?"
   ]
  },
  {
   "cell_type": "markdown",
   "metadata": {},
   "source": [
    "---"
   ]
  },
  {
   "cell_type": "markdown",
   "metadata": {},
   "source": [
    "### Exercise A\n",
    "\n",
    "When we looked at our UKPVGeo dataset last week, a groupby was used to look at the mean properties within each county. \n",
    "\n",
    "To access this database again, the simplest way would be to copy the database from Workshop02/data/ukpvgeo.db to the same location at this notebook. \n",
    "\n",
    "*Optionally, using the tools described above you could try to write a full or relative path to access the original database from Workshop 2. This will be dependent on your file system and how you have stored the files.*\n",
    "\n",
    "Using the rules for accessing SQL data from [\"Workshop02/Workshop2_01_Databases.ipynb\"](../Workshop02/Workshop2_01_Databases.ipynb) (also see [\"Workshop02/Workshop2_02_Operations.ipynb\"](../Workshop02/Workshop2_02_Operations.ipynb#Solar-panel-database)), answer the questions below.\n",
    "\n",
    "1) Access the UKPVGeo SQLite database and group on the status column\n",
    "\n",
    " - When accessing this database, write a query to extract the \"repd_status\" and the \"area_sqm\" columns.\n",
    "\n",
    " - Write a groupby to group on this status column and calculate the mean.\n",
    "\n",
    " - What is the mean area for the solar panels / farms listed as operational?"
   ]
  },
  {
   "cell_type": "code",
   "execution_count": 28,
   "metadata": {},
   "outputs": [
    {
     "data": {
      "text/html": [
       "<div>\n",
       "<style scoped>\n",
       "    .dataframe tbody tr th:only-of-type {\n",
       "        vertical-align: middle;\n",
       "    }\n",
       "\n",
       "    .dataframe tbody tr th {\n",
       "        vertical-align: top;\n",
       "    }\n",
       "\n",
       "    .dataframe thead th {\n",
       "        text-align: right;\n",
       "    }\n",
       "</style>\n",
       "<table border=\"1\" class=\"dataframe\">\n",
       "  <thead>\n",
       "    <tr style=\"text-align: right;\">\n",
       "      <th></th>\n",
       "      <th>area_sqm</th>\n",
       "    </tr>\n",
       "    <tr>\n",
       "      <th>repd_status</th>\n",
       "      <th></th>\n",
       "    </tr>\n",
       "  </thead>\n",
       "  <tbody>\n",
       "    <tr>\n",
       "      <th>Application Submitted</th>\n",
       "      <td>31802.664706</td>\n",
       "    </tr>\n",
       "    <tr>\n",
       "      <th>Awaiting Construction</th>\n",
       "      <td>62234.170312</td>\n",
       "    </tr>\n",
       "    <tr>\n",
       "      <th>Operational</th>\n",
       "      <td>26492.179936</td>\n",
       "    </tr>\n",
       "    <tr>\n",
       "      <th>Under Construction</th>\n",
       "      <td>56155.061538</td>\n",
       "    </tr>\n",
       "  </tbody>\n",
       "</table>\n",
       "</div>"
      ],
      "text/plain": [
       "                           area_sqm\n",
       "repd_status                        \n",
       "Application Submitted  31802.664706\n",
       "Awaiting Construction  62234.170312\n",
       "Operational            26492.179936\n",
       "Under Construction     56155.061538"
      ]
     },
     "execution_count": 28,
     "metadata": {},
     "output_type": "execute_result"
    }
   ],
   "source": [
    "database = Path(\"../Workshop 2/data/ukpvgeo.db\")\n",
    "database_service = \"sqlite\"\n",
    "connectable = f\"{database_service}:///{database}\"\n",
    "query = \"SELECT repd_status, area_sqm FROM pv\"\n",
    "ukpvgeo = pd.read_sql(query, connectable)\n",
    "ukpvgeo_groupby = ukpvgeo.groupby(\"repd_status\")\n",
    "mean = ukpvgeo_groupby.mean(numeric_only=True)\n",
    "mean"
   ]
  },
  {
   "cell_type": "markdown",
   "metadata": {},
   "source": [
    "2) For the same DataFrame, group on the status column but this time find a way to *count the number* of solar cells listed as operational.\n",
    "\n",
    "*You may want to look through the different [methods available](https://pandas.pydata.org/docs/user_guide/groupby.html#aggregation)*"
   ]
  },
  {
   "cell_type": "code",
   "execution_count": 32,
   "metadata": {},
   "outputs": [
    {
     "data": {
      "text/html": [
       "<div>\n",
       "<style scoped>\n",
       "    .dataframe tbody tr th:only-of-type {\n",
       "        vertical-align: middle;\n",
       "    }\n",
       "\n",
       "    .dataframe tbody tr th {\n",
       "        vertical-align: top;\n",
       "    }\n",
       "\n",
       "    .dataframe thead th {\n",
       "        text-align: right;\n",
       "    }\n",
       "</style>\n",
       "<table border=\"1\" class=\"dataframe\">\n",
       "  <thead>\n",
       "    <tr style=\"text-align: right;\">\n",
       "      <th></th>\n",
       "      <th>area_sqm</th>\n",
       "    </tr>\n",
       "    <tr>\n",
       "      <th>repd_status</th>\n",
       "      <th></th>\n",
       "    </tr>\n",
       "  </thead>\n",
       "  <tbody>\n",
       "    <tr>\n",
       "      <th>Application Submitted</th>\n",
       "      <td>17</td>\n",
       "    </tr>\n",
       "    <tr>\n",
       "      <th>Awaiting Construction</th>\n",
       "      <td>64</td>\n",
       "    </tr>\n",
       "    <tr>\n",
       "      <th>Operational</th>\n",
       "      <td>8458</td>\n",
       "    </tr>\n",
       "    <tr>\n",
       "      <th>Under Construction</th>\n",
       "      <td>13</td>\n",
       "    </tr>\n",
       "  </tbody>\n",
       "</table>\n",
       "</div>"
      ],
      "text/plain": [
       "                       area_sqm\n",
       "repd_status                    \n",
       "Application Submitted        17\n",
       "Awaiting Construction        64\n",
       "Operational                8458\n",
       "Under Construction           13"
      ]
     },
     "execution_count": 32,
     "metadata": {},
     "output_type": "execute_result"
    }
   ],
   "source": [
    "ukpvgeo_groupby.count()"
   ]
  },
  {
   "cell_type": "markdown",
   "metadata": {},
   "source": [
    "---"
   ]
  },
  {
   "cell_type": "markdown",
   "metadata": {},
   "source": [
    "## Resample\n",
    "\n",
    "When we consider resampling, this ties closely to the idea of measuring a timeseries of data. It is often the case that we have data on a certain frequency but wish to average over longer time periods, perhaps to look for longer term trends or to group together noisy data.\n",
    "\n",
    "Here we have generated  sample data to simulate measuring the concentration of two samples over time:"
   ]
  },
  {
   "cell_type": "code",
   "execution_count": 33,
   "metadata": {},
   "outputs": [],
   "source": [
    "## Generating sample data\n",
    "import numpy.random as random\n",
    "\n",
    "# Using the pandas date_range function with 30s frequency to create timeseries\n",
    "times = pd.date_range(\"2020-03-08T13:39:30\", \"2020-03-08T14:31:00\", freq=\"30s\")\n",
    "num_data_points = len(times)\n",
    "\n",
    "rng = random.default_rng(seed=109)\n",
    "conc_1 = np.linspace(0, 10, num_data_points) + rng.random(num_data_points)\n",
    "conc_2 = np.linspace(4, 0, num_data_points) + rng.random(num_data_points)\n",
    "\n",
    "experiment = pd.DataFrame({\"concentration_x\":conc_1, \"concentration_y\":conc_2}, index=times)"
   ]
  },
  {
   "cell_type": "code",
   "execution_count": 34,
   "metadata": {},
   "outputs": [
    {
     "name": "stderr",
     "output_type": "stream",
     "text": [
      "Matplotlib is building the font cache; this may take a moment.\n"
     ]
    },
    {
     "data": {
      "text/plain": [
       "<Axes: >"
      ]
     },
     "execution_count": 34,
     "metadata": {},
     "output_type": "execute_result"
    },
    {
     "data": {
      "image/png": "[encoded data removed]",
      "text/plain": [
       "<Figure size 640x480 with 1 Axes>"
      ]
     },
     "metadata": {},
     "output_type": "display_data"
    }
   ],
   "source": [
    "experiment.plot()"
   ]
  },
  {
   "cell_type": "markdown",
   "metadata": {},
   "source": [
    "This sample data is currently at a frequency of 30 seconds. We can see an overall trend but the data itself is noisy.\n",
    "\n",
    "We can resample this to a lower frequency, for instance 5 minutes and take the mean within each sample in the following way:"
   ]
  },
  {
   "cell_type": "code",
   "execution_count": 35,
   "metadata": {},
   "outputs": [
    {
     "data": {
      "text/plain": [
       "<Axes: >"
      ]
     },
     "execution_count": 35,
     "metadata": {},
     "output_type": "execute_result"
    },
    {
     "data": {
      "image/png": "[encoded data removed]",
      "text/plain": [
       "<Figure size 640x480 with 1 Axes>"
      ]
     },
     "metadata": {},
     "output_type": "display_data"
    }
   ],
   "source": [
    "experiment_downsample = experiment.resample(\"5min\").mean()\n",
    "experiment_downsample.plot()"
   ]
  },
  {
   "cell_type": "markdown",
   "metadata": {},
   "source": [
    "This is very similiar to the `groupby` syntax, but this time we first call the [`resample()` method]() and then the `.mean()` method. \n",
    "\n",
    "When we call the `resample()` method, this is where we can specify a new frequency, as a string containing a number and a unit. For example this could be:\n",
    "- \"5min\" (5 minutes)\n",
    "- \"1H\" (1 hour)\n",
    "- \"3MS\" (3 months, from month start)\n",
    "- \"1.234Y\" (1.234 years, from year end)\n",
    "\n",
    "See here for all of the [options available for pandas time units](https://pandas.pydata.org/pandas-docs/stable/user_guide/timeseries.html#offset-aliases)\n",
    "\n",
    "Similiarly, to `groupby` there are also [lots of methods](https://pandas.pydata.org/pandas-docs/stable/reference/resampling.html#computations-descriptive-stats) available  which can be called as well as `mean()`."
   ]
  },
  {
   "cell_type": "markdown",
   "metadata": {},
   "source": [
    "It is worth considering what is happening when we call the resample method. As with `groupby()`, we can split this process up into multiple steps and look at the object created when we call `resample()`:"
   ]
  },
  {
   "cell_type": "code",
   "execution_count": 36,
   "metadata": {},
   "outputs": [
    {
     "name": "stdout",
     "output_type": "stream",
     "text": [
      "DatetimeIndexResampler [freq=<5 * Minutes>, axis=0, closed=left, label=left, convention=start, origin=start_day]\n"
     ]
    }
   ],
   "source": [
    "experiment_resample = experiment.resample(\"5min\")\n",
    "print(experiment_resample)"
   ]
  },
  {
   "cell_type": "markdown",
   "metadata": {},
   "source": [
    "This is a [Resampler object](https://pandas.pydata.org/docs/reference/resampling.html) (very similiar to a GroupBy object) and we can loop over this to see how this data has been split:"
   ]
  },
  {
   "cell_type": "code",
   "execution_count": 37,
   "metadata": {},
   "outputs": [
    {
     "name": "stdout",
     "output_type": "stream",
     "text": [
      "Bin start: 2020-03-08 13:35:00\n",
      "                     concentration_x  concentration_y\n",
      "2020-03-08 13:39:30         0.543742         4.882993\n",
      "\n",
      "\n",
      "Bin start: 2020-03-08 13:40:00\n",
      "                     concentration_x  concentration_y\n",
      "2020-03-08 13:40:00         0.938496         4.688915\n",
      "2020-03-08 13:40:30         0.944251         3.930420\n",
      "2020-03-08 13:41:00         0.622898         4.473455\n",
      "2020-03-08 13:41:30         0.987603         3.985018\n",
      "2020-03-08 13:42:00         0.679938         4.609630\n",
      "2020-03-08 13:42:30         0.733967         4.035999\n",
      "2020-03-08 13:43:00         1.183498         4.060859\n",
      "2020-03-08 13:43:30         1.319334         4.088603\n",
      "2020-03-08 13:44:00         1.873196         4.536534\n",
      "2020-03-08 13:44:30         1.954733         4.001805\n",
      "\n",
      "\n",
      "Bin start: 2020-03-08 13:45:00\n",
      "                     concentration_x  concentration_y\n",
      "2020-03-08 13:45:00         1.588349         3.645174\n",
      "2020-03-08 13:45:30         1.830758         3.933834\n",
      "2020-03-08 13:46:00         1.469568         3.695162\n",
      "2020-03-08 13:46:30         2.119467         4.085823\n",
      "2020-03-08 13:47:00         2.254558         3.454943\n",
      "2020-03-08 13:47:30         2.512743         3.743986\n",
      "2020-03-08 13:48:00         1.784640         3.646537\n",
      "2020-03-08 13:48:30         2.194202         4.016645\n",
      "2020-03-08 13:49:00         2.487196         3.875861\n",
      "2020-03-08 13:49:30         2.487893         3.988284\n",
      "\n",
      "\n",
      "Bin start: 2020-03-08 13:50:00\n",
      "                     concentration_x  concentration_y\n",
      "2020-03-08 13:50:00         2.148157         3.625669\n",
      "2020-03-08 13:50:30         2.791504         3.509546\n",
      "2020-03-08 13:51:00         2.996640         4.025767\n",
      "2020-03-08 13:51:30         3.216255         3.324497\n",
      "2020-03-08 13:52:00         2.497665         3.930920\n",
      "2020-03-08 13:52:30         2.803883         3.730987\n",
      "2020-03-08 13:53:00         3.519259         3.172519\n",
      "2020-03-08 13:53:30         3.407418         3.070991\n",
      "2020-03-08 13:54:00         3.611278         3.038415\n",
      "2020-03-08 13:54:30         3.234010         3.525040\n",
      "\n",
      "\n",
      "Bin start: 2020-03-08 13:55:00\n",
      "                     concentration_x  concentration_y\n",
      "2020-03-08 13:55:00         3.197182         3.531935\n",
      "2020-03-08 13:55:30         3.610043         3.468219\n",
      "2020-03-08 13:56:00         3.602336         2.932261\n",
      "2020-03-08 13:56:30         3.565928         3.002018\n",
      "2020-03-08 13:57:00         3.903906         2.916956\n",
      "2020-03-08 13:57:30         3.574786         3.203486\n",
      "2020-03-08 13:58:00         4.558026         3.003012\n",
      "2020-03-08 13:58:30         3.991024         2.998197\n",
      "2020-03-08 13:59:00         3.807195         2.660763\n",
      "2020-03-08 13:59:30         4.694222         3.016058\n",
      "\n",
      "\n",
      "Bin start: 2020-03-08 14:00:00\n",
      "                     concentration_x  concentration_y\n",
      "2020-03-08 14:00:00         4.197829         2.472151\n",
      "2020-03-08 14:00:30         4.280871         3.278984\n",
      "2020-03-08 14:01:00         4.775132         3.119616\n",
      "2020-03-08 14:01:30         4.626112         2.788819\n",
      "2020-03-08 14:02:00         4.804333         2.938269\n",
      "2020-03-08 14:02:30         5.329163         3.182609\n",
      "2020-03-08 14:03:00         4.884718         2.285466\n",
      "2020-03-08 14:03:30         5.576738         2.934560\n",
      "2020-03-08 14:04:00         4.898207         2.189134\n",
      "2020-03-08 14:04:30         5.131370         2.648447\n",
      "\n",
      "\n",
      "Bin start: 2020-03-08 14:05:00\n",
      "                     concentration_x  concentration_y\n",
      "2020-03-08 14:05:00         5.724373         2.356540\n",
      "2020-03-08 14:05:30         5.885567         2.592777\n",
      "2020-03-08 14:06:00         5.889463         2.698380\n",
      "2020-03-08 14:06:30         5.248743         2.104631\n",
      "2020-03-08 14:07:00         6.013738         1.973662\n",
      "2020-03-08 14:07:30         6.217979         2.177592\n",
      "2020-03-08 14:08:00         5.691007         2.259793\n",
      "2020-03-08 14:08:30         6.336911         1.760587\n",
      "2020-03-08 14:09:00         6.724709         2.268141\n",
      "2020-03-08 14:09:30         5.848204         1.968555\n",
      "\n",
      "\n",
      "Bin start: 2020-03-08 14:10:00\n",
      "                     concentration_x  concentration_y\n",
      "2020-03-08 14:10:00         6.686267         1.847781\n",
      "2020-03-08 14:10:30         6.777559         1.937315\n",
      "2020-03-08 14:11:00         6.274450         1.703074\n",
      "2020-03-08 14:11:30         6.233531         1.736780\n",
      "2020-03-08 14:12:00         6.844458         2.230305\n",
      "2020-03-08 14:12:30         6.625731         1.914606\n",
      "2020-03-08 14:13:00         7.239825         1.478143\n",
      "2020-03-08 14:13:30         7.395917         1.898984\n",
      "2020-03-08 14:14:00         6.828944         1.540324\n",
      "2020-03-08 14:14:30         6.902663         1.363852\n",
      "\n",
      "\n",
      "Bin start: 2020-03-08 14:15:00\n",
      "                     concentration_x  concentration_y\n",
      "2020-03-08 14:15:00         7.759341         2.047311\n",
      "2020-03-08 14:15:30         7.522455         2.068564\n",
      "2020-03-08 14:16:00         7.332075         1.983591\n",
      "2020-03-08 14:16:30         7.983746         1.508803\n",
      "2020-03-08 14:17:00         8.068372         1.629843\n",
      "2020-03-08 14:17:30         8.323953         1.450556\n",
      "2020-03-08 14:18:00         7.662095         1.624630\n",
      "2020-03-08 14:18:30         8.469410         1.829620\n",
      "2020-03-08 14:19:00         8.212953         1.788603\n",
      "2020-03-08 14:19:30         7.787280         1.136930\n",
      "\n",
      "\n",
      "Bin start: 2020-03-08 14:20:00\n",
      "                     concentration_x  concentration_y\n",
      "2020-03-08 14:20:00         7.947414         1.154556\n",
      "2020-03-08 14:20:30         8.141301         1.088451\n",
      "2020-03-08 14:21:00         8.745422         1.606742\n",
      "2020-03-08 14:21:30         8.714693         0.868063\n",
      "2020-03-08 14:22:00         8.357918         1.001590\n",
      "2020-03-08 14:22:30         8.664543         1.418415\n",
      "2020-03-08 14:23:00         9.328472         1.312296\n",
      "2020-03-08 14:23:30         9.385305         0.842919\n",
      "2020-03-08 14:24:00         9.276060         0.702361\n",
      "2020-03-08 14:24:30         9.347763         0.880505\n",
      "\n",
      "\n",
      "Bin start: 2020-03-08 14:25:00\n",
      "                     concentration_x  concentration_y\n",
      "2020-03-08 14:25:00         9.558459         0.494481\n",
      "2020-03-08 14:25:30         9.011012         0.808960\n",
      "2020-03-08 14:26:00         9.995299         0.827724\n",
      "2020-03-08 14:26:30         9.959822         0.498309\n",
      "2020-03-08 14:27:00         9.694534         1.051031\n",
      "2020-03-08 14:27:30        10.033337         0.820933\n",
      "2020-03-08 14:28:00        10.059360         0.912571\n",
      "2020-03-08 14:28:30        10.239894         0.966449\n",
      "2020-03-08 14:29:00        10.056944         0.370911\n",
      "2020-03-08 14:29:30        10.156943         1.033550\n",
      "\n",
      "\n",
      "Bin start: 2020-03-08 14:30:00\n",
      "                     concentration_x  concentration_y\n",
      "2020-03-08 14:30:00        10.784147         0.628327\n",
      "2020-03-08 14:30:30         9.924823         0.564769\n",
      "2020-03-08 14:31:00        10.260796         0.121689\n",
      "\n",
      "\n"
     ]
    }
   ],
   "source": [
    "for bin_start, group in experiment_resample:\n",
    "    print(f\"Bin start: {bin_start}\")\n",
    "    print(group)\n",
    "    print(\"\\n\")"
   ]
  },
  {
   "cell_type": "markdown",
   "metadata": {},
   "source": [
    "So, the resample method has split our data up into 5 minute bins. The first bin starts at \"2020-03-08 13:35:00\", the second at \"2020-03-08 13:40:00\" and so forth. \n",
    "\n",
    "**Question**: For our data, why does the first bin only contain one data point?"
   ]
  },
  {
   "cell_type": "markdown",
   "metadata": {},
   "source": [
    "Aside: As well as `groupby()` and `resample()`, other methods you may come across that use similiar principles are the [`rolling()` method](https://pandas.pydata.org/docs/reference/api/pandas.DataFrame.rolling.html) and the [`expanding()` method](https://pandas.pydata.org/docs/reference/api/pandas.DataFrame.expanding.html) (known as window operations)."
   ]
  },
  {
   "cell_type": "markdown",
   "metadata": {},
   "source": [
    "---"
   ]
  },
  {
   "cell_type": "markdown",
   "metadata": {},
   "source": [
    "### Exercise B\n",
    "\n",
    "1) For the `experiment` data defined above, can you resample this to find the average over hourly increments. How many rows did this produce?"
   ]
  },
  {
   "cell_type": "code",
   "execution_count": 38,
   "metadata": {},
   "outputs": [
    {
     "name": "stdout",
     "output_type": "stream",
     "text": [
      "Bin start: 2020-03-08 13:00:00\n",
      "                     concentration_x  concentration_y\n",
      "2020-03-08 13:39:30         0.543742         4.882993\n",
      "2020-03-08 13:40:00         0.938496         4.688915\n",
      "2020-03-08 13:40:30         0.944251         3.930420\n",
      "2020-03-08 13:41:00         0.622898         4.473455\n",
      "2020-03-08 13:41:30         0.987603         3.985018\n",
      "2020-03-08 13:42:00         0.679938         4.609630\n",
      "2020-03-08 13:42:30         0.733967         4.035999\n",
      "2020-03-08 13:43:00         1.183498         4.060859\n",
      "2020-03-08 13:43:30         1.319334         4.088603\n",
      "2020-03-08 13:44:00         1.873196         4.536534\n",
      "2020-03-08 13:44:30         1.954733         4.001805\n",
      "2020-03-08 13:45:00         1.588349         3.645174\n",
      "2020-03-08 13:45:30         1.830758         3.933834\n",
      "2020-03-08 13:46:00         1.469568         3.695162\n",
      "2020-03-08 13:46:30         2.119467         4.085823\n",
      "2020-03-08 13:47:00         2.254558         3.454943\n",
      "2020-03-08 13:47:30         2.512743         3.743986\n",
      "2020-03-08 13:48:00         1.784640         3.646537\n",
      "2020-03-08 13:48:30         2.194202         4.016645\n",
      "2020-03-08 13:49:00         2.487196         3.875861\n",
      "2020-03-08 13:49:30         2.487893         3.988284\n",
      "2020-03-08 13:50:00         2.148157         3.625669\n",
      "2020-03-08 13:50:30         2.791504         3.509546\n",
      "2020-03-08 13:51:00         2.996640         4.025767\n",
      "2020-03-08 13:51:30         3.216255         3.324497\n",
      "2020-03-08 13:52:00         2.497665         3.930920\n",
      "2020-03-08 13:52:30         2.803883         3.730987\n",
      "2020-03-08 13:53:00         3.519259         3.172519\n",
      "2020-03-08 13:53:30         3.407418         3.070991\n",
      "2020-03-08 13:54:00         3.611278         3.038415\n",
      "2020-03-08 13:54:30         3.234010         3.525040\n",
      "2020-03-08 13:55:00         3.197182         3.531935\n",
      "2020-03-08 13:55:30         3.610043         3.468219\n",
      "2020-03-08 13:56:00         3.602336         2.932261\n",
      "2020-03-08 13:56:30         3.565928         3.002018\n",
      "2020-03-08 13:57:00         3.903906         2.916956\n",
      "2020-03-08 13:57:30         3.574786         3.203486\n",
      "2020-03-08 13:58:00         4.558026         3.003012\n",
      "2020-03-08 13:58:30         3.991024         2.998197\n",
      "2020-03-08 13:59:00         3.807195         2.660763\n",
      "2020-03-08 13:59:30         4.694222         3.016058\n",
      "\n",
      "\n",
      "Bin start: 2020-03-08 14:00:00\n",
      "                     concentration_x  concentration_y\n",
      "2020-03-08 14:00:00         4.197829         2.472151\n",
      "2020-03-08 14:00:30         4.280871         3.278984\n",
      "2020-03-08 14:01:00         4.775132         3.119616\n",
      "2020-03-08 14:01:30         4.626112         2.788819\n",
      "2020-03-08 14:02:00         4.804333         2.938269\n",
      "...                              ...              ...\n",
      "2020-03-08 14:29:00        10.056944         0.370911\n",
      "2020-03-08 14:29:30        10.156943         1.033550\n",
      "2020-03-08 14:30:00        10.784147         0.628327\n",
      "2020-03-08 14:30:30         9.924823         0.564769\n",
      "2020-03-08 14:31:00        10.260796         0.121689\n",
      "\n",
      "[63 rows x 2 columns]\n",
      "\n",
      "\n"
     ]
    }
   ],
   "source": [
    "experiment_resample = experiment.resample(\"1H\")\n",
    "for bin_start, group in experiment_resample:\n",
    "    print(f\"Bin start: {bin_start}\")\n",
    "    print(group)\n",
    "    print(\"\\n\")\n"
   ]
  },
  {
   "cell_type": "markdown",
   "metadata": {},
   "source": [
    "2) How would you find the minimum value for every 10 minutes in the `experiment` data?"
   ]
  },
  {
   "cell_type": "code",
   "execution_count": 39,
   "metadata": {},
   "outputs": [
    {
     "data": {
      "text/html": [
       "<div>\n",
       "<style scoped>\n",
       "    .dataframe tbody tr th:only-of-type {\n",
       "        vertical-align: middle;\n",
       "    }\n",
       "\n",
       "    .dataframe tbody tr th {\n",
       "        vertical-align: top;\n",
       "    }\n",
       "\n",
       "    .dataframe thead th {\n",
       "        text-align: right;\n",
       "    }\n",
       "</style>\n",
       "<table border=\"1\" class=\"dataframe\">\n",
       "  <thead>\n",
       "    <tr style=\"text-align: right;\">\n",
       "      <th></th>\n",
       "      <th>concentration_x</th>\n",
       "      <th>concentration_y</th>\n",
       "    </tr>\n",
       "  </thead>\n",
       "  <tbody>\n",
       "    <tr>\n",
       "      <th>2020-03-08 13:30:00</th>\n",
       "      <td>0.543742</td>\n",
       "      <td>4.882993</td>\n",
       "    </tr>\n",
       "    <tr>\n",
       "      <th>2020-03-08 13:40:00</th>\n",
       "      <td>0.622898</td>\n",
       "      <td>3.454943</td>\n",
       "    </tr>\n",
       "    <tr>\n",
       "      <th>2020-03-08 13:50:00</th>\n",
       "      <td>2.148157</td>\n",
       "      <td>2.660763</td>\n",
       "    </tr>\n",
       "    <tr>\n",
       "      <th>2020-03-08 14:00:00</th>\n",
       "      <td>4.197829</td>\n",
       "      <td>1.760587</td>\n",
       "    </tr>\n",
       "    <tr>\n",
       "      <th>2020-03-08 14:10:00</th>\n",
       "      <td>6.233531</td>\n",
       "      <td>1.136930</td>\n",
       "    </tr>\n",
       "    <tr>\n",
       "      <th>2020-03-08 14:20:00</th>\n",
       "      <td>7.947414</td>\n",
       "      <td>0.370911</td>\n",
       "    </tr>\n",
       "    <tr>\n",
       "      <th>2020-03-08 14:30:00</th>\n",
       "      <td>9.924823</td>\n",
       "      <td>0.121689</td>\n",
       "    </tr>\n",
       "  </tbody>\n",
       "</table>\n",
       "</div>"
      ],
      "text/plain": [
       "                     concentration_x  concentration_y\n",
       "2020-03-08 13:30:00         0.543742         4.882993\n",
       "2020-03-08 13:40:00         0.622898         3.454943\n",
       "2020-03-08 13:50:00         2.148157         2.660763\n",
       "2020-03-08 14:00:00         4.197829         1.760587\n",
       "2020-03-08 14:10:00         6.233531         1.136930\n",
       "2020-03-08 14:20:00         7.947414         0.370911\n",
       "2020-03-08 14:30:00         9.924823         0.121689"
      ]
     },
     "execution_count": 39,
     "metadata": {},
     "output_type": "execute_result"
    }
   ],
   "source": [
    "experiment_resample = experiment.resample(\"10min\")\n",
    "experiment_resample.min()"
   ]
  },
  {
   "cell_type": "markdown",
   "metadata": {},
   "source": [
    "---"
   ]
  }
 ],
 "metadata": {
  "kernelspec": {
   "display_name": "Python 3 (ipykernel)",
   "language": "python",
   "name": "python3"
  },
  "language_info": {
   "codemirror_mode": {
    "name": "ipython",
    "version": 3
   },
   "file_extension": ".py",
   "mimetype": "text/x-python",
   "name": "python",
   "nbconvert_exporter": "python",
   "pygments_lexer": "ipython3",
   "version": "3.11.4"
  }
 },
 "nbformat": 4,
 "nbformat_minor": 4
}
